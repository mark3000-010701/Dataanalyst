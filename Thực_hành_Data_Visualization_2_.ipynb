{
  "nbformat": 4,
  "nbformat_minor": 0,
  "metadata": {
    "colab": {
      "name": "Thực hành Data Visualization 2 .ipynb",
      "provenance": [],
      "collapsed_sections": [],
      "authorship_tag": "ABX9TyMJdaWPxHUzAvFKPnP0aNcd",
      "include_colab_link": true
    },
    "kernelspec": {
      "name": "python3",
      "display_name": "Python 3"
    },
    "language_info": {
      "name": "python"
    }
  },
  "cells": [
    {
      "cell_type": "markdown",
      "metadata": {
        "id": "view-in-github",
        "colab_type": "text"
      },
      "source": [
        "<a href=\"https://colab.research.google.com/github/mark3000-010701/Dataanalyst/blob/main/Th%E1%BB%B1c_h%C3%A0nh_Data_Visualization_2_.ipynb\" target=\"_parent\"><img src=\"https://colab.research.google.com/assets/colab-badge.svg\" alt=\"Open In Colab\"/></a>"
      ]
    },
    {
      "cell_type": "markdown",
      "source": [
        "# **[Thực hành] Vẽ đồ thị kết hợp – Food Price in Turkey**"
      ],
      "metadata": {
        "id": "RRk8uFCwJRbG"
      }
    },
    {
      "cell_type": "code",
      "execution_count": 1,
      "metadata": {
        "id": "5enBsxEqI441"
      },
      "outputs": [],
      "source": [
        "import pandas as pd\n",
        "import matplotlib.pyplot as plt"
      ]
    },
    {
      "cell_type": "code",
      "source": [
        "d = pd.read_csv(\"https://s3.ap-southeast-1.amazonaws.com/learn.codegym.vn/media/public/2021/12/31021019/FoodPrice_in_Turkey.csv\")\n",
        "d"
      ],
      "metadata": {
        "colab": {
          "base_uri": "https://localhost:8080/",
          "height": 423
        },
        "id": "5lrTnYYOJZmL",
        "outputId": "8d66366d-708f-4390-92dd-75039589c209"
      },
      "execution_count": 3,
      "outputs": [
        {
          "output_type": "execute_result",
          "data": {
            "text/plain": [
              "                 Place  ProductId              ProductName  UmId UmName  \\\n",
              "0     National Average         52            Rice - Retail     5     KG   \n",
              "1     National Average         52            Rice - Retail     5     KG   \n",
              "2     National Average         52            Rice - Retail     5     KG   \n",
              "3     National Average         52            Rice - Retail     5     KG   \n",
              "4     National Average         52            Rice - Retail     5     KG   \n",
              "...                ...        ...                      ...   ...    ...   \n",
              "7376             Izmir        502  Cocoa (powder) - Retail     5     KG   \n",
              "7377             Izmir        502  Cocoa (powder) - Retail     5     KG   \n",
              "7378             Izmir        502  Cocoa (powder) - Retail     5     KG   \n",
              "7379             Izmir        502  Cocoa (powder) - Retail     5     KG   \n",
              "7380             Izmir        502  Cocoa (powder) - Retail     5     KG   \n",
              "\n",
              "      Month  Year    Price  \n",
              "0         5  2013   4.4920  \n",
              "1         6  2013   4.5786  \n",
              "2        11  2013   4.7865  \n",
              "3        12  2013   5.1337  \n",
              "4         1  2014   5.5099  \n",
              "...     ...   ...      ...  \n",
              "7376      8  2019  47.9040  \n",
              "7377      9  2019  49.1176  \n",
              "7378     10  2019  50.8347  \n",
              "7379     11  2019  51.7985  \n",
              "7380     12  2019  51.6071  \n",
              "\n",
              "[7381 rows x 8 columns]"
            ],
            "text/html": [
              "\n",
              "  <div id=\"df-24705923-f5be-46bb-a4e4-1d20e818035b\">\n",
              "    <div class=\"colab-df-container\">\n",
              "      <div>\n",
              "<style scoped>\n",
              "    .dataframe tbody tr th:only-of-type {\n",
              "        vertical-align: middle;\n",
              "    }\n",
              "\n",
              "    .dataframe tbody tr th {\n",
              "        vertical-align: top;\n",
              "    }\n",
              "\n",
              "    .dataframe thead th {\n",
              "        text-align: right;\n",
              "    }\n",
              "</style>\n",
              "<table border=\"1\" class=\"dataframe\">\n",
              "  <thead>\n",
              "    <tr style=\"text-align: right;\">\n",
              "      <th></th>\n",
              "      <th>Place</th>\n",
              "      <th>ProductId</th>\n",
              "      <th>ProductName</th>\n",
              "      <th>UmId</th>\n",
              "      <th>UmName</th>\n",
              "      <th>Month</th>\n",
              "      <th>Year</th>\n",
              "      <th>Price</th>\n",
              "    </tr>\n",
              "  </thead>\n",
              "  <tbody>\n",
              "    <tr>\n",
              "      <th>0</th>\n",
              "      <td>National Average</td>\n",
              "      <td>52</td>\n",
              "      <td>Rice - Retail</td>\n",
              "      <td>5</td>\n",
              "      <td>KG</td>\n",
              "      <td>5</td>\n",
              "      <td>2013</td>\n",
              "      <td>4.4920</td>\n",
              "    </tr>\n",
              "    <tr>\n",
              "      <th>1</th>\n",
              "      <td>National Average</td>\n",
              "      <td>52</td>\n",
              "      <td>Rice - Retail</td>\n",
              "      <td>5</td>\n",
              "      <td>KG</td>\n",
              "      <td>6</td>\n",
              "      <td>2013</td>\n",
              "      <td>4.5786</td>\n",
              "    </tr>\n",
              "    <tr>\n",
              "      <th>2</th>\n",
              "      <td>National Average</td>\n",
              "      <td>52</td>\n",
              "      <td>Rice - Retail</td>\n",
              "      <td>5</td>\n",
              "      <td>KG</td>\n",
              "      <td>11</td>\n",
              "      <td>2013</td>\n",
              "      <td>4.7865</td>\n",
              "    </tr>\n",
              "    <tr>\n",
              "      <th>3</th>\n",
              "      <td>National Average</td>\n",
              "      <td>52</td>\n",
              "      <td>Rice - Retail</td>\n",
              "      <td>5</td>\n",
              "      <td>KG</td>\n",
              "      <td>12</td>\n",
              "      <td>2013</td>\n",
              "      <td>5.1337</td>\n",
              "    </tr>\n",
              "    <tr>\n",
              "      <th>4</th>\n",
              "      <td>National Average</td>\n",
              "      <td>52</td>\n",
              "      <td>Rice - Retail</td>\n",
              "      <td>5</td>\n",
              "      <td>KG</td>\n",
              "      <td>1</td>\n",
              "      <td>2014</td>\n",
              "      <td>5.5099</td>\n",
              "    </tr>\n",
              "    <tr>\n",
              "      <th>...</th>\n",
              "      <td>...</td>\n",
              "      <td>...</td>\n",
              "      <td>...</td>\n",
              "      <td>...</td>\n",
              "      <td>...</td>\n",
              "      <td>...</td>\n",
              "      <td>...</td>\n",
              "      <td>...</td>\n",
              "    </tr>\n",
              "    <tr>\n",
              "      <th>7376</th>\n",
              "      <td>Izmir</td>\n",
              "      <td>502</td>\n",
              "      <td>Cocoa (powder) - Retail</td>\n",
              "      <td>5</td>\n",
              "      <td>KG</td>\n",
              "      <td>8</td>\n",
              "      <td>2019</td>\n",
              "      <td>47.9040</td>\n",
              "    </tr>\n",
              "    <tr>\n",
              "      <th>7377</th>\n",
              "      <td>Izmir</td>\n",
              "      <td>502</td>\n",
              "      <td>Cocoa (powder) - Retail</td>\n",
              "      <td>5</td>\n",
              "      <td>KG</td>\n",
              "      <td>9</td>\n",
              "      <td>2019</td>\n",
              "      <td>49.1176</td>\n",
              "    </tr>\n",
              "    <tr>\n",
              "      <th>7378</th>\n",
              "      <td>Izmir</td>\n",
              "      <td>502</td>\n",
              "      <td>Cocoa (powder) - Retail</td>\n",
              "      <td>5</td>\n",
              "      <td>KG</td>\n",
              "      <td>10</td>\n",
              "      <td>2019</td>\n",
              "      <td>50.8347</td>\n",
              "    </tr>\n",
              "    <tr>\n",
              "      <th>7379</th>\n",
              "      <td>Izmir</td>\n",
              "      <td>502</td>\n",
              "      <td>Cocoa (powder) - Retail</td>\n",
              "      <td>5</td>\n",
              "      <td>KG</td>\n",
              "      <td>11</td>\n",
              "      <td>2019</td>\n",
              "      <td>51.7985</td>\n",
              "    </tr>\n",
              "    <tr>\n",
              "      <th>7380</th>\n",
              "      <td>Izmir</td>\n",
              "      <td>502</td>\n",
              "      <td>Cocoa (powder) - Retail</td>\n",
              "      <td>5</td>\n",
              "      <td>KG</td>\n",
              "      <td>12</td>\n",
              "      <td>2019</td>\n",
              "      <td>51.6071</td>\n",
              "    </tr>\n",
              "  </tbody>\n",
              "</table>\n",
              "<p>7381 rows × 8 columns</p>\n",
              "</div>\n",
              "      <button class=\"colab-df-convert\" onclick=\"convertToInteractive('df-24705923-f5be-46bb-a4e4-1d20e818035b')\"\n",
              "              title=\"Convert this dataframe to an interactive table.\"\n",
              "              style=\"display:none;\">\n",
              "        \n",
              "  <svg xmlns=\"http://www.w3.org/2000/svg\" height=\"24px\"viewBox=\"0 0 24 24\"\n",
              "       width=\"24px\">\n",
              "    <path d=\"M0 0h24v24H0V0z\" fill=\"none\"/>\n",
              "    <path d=\"M18.56 5.44l.94 2.06.94-2.06 2.06-.94-2.06-.94-.94-2.06-.94 2.06-2.06.94zm-11 1L8.5 8.5l.94-2.06 2.06-.94-2.06-.94L8.5 2.5l-.94 2.06-2.06.94zm10 10l.94 2.06.94-2.06 2.06-.94-2.06-.94-.94-2.06-.94 2.06-2.06.94z\"/><path d=\"M17.41 7.96l-1.37-1.37c-.4-.4-.92-.59-1.43-.59-.52 0-1.04.2-1.43.59L10.3 9.45l-7.72 7.72c-.78.78-.78 2.05 0 2.83L4 21.41c.39.39.9.59 1.41.59.51 0 1.02-.2 1.41-.59l7.78-7.78 2.81-2.81c.8-.78.8-2.07 0-2.86zM5.41 20L4 18.59l7.72-7.72 1.47 1.35L5.41 20z\"/>\n",
              "  </svg>\n",
              "      </button>\n",
              "      \n",
              "  <style>\n",
              "    .colab-df-container {\n",
              "      display:flex;\n",
              "      flex-wrap:wrap;\n",
              "      gap: 12px;\n",
              "    }\n",
              "\n",
              "    .colab-df-convert {\n",
              "      background-color: #E8F0FE;\n",
              "      border: none;\n",
              "      border-radius: 50%;\n",
              "      cursor: pointer;\n",
              "      display: none;\n",
              "      fill: #1967D2;\n",
              "      height: 32px;\n",
              "      padding: 0 0 0 0;\n",
              "      width: 32px;\n",
              "    }\n",
              "\n",
              "    .colab-df-convert:hover {\n",
              "      background-color: #E2EBFA;\n",
              "      box-shadow: 0px 1px 2px rgba(60, 64, 67, 0.3), 0px 1px 3px 1px rgba(60, 64, 67, 0.15);\n",
              "      fill: #174EA6;\n",
              "    }\n",
              "\n",
              "    [theme=dark] .colab-df-convert {\n",
              "      background-color: #3B4455;\n",
              "      fill: #D2E3FC;\n",
              "    }\n",
              "\n",
              "    [theme=dark] .colab-df-convert:hover {\n",
              "      background-color: #434B5C;\n",
              "      box-shadow: 0px 1px 3px 1px rgba(0, 0, 0, 0.15);\n",
              "      filter: drop-shadow(0px 1px 2px rgba(0, 0, 0, 0.3));\n",
              "      fill: #FFFFFF;\n",
              "    }\n",
              "  </style>\n",
              "\n",
              "      <script>\n",
              "        const buttonEl =\n",
              "          document.querySelector('#df-24705923-f5be-46bb-a4e4-1d20e818035b button.colab-df-convert');\n",
              "        buttonEl.style.display =\n",
              "          google.colab.kernel.accessAllowed ? 'block' : 'none';\n",
              "\n",
              "        async function convertToInteractive(key) {\n",
              "          const element = document.querySelector('#df-24705923-f5be-46bb-a4e4-1d20e818035b');\n",
              "          const dataTable =\n",
              "            await google.colab.kernel.invokeFunction('convertToInteractive',\n",
              "                                                     [key], {});\n",
              "          if (!dataTable) return;\n",
              "\n",
              "          const docLinkHtml = 'Like what you see? Visit the ' +\n",
              "            '<a target=\"_blank\" href=https://colab.research.google.com/notebooks/data_table.ipynb>data table notebook</a>'\n",
              "            + ' to learn more about interactive tables.';\n",
              "          element.innerHTML = '';\n",
              "          dataTable['output_type'] = 'display_data';\n",
              "          await google.colab.output.renderOutput(dataTable, element);\n",
              "          const docLink = document.createElement('div');\n",
              "          docLink.innerHTML = docLinkHtml;\n",
              "          element.appendChild(docLink);\n",
              "        }\n",
              "      </script>\n",
              "    </div>\n",
              "  </div>\n",
              "  "
            ]
          },
          "metadata": {},
          "execution_count": 3
        }
      ]
    },
    {
      "cell_type": "markdown",
      "source": [
        "Lấy dữ liệu cần thiết cho mục tiêu 1"
      ],
      "metadata": {
        "id": "VlblFgMRJnqb"
      }
    },
    {
      "cell_type": "code",
      "source": [
        "d11 = d[(d['Year'] == 2019) & (d['Month'] == 12) & (d['ProductName'] == 'Milk (powder, infant formula) - Retail')].reset_index()\n",
        "d12 = d[(d['Year'] == 2019) & (d['Month'] == 12) & (d['ProductName'] == 'Fuel (gas) - Retail')].reset_index()\n",
        "data1 = pd.DataFrame({'x': d11['Place'], 'y1': d11['Price'], 'y2': d12['Price']})"
      ],
      "metadata": {
        "id": "cTutBCXMJois"
      },
      "execution_count": 4,
      "outputs": []
    },
    {
      "cell_type": "markdown",
      "source": [
        "Vẽ biểu đồ"
      ],
      "metadata": {
        "id": "mat4O0gvJvCz"
      }
    },
    {
      "cell_type": "code",
      "source": [
        "data1.plot(x = 'x', y = ['y1', 'y2'], kind = 'bar')\n",
        "plt.title('Milk and Gas Price in 12/2019', fontsize = 16, color = 'r')\n",
        "plt.xlabel('Place', fontsize = 14)\n",
        "plt.ylabel('Price', fontsize = 14)\n",
        "plt.show()"
      ],
      "metadata": {
        "colab": {
          "base_uri": "https://localhost:8080/",
          "height": 377
        },
        "id": "5oOZFQPPJvca",
        "outputId": "53f41913-f927-4762-9aee-634690327587"
      },
      "execution_count": 5,
      "outputs": [
        {
          "output_type": "display_data",
          "data": {
            "text/plain": [
              "<Figure size 432x288 with 1 Axes>"
            ],
            "image/png": "[encoded data removed]"
          },
          "metadata": {
            "needs_background": "light"
          }
        }
      ]
    },
    {
      "cell_type": "markdown",
      "source": [
        "Lấy dữ liệu cho mục tiêu 2 và 3"
      ],
      "metadata": {
        "id": "_Jdh8FmoJ15S"
      }
    },
    {
      "cell_type": "code",
      "source": [
        "d21 = d[(d['Place'] == 'National Average') & (d['Year'] == 2016) & (d['ProductName'] == 'Milk (powder, infant formula) - Retail')]\n",
        "d22 = d[(d['Place'] == 'National Average') & (d['Year'] == 2016) & (d['ProductName'] == 'Fuel (gas) - Retail')]\n",
        "d23 = d[(d['Place'] == 'National Average') & (d['Year'] == 2018) & (d['ProductName'] == 'Milk (powder, infant formula) - Retail')]\n",
        "d24 = d[(d['Place'] == 'National Average') & (d['Year'] == 2018) & (d['ProductName'] == 'Fuel (gas) - Retail')]\n",
        "d25 = d[(d['Place'] == 'National Average') & (d['Year'] == 2019) & (d['ProductName'] == 'Milk (powder, infant formula) - Retail')]\n",
        "d26 = d[(d['Place'] == 'National Average') & (d['Year'] == 2019) & (d['ProductName'] == 'Fuel (gas) - Retail')]\n",
        "\n",
        "d31 = d[(d['Place'] == 'National Average') & (d['ProductName'] == 'Fuel (gas) - Retail') & (d['Year'] == 2016)]\n",
        "d32 = d[(d['Place'] == 'National Average') & (d['ProductName'] == 'Milk (powder, infant formula) - Retail') & (d['Year'] == 2016)]\n",
        "d33 = d[(d['Place'] == 'National Average') & (d['ProductName'] == 'Fuel (gas) - Retail') & (d['Year'] == 2018)]\n",
        "d34 = d[(d['Place'] == 'National Average') & (d['ProductName'] == 'Milk (powder, infant formula) - Retail') & (d['Year'] == 2018)]\n",
        "d35 = d[(d['Place'] == 'National Average') & (d['ProductName'] == 'Fuel (gas) - Retail') & (d['Year'] == 2019)]\n",
        "d36 = d[(d['Place'] == 'National Average') & (d['ProductName'] == 'Milk (powder, infant formula) - Retail') & (d['Year'] == 2019)]"
      ],
      "metadata": {
        "id": "jYtxqDykJ2gi"
      },
      "execution_count": 6,
      "outputs": []
    },
    {
      "cell_type": "markdown",
      "source": [
        "Vẽ biểu đồ kết hợp"
      ],
      "metadata": {
        "id": "DejHlhXTJ7ID"
      }
    },
    {
      "cell_type": "code",
      "source": [
        "fig, ax = plt.subplots(3, 2)\n",
        "ax[0][0].plot(d21['Month'], d21['Price'], marker = '*', label = 'Milk-2016')\n",
        "ax[0][0].plot(d22['Month'], d22['Price'], marker = 's', label = 'Gas-2016')\n",
        "ax[0][0].set_ylabel('Price')\n",
        "ax[0][0].set_xticklabels([])\n",
        "ax[0][0].set_title('2016')\n",
        "\n",
        "ax[1][0].plot(d23['Month'], d23['Price'], marker = '*', label = 'Milk-2018')\n",
        "ax[1][0].plot(d24['Month'], d24['Price'], marker = 's', label = 'Gas-2018')\n",
        "ax[1][0].set_ylabel('Price')\n",
        "ax[1][0].set_xticklabels([])\n",
        "ax[1][0].set_title('2018')\n",
        "\n",
        "ax[2][0].plot(d25['Month'], d25['Price'], marker = '*', label = 'Milk')\n",
        "ax[2][0].plot(d26['Month'], d26['Price'], marker = 's', label = 'Gas')\n",
        "ax[2][0].set_ylabel('Price')\n",
        "ax[2][0].set_xlabel('Month')\n",
        "ax[2][0].legend()\n",
        "ax[2][0].set_title('2019')\n",
        "\n",
        "ax[0][1].scatter(d31['Price'], d32['Price'])\n",
        "ax[0][1].set_title('2016')\n",
        "ax[0][1].set_ylabel('Rice')\n",
        "ax[0][1].set_xticklabels([])\n",
        "\n",
        "ax[1][1].scatter(d33['Month'], d34['Price'])\n",
        "ax[1][1].set_title('2018')\n",
        "ax[1][1].set_xticklabels([])\n",
        "\n",
        "ax[2][1].scatter(d35['Month'], d36['Price'])\n",
        "ax[2][1].set_title('2019')\n",
        "ax[2][1].set_xlabel('Gas')\n",
        "plt.show()"
      ],
      "metadata": {
        "colab": {
          "base_uri": "https://localhost:8080/",
          "height": 295
        },
        "id": "KKofrTHKJ-KU",
        "outputId": "4e699596-0904-437a-e5ad-9983a7f3f86d"
      },
      "execution_count": 7,
      "outputs": [
        {
          "output_type": "display_data",
          "data": {
            "text/plain": [
              "<Figure size 432x288 with 6 Axes>"
            ],
            "image/png": "[encoded data removed]"
          },
          "metadata": {
            "needs_background": "light"
          }
        }
      ]
    },
    {
      "cell_type": "markdown",
      "source": [
        ""
      ],
      "metadata": {
        "id": "qbPOKF2DKCPc"
      }
    }
  ]
}