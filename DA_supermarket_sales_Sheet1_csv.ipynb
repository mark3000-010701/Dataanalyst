{
  "nbformat": 4,
  "nbformat_minor": 0,
  "metadata": {
    "colab": {
      "name": "DA supermarket_sales - Sheet1.csv.ipynb",
      "provenance": [],
      "collapsed_sections": [],
      "authorship_tag": "ABX9TyPNSwr5WWpWjcx+4BqZSObQ",
      "include_colab_link": true
    },
    "kernelspec": {
      "name": "python3",
      "display_name": "Python 3"
    },
    "language_info": {
      "name": "python"
    }
  },
  "cells": [
    {
      "cell_type": "markdown",
      "metadata": {
        "id": "view-in-github",
        "colab_type": "text"
      },
      "source": [
        "<a href=\"https://colab.research.google.com/github/mark3000-010701/Dataanalyst/blob/main/DA_supermarket_sales_Sheet1_csv.ipynb\" target=\"_parent\"><img src=\"https://colab.research.google.com/assets/colab-badge.svg\" alt=\"Open In Colab\"/></a>"
      ]
    },
    {
      "cell_type": "code",
      "execution_count": 2,
      "metadata": {
        "id": "44ofLOwCgvbD"
      },
      "outputs": [],
      "source": [
        "import pandas as pd\n",
        "import matplotlib.pyplot as plt\n",
        "import seaborn as sns\n",
        "import numpy as np"
      ]
    },
    {
      "cell_type": "code",
      "source": [
        "df = pd.read_csv('/content/supermarket_sales - Sheet1.csv')"
      ],
      "metadata": {
        "id": "2J6KRspHhJXf"
      },
      "execution_count": 4,
      "outputs": []
    },
    {
      "cell_type": "code",
      "source": [
        "df.head()"
      ],
      "metadata": {
        "colab": {
          "base_uri": "https://localhost:8080/",
          "height": 337
        },
        "id": "6BXIfhFhhSZA",
        "outputId": "d0f59ff8-711f-4700-c92e-fc0dad4386ff"
      },
      "execution_count": 3,
      "outputs": [
        {
          "output_type": "execute_result",
          "data": {
            "text/html": [
              "\n",
              "  <div id=\"df-029e64e0-b270-44f3-9ee2-f0bc980d5db7\">\n",
              "    <div class=\"colab-df-container\">\n",
              "      <div>\n",
              "<style scoped>\n",
              "    .dataframe tbody tr th:only-of-type {\n",
              "        vertical-align: middle;\n",
              "    }\n",
              "\n",
              "    .dataframe tbody tr th {\n",
              "        vertical-align: top;\n",
              "    }\n",
              "\n",
              "    .dataframe thead th {\n",
              "        text-align: right;\n",
              "    }\n",
              "</style>\n",
              "<table border=\"1\" class=\"dataframe\">\n",
              "  <thead>\n",
              "    <tr style=\"text-align: right;\">\n",
              "      <th></th>\n",
              "      <th>Invoice ID</th>\n",
              "      <th>Branch</th>\n",
              "      <th>City</th>\n",
              "      <th>Customer type</th>\n",
              "      <th>Gender</th>\n",
              "      <th>Product line</th>\n",
              "      <th>Unit price</th>\n",
              "      <th>Quantity</th>\n",
              "      <th>Tax 5%</th>\n",
              "      <th>Total</th>\n",
              "      <th>Date</th>\n",
              "      <th>Time</th>\n",
              "      <th>Payment</th>\n",
              "      <th>cogs</th>\n",
              "      <th>gross margin percentage</th>\n",
              "      <th>gross income</th>\n",
              "      <th>Rating</th>\n",
              "    </tr>\n",
              "  </thead>\n",
              "  <tbody>\n",
              "    <tr>\n",
              "      <th>0</th>\n",
              "      <td>750-67-8428</td>\n",
              "      <td>A</td>\n",
              "      <td>Yangon</td>\n",
              "      <td>Member</td>\n",
              "      <td>Female</td>\n",
              "      <td>Health and beauty</td>\n",
              "      <td>74.69</td>\n",
              "      <td>7</td>\n",
              "      <td>26.1415</td>\n",
              "      <td>548.9715</td>\n",
              "      <td>1/5/2019</td>\n",
              "      <td>13:08</td>\n",
              "      <td>Ewallet</td>\n",
              "      <td>522.83</td>\n",
              "      <td>4.761905</td>\n",
              "      <td>26.1415</td>\n",
              "      <td>9.1</td>\n",
              "    </tr>\n",
              "    <tr>\n",
              "      <th>1</th>\n",
              "      <td>226-31-3081</td>\n",
              "      <td>C</td>\n",
              "      <td>Naypyitaw</td>\n",
              "      <td>Normal</td>\n",
              "      <td>Female</td>\n",
              "      <td>Electronic accessories</td>\n",
              "      <td>15.28</td>\n",
              "      <td>5</td>\n",
              "      <td>3.8200</td>\n",
              "      <td>80.2200</td>\n",
              "      <td>3/8/2019</td>\n",
              "      <td>10:29</td>\n",
              "      <td>Cash</td>\n",
              "      <td>76.40</td>\n",
              "      <td>4.761905</td>\n",
              "      <td>3.8200</td>\n",
              "      <td>9.6</td>\n",
              "    </tr>\n",
              "    <tr>\n",
              "      <th>2</th>\n",
              "      <td>631-41-3108</td>\n",
              "      <td>A</td>\n",
              "      <td>Yangon</td>\n",
              "      <td>Normal</td>\n",
              "      <td>Male</td>\n",
              "      <td>Home and lifestyle</td>\n",
              "      <td>46.33</td>\n",
              "      <td>7</td>\n",
              "      <td>16.2155</td>\n",
              "      <td>340.5255</td>\n",
              "      <td>3/3/2019</td>\n",
              "      <td>13:23</td>\n",
              "      <td>Credit card</td>\n",
              "      <td>324.31</td>\n",
              "      <td>4.761905</td>\n",
              "      <td>16.2155</td>\n",
              "      <td>7.4</td>\n",
              "    </tr>\n",
              "    <tr>\n",
              "      <th>3</th>\n",
              "      <td>123-19-1176</td>\n",
              "      <td>A</td>\n",
              "      <td>Yangon</td>\n",
              "      <td>Member</td>\n",
              "      <td>Male</td>\n",
              "      <td>Health and beauty</td>\n",
              "      <td>58.22</td>\n",
              "      <td>8</td>\n",
              "      <td>23.2880</td>\n",
              "      <td>489.0480</td>\n",
              "      <td>1/27/2019</td>\n",
              "      <td>20:33</td>\n",
              "      <td>Ewallet</td>\n",
              "      <td>465.76</td>\n",
              "      <td>4.761905</td>\n",
              "      <td>23.2880</td>\n",
              "      <td>8.4</td>\n",
              "    </tr>\n",
              "    <tr>\n",
              "      <th>4</th>\n",
              "      <td>373-73-7910</td>\n",
              "      <td>A</td>\n",
              "      <td>Yangon</td>\n",
              "      <td>Normal</td>\n",
              "      <td>Male</td>\n",
              "      <td>Sports and travel</td>\n",
              "      <td>86.31</td>\n",
              "      <td>7</td>\n",
              "      <td>30.2085</td>\n",
              "      <td>634.3785</td>\n",
              "      <td>2/8/2019</td>\n",
              "      <td>10:37</td>\n",
              "      <td>Ewallet</td>\n",
              "      <td>604.17</td>\n",
              "      <td>4.761905</td>\n",
              "      <td>30.2085</td>\n",
              "      <td>5.3</td>\n",
              "    </tr>\n",
              "  </tbody>\n",
              "</table>\n",
              "</div>\n",
              "      <button class=\"colab-df-convert\" onclick=\"convertToInteractive('df-029e64e0-b270-44f3-9ee2-f0bc980d5db7')\"\n",
              "              title=\"Convert this dataframe to an interactive table.\"\n",
              "              style=\"display:none;\">\n",
              "        \n",
              "  <svg xmlns=\"http://www.w3.org/2000/svg\" height=\"24px\"viewBox=\"0 0 24 24\"\n",
              "       width=\"24px\">\n",
              "    <path d=\"M0 0h24v24H0V0z\" fill=\"none\"/>\n",
              "    <path d=\"M18.56 5.44l.94 2.06.94-2.06 2.06-.94-2.06-.94-.94-2.06-.94 2.06-2.06.94zm-11 1L8.5 8.5l.94-2.06 2.06-.94-2.06-.94L8.5 2.5l-.94 2.06-2.06.94zm10 10l.94 2.06.94-2.06 2.06-.94-2.06-.94-.94-2.06-.94 2.06-2.06.94z\"/><path d=\"M17.41 7.96l-1.37-1.37c-.4-.4-.92-.59-1.43-.59-.52 0-1.04.2-1.43.59L10.3 9.45l-7.72 7.72c-.78.78-.78 2.05 0 2.83L4 21.41c.39.39.9.59 1.41.59.51 0 1.02-.2 1.41-.59l7.78-7.78 2.81-2.81c.8-.78.8-2.07 0-2.86zM5.41 20L4 18.59l7.72-7.72 1.47 1.35L5.41 20z\"/>\n",
              "  </svg>\n",
              "      </button>\n",
              "      \n",
              "  <style>\n",
              "    .colab-df-container {\n",
              "      display:flex;\n",
              "      flex-wrap:wrap;\n",
              "      gap: 12px;\n",
              "    }\n",
              "\n",
              "    .colab-df-convert {\n",
              "      background-color: #E8F0FE;\n",
              "      border: none;\n",
              "      border-radius: 50%;\n",
              "      cursor: pointer;\n",
              "      display: none;\n",
              "      fill: #1967D2;\n",
              "      height: 32px;\n",
              "      padding: 0 0 0 0;\n",
              "      width: 32px;\n",
              "    }\n",
              "\n",
              "    .colab-df-convert:hover {\n",
              "      background-color: #E2EBFA;\n",
              "      box-shadow: 0px 1px 2px rgba(60, 64, 67, 0.3), 0px 1px 3px 1px rgba(60, 64, 67, 0.15);\n",
              "      fill: #174EA6;\n",
              "    }\n",
              "\n",
              "    [theme=dark] .colab-df-convert {\n",
              "      background-color: #3B4455;\n",
              "      fill: #D2E3FC;\n",
              "    }\n",
              "\n",
              "    [theme=dark] .colab-df-convert:hover {\n",
              "      background-color: #434B5C;\n",
              "      box-shadow: 0px 1px 3px 1px rgba(0, 0, 0, 0.15);\n",
              "      filter: drop-shadow(0px 1px 2px rgba(0, 0, 0, 0.3));\n",
              "      fill: #FFFFFF;\n",
              "    }\n",
              "  </style>\n",
              "\n",
              "      <script>\n",
              "        const buttonEl =\n",
              "          document.querySelector('#df-029e64e0-b270-44f3-9ee2-f0bc980d5db7 button.colab-df-convert');\n",
              "        buttonEl.style.display =\n",
              "          google.colab.kernel.accessAllowed ? 'block' : 'none';\n",
              "\n",
              "        async function convertToInteractive(key) {\n",
              "          const element = document.querySelector('#df-029e64e0-b270-44f3-9ee2-f0bc980d5db7');\n",
              "          const dataTable =\n",
              "            await google.colab.kernel.invokeFunction('convertToInteractive',\n",
              "                                                     [key], {});\n",
              "          if (!dataTable) return;\n",
              "\n",
              "          const docLinkHtml = 'Like what you see? Visit the ' +\n",
              "            '<a target=\"_blank\" href=https://colab.research.google.com/notebooks/data_table.ipynb>data table notebook</a>'\n",
              "            + ' to learn more about interactive tables.';\n",
              "          element.innerHTML = '';\n",
              "          dataTable['output_type'] = 'display_data';\n",
              "          await google.colab.output.renderOutput(dataTable, element);\n",
              "          const docLink = document.createElement('div');\n",
              "          docLink.innerHTML = docLinkHtml;\n",
              "          element.appendChild(docLink);\n",
              "        }\n",
              "      </script>\n",
              "    </div>\n",
              "  </div>\n",
              "  "
            ],
            "text/plain": [
              "    Invoice ID Branch       City  ... gross margin percentage gross income Rating\n",
              "0  750-67-8428      A     Yangon  ...                4.761905      26.1415    9.1\n",
              "1  226-31-3081      C  Naypyitaw  ...                4.761905       3.8200    9.6\n",
              "2  631-41-3108      A     Yangon  ...                4.761905      16.2155    7.4\n",
              "3  123-19-1176      A     Yangon  ...                4.761905      23.2880    8.4\n",
              "4  373-73-7910      A     Yangon  ...                4.761905      30.2085    5.3\n",
              "\n",
              "[5 rows x 17 columns]"
            ]
          },
          "metadata": {},
          "execution_count": 3
        }
      ]
    },
    {
      "cell_type": "code",
      "source": [
        "df.info()"
      ],
      "metadata": {
        "colab": {
          "base_uri": "https://localhost:8080/"
        },
        "id": "v_7qrnPEhaK1",
        "outputId": "d11c45d8-3c28-4183-b8c6-62db5469f291"
      },
      "execution_count": 4,
      "outputs": [
        {
          "output_type": "stream",
          "name": "stdout",
          "text": [
            "<class 'pandas.core.frame.DataFrame'>\n",
            "RangeIndex: 1000 entries, 0 to 999\n",
            "Data columns (total 17 columns):\n",
            " #   Column                   Non-Null Count  Dtype  \n",
            "---  ------                   --------------  -----  \n",
            " 0   Invoice ID               1000 non-null   object \n",
            " 1   Branch                   1000 non-null   object \n",
            " 2   City                     1000 non-null   object \n",
            " 3   Customer type            1000 non-null   object \n",
            " 4   Gender                   1000 non-null   object \n",
            " 5   Product line             1000 non-null   object \n",
            " 6   Unit price               1000 non-null   float64\n",
            " 7   Quantity                 1000 non-null   int64  \n",
            " 8   Tax 5%                   1000 non-null   float64\n",
            " 9   Total                    1000 non-null   float64\n",
            " 10  Date                     1000 non-null   object \n",
            " 11  Time                     1000 non-null   object \n",
            " 12  Payment                  1000 non-null   object \n",
            " 13  cogs                     1000 non-null   float64\n",
            " 14  gross margin percentage  1000 non-null   float64\n",
            " 15  gross income             1000 non-null   float64\n",
            " 16  Rating                   1000 non-null   float64\n",
            "dtypes: float64(7), int64(1), object(9)\n",
            "memory usage: 132.9+ KB\n"
          ]
        }
      ]
    },
    {
      "cell_type": "code",
      "source": [
        "df.shape"
      ],
      "metadata": {
        "colab": {
          "base_uri": "https://localhost:8080/"
        },
        "id": "Cck5TBT6iIw2",
        "outputId": "8e7928d2-aad6-4874-c4c3-3dbfffad5587"
      },
      "execution_count": 5,
      "outputs": [
        {
          "output_type": "execute_result",
          "data": {
            "text/plain": [
              "(1000, 17)"
            ]
          },
          "metadata": {},
          "execution_count": 5
        }
      ]
    },
    {
      "cell_type": "code",
      "source": [
        "df.columns"
      ],
      "metadata": {
        "colab": {
          "base_uri": "https://localhost:8080/"
        },
        "id": "A_hz2WwYiLMN",
        "outputId": "05b7ade0-21be-4135-ef3d-62acee698864"
      },
      "execution_count": 6,
      "outputs": [
        {
          "output_type": "execute_result",
          "data": {
            "text/plain": [
              "Index(['Invoice ID', 'Branch', 'City', 'Customer type', 'Gender',\n",
              "       'Product line', 'Unit price', 'Quantity', 'Tax 5%', 'Total', 'Date',\n",
              "       'Time', 'Payment', 'cogs', 'gross margin percentage', 'gross income',\n",
              "       'Rating'],\n",
              "      dtype='object')"
            ]
          },
          "metadata": {},
          "execution_count": 6
        }
      ]
    },
    {
      "cell_type": "markdown",
      "source": [
        "# 1. Thống kê tổng giá trị bán ra (Tính sum Cột Total) theo dòng sản phẩm (Product line) và theo từng ngày trong năm\n",
        "# 2. Thông kê lượng tiền qua các hình thức thanh toán"
      ],
      "metadata": {
        "id": "d6JZxsPjhkvT"
      }
    },
    {
      "cell_type": "code",
      "source": [
        "df.isnull().sum()"
      ],
      "metadata": {
        "colab": {
          "base_uri": "https://localhost:8080/"
        },
        "id": "l7cHlkjXhm2U",
        "outputId": "df6f5c7a-c5ef-47ce-c496-5bdb8c1b054e"
      },
      "execution_count": 5,
      "outputs": [
        {
          "output_type": "execute_result",
          "data": {
            "text/plain": [
              "Invoice ID                 0\n",
              "Branch                     0\n",
              "City                       0\n",
              "Customer type              0\n",
              "Gender                     0\n",
              "Product line               0\n",
              "Unit price                 0\n",
              "Quantity                   0\n",
              "Tax 5%                     0\n",
              "Total                      0\n",
              "Date                       0\n",
              "Time                       0\n",
              "Payment                    0\n",
              "cogs                       0\n",
              "gross margin percentage    0\n",
              "gross income               0\n",
              "Rating                     0\n",
              "dtype: int64"
            ]
          },
          "metadata": {},
          "execution_count": 5
        }
      ]
    },
    {
      "cell_type": "markdown",
      "source": [
        "# xử lí ngoại lai"
      ],
      "metadata": {
        "id": "65BlmbdOjryM"
      }
    },
    {
      "cell_type": "code",
      "source": [
        "\n",
        "df_to_plot = df.drop(columns = ['Customer type','Gender','Product line','Date','Time','Rating'])\n",
        "df_to_plot.plot(subplots =True, kind = 'box', layout = (4,4), figsize = (12,14),patch_artist=True)\n",
        "plt.subplots_adjust(wspace = 0.5)"
      ],
      "metadata": {
        "colab": {
          "base_uri": "https://localhost:8080/",
          "height": 412
        },
        "id": "433hY4D0jqy7",
        "outputId": "44c0955e-669d-4628-8269-a63fcf672669"
      },
      "execution_count": 6,
      "outputs": [
        {
          "output_type": "display_data",
          "data": {
            "image/png": "[encoded data removed]",
            "text/plain": [
              "<Figure size 864x1008 with 16 Axes>"
            ]
          },
          "metadata": {
            "needs_background": "light"
          }
        }
      ]
    },
    {
      "cell_type": "code",
      "source": [
        "df['gross margin percentage'].value_counts()"
      ],
      "metadata": {
        "colab": {
          "base_uri": "https://localhost:8080/"
        },
        "id": "GXHMSjCdkRe0",
        "outputId": "ffa587ea-f0fa-47db-be64-6c28819d0dc2"
      },
      "execution_count": 7,
      "outputs": [
        {
          "output_type": "execute_result",
          "data": {
            "text/plain": [
              "4.761905    1000\n",
              "Name: gross margin percentage, dtype: int64"
            ]
          },
          "metadata": {},
          "execution_count": 7
        }
      ]
    },
    {
      "cell_type": "code",
      "source": [
        "df.drop(columns = ['gross margin percentage','gross income'], inplace = True)"
      ],
      "metadata": {
        "id": "zXLX_laDkUQt"
      },
      "execution_count": 8,
      "outputs": []
    },
    {
      "cell_type": "code",
      "source": [
        "def outlier_detector(df):\n",
        "    Q1 = df.quantile(0.25)\n",
        "    Q3 = df.quantile(0.75)\n",
        "    IQR = Q3-Q1\n",
        "    df_final = df[~((df < (Q1-1.5*IQR)) | (df > (Q3+1.5*IQR)))]\n",
        "    return df_final"
      ],
      "metadata": {
        "id": "Q77CC-u5kfVd"
      },
      "execution_count": 9,
      "outputs": []
    },
    {
      "cell_type": "code",
      "source": [
        "df['Tax 5%'] = outlier_detector(df['Tax 5%'])\n",
        "df['Total']  = outlier_detector(df['Total']) \n",
        "df['cogs']   = outlier_detector(df['cogs'])\n",
        "df.dropna(axis = 'index', how = 'any', inplace = True)"
      ],
      "metadata": {
        "id": "N0W2eRuMkioT"
      },
      "execution_count": 10,
      "outputs": []
    },
    {
      "cell_type": "code",
      "source": [
        "df.head()"
      ],
      "metadata": {
        "colab": {
          "base_uri": "https://localhost:8080/",
          "height": 206
        },
        "id": "uEA8TPTbvdrB",
        "outputId": "791ed689-c5dd-4170-88c3-b5ad6a68eae6"
      },
      "execution_count": 11,
      "outputs": [
        {
          "output_type": "execute_result",
          "data": {
            "text/html": [
              "\n",
              "  <div id=\"df-ceb0fecf-2ba8-46cf-a5c0-2d39f38cc3fa\">\n",
              "    <div class=\"colab-df-container\">\n",
              "      <div>\n",
              "<style scoped>\n",
              "    .dataframe tbody tr th:only-of-type {\n",
              "        vertical-align: middle;\n",
              "    }\n",
              "\n",
              "    .dataframe tbody tr th {\n",
              "        vertical-align: top;\n",
              "    }\n",
              "\n",
              "    .dataframe thead th {\n",
              "        text-align: right;\n",
              "    }\n",
              "</style>\n",
              "<table border=\"1\" class=\"dataframe\">\n",
              "  <thead>\n",
              "    <tr style=\"text-align: right;\">\n",
              "      <th></th>\n",
              "      <th>Invoice ID</th>\n",
              "      <th>Branch</th>\n",
              "      <th>City</th>\n",
              "      <th>Customer type</th>\n",
              "      <th>Gender</th>\n",
              "      <th>Product line</th>\n",
              "      <th>Unit price</th>\n",
              "      <th>Quantity</th>\n",
              "      <th>Tax 5%</th>\n",
              "      <th>Total</th>\n",
              "      <th>Date</th>\n",
              "      <th>Time</th>\n",
              "      <th>Payment</th>\n",
              "      <th>cogs</th>\n",
              "      <th>Rating</th>\n",
              "    </tr>\n",
              "  </thead>\n",
              "  <tbody>\n",
              "    <tr>\n",
              "      <th>0</th>\n",
              "      <td>750-67-8428</td>\n",
              "      <td>A</td>\n",
              "      <td>Yangon</td>\n",
              "      <td>Member</td>\n",
              "      <td>Female</td>\n",
              "      <td>Health and beauty</td>\n",
              "      <td>74.69</td>\n",
              "      <td>7</td>\n",
              "      <td>26.1415</td>\n",
              "      <td>548.9715</td>\n",
              "      <td>1/5/2019</td>\n",
              "      <td>13:08</td>\n",
              "      <td>Ewallet</td>\n",
              "      <td>522.83</td>\n",
              "      <td>9.1</td>\n",
              "    </tr>\n",
              "    <tr>\n",
              "      <th>1</th>\n",
              "      <td>226-31-3081</td>\n",
              "      <td>C</td>\n",
              "      <td>Naypyitaw</td>\n",
              "      <td>Normal</td>\n",
              "      <td>Female</td>\n",
              "      <td>Electronic accessories</td>\n",
              "      <td>15.28</td>\n",
              "      <td>5</td>\n",
              "      <td>3.8200</td>\n",
              "      <td>80.2200</td>\n",
              "      <td>3/8/2019</td>\n",
              "      <td>10:29</td>\n",
              "      <td>Cash</td>\n",
              "      <td>76.40</td>\n",
              "      <td>9.6</td>\n",
              "    </tr>\n",
              "    <tr>\n",
              "      <th>2</th>\n",
              "      <td>631-41-3108</td>\n",
              "      <td>A</td>\n",
              "      <td>Yangon</td>\n",
              "      <td>Normal</td>\n",
              "      <td>Male</td>\n",
              "      <td>Home and lifestyle</td>\n",
              "      <td>46.33</td>\n",
              "      <td>7</td>\n",
              "      <td>16.2155</td>\n",
              "      <td>340.5255</td>\n",
              "      <td>3/3/2019</td>\n",
              "      <td>13:23</td>\n",
              "      <td>Credit card</td>\n",
              "      <td>324.31</td>\n",
              "      <td>7.4</td>\n",
              "    </tr>\n",
              "    <tr>\n",
              "      <th>3</th>\n",
              "      <td>123-19-1176</td>\n",
              "      <td>A</td>\n",
              "      <td>Yangon</td>\n",
              "      <td>Member</td>\n",
              "      <td>Male</td>\n",
              "      <td>Health and beauty</td>\n",
              "      <td>58.22</td>\n",
              "      <td>8</td>\n",
              "      <td>23.2880</td>\n",
              "      <td>489.0480</td>\n",
              "      <td>1/27/2019</td>\n",
              "      <td>20:33</td>\n",
              "      <td>Ewallet</td>\n",
              "      <td>465.76</td>\n",
              "      <td>8.4</td>\n",
              "    </tr>\n",
              "    <tr>\n",
              "      <th>4</th>\n",
              "      <td>373-73-7910</td>\n",
              "      <td>A</td>\n",
              "      <td>Yangon</td>\n",
              "      <td>Normal</td>\n",
              "      <td>Male</td>\n",
              "      <td>Sports and travel</td>\n",
              "      <td>86.31</td>\n",
              "      <td>7</td>\n",
              "      <td>30.2085</td>\n",
              "      <td>634.3785</td>\n",
              "      <td>2/8/2019</td>\n",
              "      <td>10:37</td>\n",
              "      <td>Ewallet</td>\n",
              "      <td>604.17</td>\n",
              "      <td>5.3</td>\n",
              "    </tr>\n",
              "  </tbody>\n",
              "</table>\n",
              "</div>\n",
              "      <button class=\"colab-df-convert\" onclick=\"convertToInteractive('df-ceb0fecf-2ba8-46cf-a5c0-2d39f38cc3fa')\"\n",
              "              title=\"Convert this dataframe to an interactive table.\"\n",
              "              style=\"display:none;\">\n",
              "        \n",
              "  <svg xmlns=\"http://www.w3.org/2000/svg\" height=\"24px\"viewBox=\"0 0 24 24\"\n",
              "       width=\"24px\">\n",
              "    <path d=\"M0 0h24v24H0V0z\" fill=\"none\"/>\n",
              "    <path d=\"M18.56 5.44l.94 2.06.94-2.06 2.06-.94-2.06-.94-.94-2.06-.94 2.06-2.06.94zm-11 1L8.5 8.5l.94-2.06 2.06-.94-2.06-.94L8.5 2.5l-.94 2.06-2.06.94zm10 10l.94 2.06.94-2.06 2.06-.94-2.06-.94-.94-2.06-.94 2.06-2.06.94z\"/><path d=\"M17.41 7.96l-1.37-1.37c-.4-.4-.92-.59-1.43-.59-.52 0-1.04.2-1.43.59L10.3 9.45l-7.72 7.72c-.78.78-.78 2.05 0 2.83L4 21.41c.39.39.9.59 1.41.59.51 0 1.02-.2 1.41-.59l7.78-7.78 2.81-2.81c.8-.78.8-2.07 0-2.86zM5.41 20L4 18.59l7.72-7.72 1.47 1.35L5.41 20z\"/>\n",
              "  </svg>\n",
              "      </button>\n",
              "      \n",
              "  <style>\n",
              "    .colab-df-container {\n",
              "      display:flex;\n",
              "      flex-wrap:wrap;\n",
              "      gap: 12px;\n",
              "    }\n",
              "\n",
              "    .colab-df-convert {\n",
              "      background-color: #E8F0FE;\n",
              "      border: none;\n",
              "      border-radius: 50%;\n",
              "      cursor: pointer;\n",
              "      display: none;\n",
              "      fill: #1967D2;\n",
              "      height: 32px;\n",
              "      padding: 0 0 0 0;\n",
              "      width: 32px;\n",
              "    }\n",
              "\n",
              "    .colab-df-convert:hover {\n",
              "      background-color: #E2EBFA;\n",
              "      box-shadow: 0px 1px 2px rgba(60, 64, 67, 0.3), 0px 1px 3px 1px rgba(60, 64, 67, 0.15);\n",
              "      fill: #174EA6;\n",
              "    }\n",
              "\n",
              "    [theme=dark] .colab-df-convert {\n",
              "      background-color: #3B4455;\n",
              "      fill: #D2E3FC;\n",
              "    }\n",
              "\n",
              "    [theme=dark] .colab-df-convert:hover {\n",
              "      background-color: #434B5C;\n",
              "      box-shadow: 0px 1px 3px 1px rgba(0, 0, 0, 0.15);\n",
              "      filter: drop-shadow(0px 1px 2px rgba(0, 0, 0, 0.3));\n",
              "      fill: #FFFFFF;\n",
              "    }\n",
              "  </style>\n",
              "\n",
              "      <script>\n",
              "        const buttonEl =\n",
              "          document.querySelector('#df-ceb0fecf-2ba8-46cf-a5c0-2d39f38cc3fa button.colab-df-convert');\n",
              "        buttonEl.style.display =\n",
              "          google.colab.kernel.accessAllowed ? 'block' : 'none';\n",
              "\n",
              "        async function convertToInteractive(key) {\n",
              "          const element = document.querySelector('#df-ceb0fecf-2ba8-46cf-a5c0-2d39f38cc3fa');\n",
              "          const dataTable =\n",
              "            await google.colab.kernel.invokeFunction('convertToInteractive',\n",
              "                                                     [key], {});\n",
              "          if (!dataTable) return;\n",
              "\n",
              "          const docLinkHtml = 'Like what you see? Visit the ' +\n",
              "            '<a target=\"_blank\" href=https://colab.research.google.com/notebooks/data_table.ipynb>data table notebook</a>'\n",
              "            + ' to learn more about interactive tables.';\n",
              "          element.innerHTML = '';\n",
              "          dataTable['output_type'] = 'display_data';\n",
              "          await google.colab.output.renderOutput(dataTable, element);\n",
              "          const docLink = document.createElement('div');\n",
              "          docLink.innerHTML = docLinkHtml;\n",
              "          element.appendChild(docLink);\n",
              "        }\n",
              "      </script>\n",
              "    </div>\n",
              "  </div>\n",
              "  "
            ],
            "text/plain": [
              "    Invoice ID Branch       City  ...      Payment    cogs Rating\n",
              "0  750-67-8428      A     Yangon  ...      Ewallet  522.83    9.1\n",
              "1  226-31-3081      C  Naypyitaw  ...         Cash   76.40    9.6\n",
              "2  631-41-3108      A     Yangon  ...  Credit card  324.31    7.4\n",
              "3  123-19-1176      A     Yangon  ...      Ewallet  465.76    8.4\n",
              "4  373-73-7910      A     Yangon  ...      Ewallet  604.17    5.3\n",
              "\n",
              "[5 rows x 15 columns]"
            ]
          },
          "metadata": {},
          "execution_count": 11
        }
      ]
    },
    {
      "cell_type": "markdown",
      "source": [
        "# 1. Thống kê tổng giá trị bán ra (Tính sum Cột Total) theo dòng sản phẩm (Product line) và theo từng ngày trong năm"
      ],
      "metadata": {
        "id": "qG9BiJO8mFFI"
      }
    },
    {
      "cell_type": "code",
      "source": [
        "fig = plt.bar(df['Product line'],df['Total'].sum(),width=0.8)\n",
        "plt.show()"
      ],
      "metadata": {
        "colab": {
          "base_uri": "https://localhost:8080/",
          "height": 265
        },
        "id": "6CyMG8OKtvR6",
        "outputId": "68484ad6-86b8-46e5-f1e1-404f350dd6a2"
      },
      "execution_count": 12,
      "outputs": [
        {
          "output_type": "display_data",
          "data": {
            "image/png": "[encoded data removed]",
            "text/plain": [
              "<Figure size 432x288 with 1 Axes>"
            ]
          },
          "metadata": {
            "needs_background": "light"
          }
        }
      ]
    },
    {
      "cell_type": "code",
      "source": [
        "def barValue_horizontal(ax):\n",
        "    for rect in ax.patches:\n",
        "        # Get X and Y placement of label from rect.\n",
        "        y_value = rect.get_height()\n",
        "        x_value = rect.get_x() + rect.get_width() / 2\n",
        "\n",
        "        # Number of points between bar and label. Change to your liking.\n",
        "        space = 2\n",
        "        # Vertical alignment for positive values\n",
        "        va = 'bottom'\n",
        "\n",
        "        # If value of bar is negative: Place label below bar\n",
        "        if y_value < 0:\n",
        "            # Invert space to place label below\n",
        "            space *= -1\n",
        "            # Vertically align label at top\n",
        "            va = 'top'\n",
        "\n",
        "        # Use Y value as label and format number with one decimal place\n",
        "        label = \"{:.2f}\".format(y_value)\n",
        "\n",
        "        # Create annotation\n",
        "        ax.annotate(\n",
        "            label,                      # Use `label` as label\n",
        "            (x_value, y_value),         # Place label at end of the bar\n",
        "            xytext=(1, space),          # Vertically shift label by `space`\n",
        "            textcoords=\"offset points\", # Interpret `xytext` as offset in points\n",
        "            ha='center',                # Horizontally center label\n",
        "            va=va)                      # Vertically align label differently for\n",
        "                                        # positive and negative values"
      ],
      "metadata": {
        "id": "yBxOgvuXxnTQ"
      },
      "execution_count": 13,
      "outputs": []
    },
    {
      "cell_type": "code",
      "source": [
        "plt.figure(figsize=(12,6))\n",
        "df_1=df.groupby(['Product line'])['Total'].sum().reset_index(name='total')\n",
        "fig = sns.barplot(data=df_1,x='Product line',y='total')\n",
        "#barPerc_without_hue\n",
        "barValue_horizontal(fig)\n",
        "plt.figure(figsize=(10,5))\n",
        "plt.show()"
      ],
      "metadata": {
        "colab": {
          "base_uri": "https://localhost:8080/",
          "height": 405
        },
        "id": "u033AiY_wjgR",
        "outputId": "bd1bce8d-4368-47c3-f9c0-03c6f6dfd24e"
      },
      "execution_count": 14,
      "outputs": [
        {
          "output_type": "display_data",
          "data": {
            "image/png": "[encoded data removed]",
            "text/plain": [
              "<Figure size 864x432 with 1 Axes>"
            ]
          },
          "metadata": {
            "needs_background": "light"
          }
        },
        {
          "output_type": "display_data",
          "data": {
            "text/plain": [
              "<Figure size 720x360 with 0 Axes>"
            ]
          },
          "metadata": {}
        }
      ]
    },
    {
      "cell_type": "code",
      "source": [
        "df['Date']"
      ],
      "metadata": {
        "colab": {
          "base_uri": "https://localhost:8080/"
        },
        "id": "JUU5EuMXmGtz",
        "outputId": "5edc0238-cebd-475f-de72-36ec7a07aeb3"
      },
      "execution_count": 15,
      "outputs": [
        {
          "output_type": "execute_result",
          "data": {
            "text/plain": [
              "0       1/5/2019\n",
              "1       3/8/2019\n",
              "2       3/3/2019\n",
              "3      1/27/2019\n",
              "4       2/8/2019\n",
              "         ...    \n",
              "994    2/18/2019\n",
              "995    1/29/2019\n",
              "997     2/9/2019\n",
              "998    2/22/2019\n",
              "999    2/18/2019\n",
              "Name: Date, Length: 991, dtype: object"
            ]
          },
          "metadata": {},
          "execution_count": 15
        }
      ]
    },
    {
      "cell_type": "code",
      "source": [
        "def barPerc_without_hue(ax, feature):\n",
        "    total = len(feature)\n",
        "    for p in ax.patches:\n",
        "        percentage = '{:.1f}%'.format(100 * p.get_height()/total)\n",
        "        x = p.get_x() + p.get_width() / 2 - 0.05\n",
        "        y = p.get_y() + p.get_height()\n",
        "        ax.annotate(percentage, (x, y), size = 12)"
      ],
      "metadata": {
        "id": "KR3gaOr4rGxT"
      },
      "execution_count": 16,
      "outputs": []
    },
    {
      "cell_type": "code",
      "source": [
        "ax = sns.countplot()\n",
        "ax = sns.countplot(data=df, x='Product line')\n",
        "barPerc_without_hue(ax, df['Product line'])\n",
        "plt.xticks(rotation=90)\n",
        "plt.title('Product Line Sale Count')\n",
        "plt.show()"
      ],
      "metadata": {
        "colab": {
          "base_uri": "https://localhost:8080/",
          "height": 396
        },
        "id": "_pM_cuKPpcp_",
        "outputId": "c1a93771-ef5f-4361-81da-83d94479dae5"
      },
      "execution_count": 17,
      "outputs": [
        {
          "output_type": "display_data",
          "data": {
            "image/png": "[encoded data removed]",
            "text/plain": [
              "<Figure size 432x288 with 1 Axes>"
            ]
          },
          "metadata": {
            "needs_background": "light"
          }
        }
      ]
    },
    {
      "cell_type": "code",
      "source": [
        "df_group_productLine = df.groupby(['Branch','Product line'])['Total'].sum()\n",
        "fig = px.line(df_group_productLine,x='Product line',y='total',color='Branch')\n",
        "fig.show()"
      ],
      "metadata": {
        "id": "OSGWIBKYswoh"
      },
      "execution_count": null,
      "outputs": []
    },
    {
      "cell_type": "code",
      "source": [
        "import plotly.express as px"
      ],
      "metadata": {
        "id": "e8AXx6fQosbS"
      },
      "execution_count": 18,
      "outputs": []
    },
    {
      "cell_type": "code",
      "source": [
        "\n",
        "df_groupTotal = df.groupby(['Branch','Date'])['Total'].sum().reset_index(name='total')\n",
        "fig = px.line(df_groupTotal, x='Date',y='total',color='Branch')\n",
        "fig.show()"
      ],
      "metadata": {
        "colab": {
          "base_uri": "https://localhost:8080/",
          "height": 542
        },
        "id": "igmfD9tCme0i",
        "outputId": "84b3773e-e0ac-4309-bfbf-eaf8e7582fc6"
      },
      "execution_count": 23,
      "outputs": [
        {
          "output_type": "display_data",
          "data": {
            "text/html": [
              "<html>\n",
              "<head><meta charset=\"utf-8\" /></head>\n",
              "<body>\n",
              "    <div>            <script src=\"https://cdnjs.cloudflare.com/ajax/libs/mathjax/2.7.5/MathJax.js?config=TeX-AMS-MML_SVG\"></script><script type=\"text/javascript\">if (window.MathJax) {MathJax.Hub.Config({SVG: {font: \"STIX-Web\"}});}</script>                <script type=\"text/javascript\">window.PlotlyConfig = {MathJaxConfig: 'local'};</script>\n",
              "        <script src=\"https://cdn.plot.ly/plotly-2.8.3.min.js\"></script>                <div id=\"14817a09-2dd6-4221-a1f2-3ff401a2ba68\" class=\"plotly-graph-div\" style=\"height:525px; width:100%;\"></div>            <script type=\"text/javascript\">                                    window.PLOTLYENV=window.PLOTLYENV || {};                                    if (document.getElementById(\"14817a09-2dd6-4221-a1f2-3ff401a2ba68\")) {                    Plotly.newPlot(                        \"14817a09-2dd6-4221-a1f2-3ff401a2ba68\",                        [{\"hovertemplate\":\"Branch=A<br>Date=%{x}<br>total=%{y}<extra></extra>\",\"legendgroup\":\"A\",\"line\":{\"color\":\"#636efa\",\"dash\":\"solid\"},\"marker\":{\"symbol\":\"circle\"},\"mode\":\"lines\",\"name\":\"A\",\"orientation\":\"v\",\"showlegend\":true,\"x\":[\"1/1/2019\",\"1/10/2019\",\"1/11/2019\",\"1/12/2019\",\"1/13/2019\",\"1/14/2019\",\"1/15/2019\",\"1/16/2019\",\"1/17/2019\",\"1/18/2019\",\"1/19/2019\",\"1/2/2019\",\"1/20/2019\",\"1/21/2019\",\"1/22/2019\",\"1/23/2019\",\"1/24/2019\",\"1/25/2019\",\"1/26/2019\",\"1/27/2019\",\"1/28/2019\",\"1/29/2019\",\"1/3/2019\",\"1/30/2019\",\"1/31/2019\",\"1/4/2019\",\"1/5/2019\",\"1/6/2019\",\"1/7/2019\",\"1/8/2019\",\"1/9/2019\",\"2/1/2019\",\"2/10/2019\",\"2/11/2019\",\"2/12/2019\",\"2/13/2019\",\"2/14/2019\",\"2/15/2019\",\"2/16/2019\",\"2/17/2019\",\"2/18/2019\",\"2/19/2019\",\"2/2/2019\",\"2/20/2019\",\"2/21/2019\",\"2/22/2019\",\"2/23/2019\",\"2/24/2019\",\"2/25/2019\",\"2/26/2019\",\"2/27/2019\",\"2/28/2019\",\"2/3/2019\",\"2/4/2019\",\"2/5/2019\",\"2/6/2019\",\"2/7/2019\",\"2/8/2019\",\"2/9/2019\",\"3/1/2019\",\"3/10/2019\",\"3/11/2019\",\"3/12/2019\",\"3/13/2019\",\"3/14/2019\",\"3/15/2019\",\"3/16/2019\",\"3/17/2019\",\"3/18/2019\",\"3/19/2019\",\"3/2/2019\",\"3/20/2019\",\"3/21/2019\",\"3/22/2019\",\"3/23/2019\",\"3/24/2019\",\"3/25/2019\",\"3/26/2019\",\"3/27/2019\",\"3/28/2019\",\"3/29/2019\",\"3/3/2019\",\"3/30/2019\",\"3/4/2019\",\"3/5/2019\",\"3/6/2019\",\"3/7/2019\",\"3/8/2019\",\"3/9/2019\"],\"xaxis\":\"x\",\"y\":[2371.3199999999997,731.4929999999999,1661.667,1429.0395,1112.4015,1096.095,1806.6615,863.058,1502.2245,1159.83,3254.4855,307.05150000000003,1724.9609999999998,1591.737,802.2735,2361.3135,2459.184,913.8255,415.00199999999995,1674.2775000000001,287.8575,1524.915,937.4085,295.407,588.1575,483.26250000000005,2024.505,1309.9695000000002,1105.9544999999998,683.4555,202.335,911.9354999999999,1022.6685,650.244,557.1195,216.111,1072.8165,1223.208,182.427,3070.956,931.749,2063.3235,1019.9594999999999,903.0315,298.116,509.16599999999994,308.574,522.8580000000001,1806.336,156.1035,2441.7015,684.306,2717.358,1239.3885,568.428,423.192,2066.61,655.0635,598.0799999999999,644.217,1479.1979999999999,1711.1744999999999,923.454,788.109,1751.6100000000001,644.4585,1042.7024999999999,1133.034,389.613,1892.1315,641.4555,2372.4645,1308.7305000000001,2128.056,1748.376,424.62,577.122,1187.34,1060.626,1652.931,977.613,814.5165000000001,1320.6165,2851.7895,418.6875,1033.326,368.6865,1592.2725,2780.19],\"yaxis\":\"y\",\"type\":\"scatter\"},{\"hovertemplate\":\"Branch=B<br>Date=%{x}<br>total=%{y}<extra></extra>\",\"legendgroup\":\"B\",\"line\":{\"color\":\"#EF553B\",\"dash\":\"solid\"},\"marker\":{\"symbol\":\"circle\"},\"mode\":\"lines\",\"name\":\"B\",\"orientation\":\"v\",\"showlegend\":true,\"x\":[\"1/1/2019\",\"1/10/2019\",\"1/12/2019\",\"1/13/2019\",\"1/14/2019\",\"1/15/2019\",\"1/16/2019\",\"1/17/2019\",\"1/18/2019\",\"1/19/2019\",\"1/2/2019\",\"1/20/2019\",\"1/21/2019\",\"1/22/2019\",\"1/24/2019\",\"1/25/2019\",\"1/26/2019\",\"1/27/2019\",\"1/28/2019\",\"1/29/2019\",\"1/3/2019\",\"1/30/2019\",\"1/31/2019\",\"1/4/2019\",\"1/5/2019\",\"1/6/2019\",\"1/7/2019\",\"1/8/2019\",\"1/9/2019\",\"2/10/2019\",\"2/11/2019\",\"2/12/2019\",\"2/13/2019\",\"2/14/2019\",\"2/15/2019\",\"2/16/2019\",\"2/17/2019\",\"2/18/2019\",\"2/19/2019\",\"2/2/2019\",\"2/20/2019\",\"2/21/2019\",\"2/22/2019\",\"2/23/2019\",\"2/24/2019\",\"2/25/2019\",\"2/26/2019\",\"2/27/2019\",\"2/28/2019\",\"2/3/2019\",\"2/4/2019\",\"2/5/2019\",\"2/6/2019\",\"2/7/2019\",\"2/8/2019\",\"2/9/2019\",\"3/1/2019\",\"3/10/2019\",\"3/11/2019\",\"3/12/2019\",\"3/13/2019\",\"3/14/2019\",\"3/15/2019\",\"3/16/2019\",\"3/17/2019\",\"3/18/2019\",\"3/19/2019\",\"3/2/2019\",\"3/20/2019\",\"3/21/2019\",\"3/22/2019\",\"3/23/2019\",\"3/24/2019\",\"3/25/2019\",\"3/26/2019\",\"3/27/2019\",\"3/28/2019\",\"3/29/2019\",\"3/3/2019\",\"3/30/2019\",\"3/4/2019\",\"3/5/2019\",\"3/6/2019\",\"3/7/2019\",\"3/8/2019\",\"3/9/2019\"],\"xaxis\":\"x\",\"y\":[1536.696,1348.599,2312.142,735.105,1191.4875,1839.9779999999998,885.549,993.1635,276.36,633.486,1162.8015,230.286,103.0365,503.118,2608.935,1601.25,3203.277,918.4770000000001,3130.3754999999996,946.5540000000001,1016.694,455.65799999999996,2782.2795,510.5835,486.759,1021.6395,1341.9105,2208.948,168.525,688.359,1847.9265,1472.352,326.193,759.696,3214.8165,1238.748,851.151,30.996,470.988,1609.2825,1712.802,435.7605,1172.6295,1226.652,763.014,2498.1495,2035.3725,1888.383,494.76,1037.4945,1054.5465,989.6460000000001,1080.6705,2723.3115,1755.453,1045.1175,933.3135,341.26050000000004,483.336,1392.3944999999999,423.885,2013.9945,1749.7725,841.2915,450.009,453.033,599.6025,2549.7675,1683.8115,207.858,1051.092,384.468,1564.7835,418.089,301.203,898.8945,95.6655,2059.932,1813.749,1724.4569999999999,181.818,3540.0015000000003,2020.4205,297.906,92.5575,3006.486],\"yaxis\":\"y\",\"type\":\"scatter\"},{\"hovertemplate\":\"Branch=C<br>Date=%{x}<br>total=%{y}<extra></extra>\",\"legendgroup\":\"C\",\"line\":{\"color\":\"#00cc96\",\"dash\":\"solid\"},\"marker\":{\"symbol\":\"circle\"},\"mode\":\"lines\",\"name\":\"C\",\"orientation\":\"v\",\"showlegend\":true,\"x\":[\"1/1/2019\",\"1/10/2019\",\"1/11/2019\",\"1/12/2019\",\"1/13/2019\",\"1/14/2019\",\"1/15/2019\",\"1/16/2019\",\"1/17/2019\",\"1/18/2019\",\"1/19/2019\",\"1/2/2019\",\"1/20/2019\",\"1/21/2019\",\"1/22/2019\",\"1/23/2019\",\"1/24/2019\",\"1/25/2019\",\"1/26/2019\",\"1/27/2019\",\"1/28/2019\",\"1/29/2019\",\"1/3/2019\",\"1/30/2019\",\"1/31/2019\",\"1/4/2019\",\"1/5/2019\",\"1/6/2019\",\"1/7/2019\",\"1/8/2019\",\"1/9/2019\",\"2/1/2019\",\"2/10/2019\",\"2/11/2019\",\"2/12/2019\",\"2/13/2019\",\"2/14/2019\",\"2/15/2019\",\"2/16/2019\",\"2/17/2019\",\"2/18/2019\",\"2/19/2019\",\"2/2/2019\",\"2/20/2019\",\"2/21/2019\",\"2/22/2019\",\"2/23/2019\",\"2/24/2019\",\"2/25/2019\",\"2/26/2019\",\"2/27/2019\",\"2/28/2019\",\"2/3/2019\",\"2/4/2019\",\"2/5/2019\",\"2/6/2019\",\"2/7/2019\",\"2/8/2019\",\"2/9/2019\",\"3/1/2019\",\"3/10/2019\",\"3/11/2019\",\"3/12/2019\",\"3/13/2019\",\"3/14/2019\",\"3/15/2019\",\"3/16/2019\",\"3/17/2019\",\"3/18/2019\",\"3/19/2019\",\"3/2/2019\",\"3/20/2019\",\"3/21/2019\",\"3/23/2019\",\"3/24/2019\",\"3/25/2019\",\"3/26/2019\",\"3/27/2019\",\"3/28/2019\",\"3/29/2019\",\"3/3/2019\",\"3/30/2019\",\"3/4/2019\",\"3/5/2019\",\"3/6/2019\",\"3/7/2019\",\"3/8/2019\",\"3/9/2019\"],\"xaxis\":\"x\",\"y\":[837.165,1480.857,453.2955,419.832,603.6975,1679.034,1275.2354999999998,1536.885,647.367,1344.2835,1026.753,475.65000000000003,1700.202,697.326,399.37800000000004,3632.874,333.93149999999997,2185.2915000000003,839.2334999999999,2043.1425,1581.4785000000002,1045.0965,124.02600000000001,772.7370000000001,1862.0595,629.8425,1025.4195,1282.596,386.379,2401.329,1648.3635,1532.601,1429.995,2043.9825,969.5174999999999,391.9335,621.5790000000001,1350.1109999999999,1082.5919999999999,1377.4635,533.2845,1693.8075,1511.7060000000001,90.5835,659.862,760.515,804.363,1436.589,502.7505,216.6885,1529.367,917.952,1713.0749999999998,145.5615,1473.0555,1401.561,2438.2889999999998,614.145,1628.697,1056.8355000000001,1342.7715,766.7415,1361.703,851.613,3449.0295,548.184,1270.479,393.246,450.1875,3248.658,2346.5924999999997,1401.9285,360.927,1962.198,1488.06,1277.7555,473.97,943.299,480.8055,985.6980000000001,2224.908,1441.9859999999999,860.832,2272.1895,38.85,771.6659999999999,1440.558,1687.371],\"yaxis\":\"y\",\"type\":\"scatter\"}],                        {\"template\":{\"data\":{\"bar\":[{\"error_x\":{\"color\":\"#2a3f5f\"},\"error_y\":{\"color\":\"#2a3f5f\"},\"marker\":{\"line\":{\"color\":\"#E5ECF6\",\"width\":0.5},\"pattern\":{\"fillmode\":\"overlay\",\"size\":10,\"solidity\":0.2}},\"type\":\"bar\"}],\"barpolar\":[{\"marker\":{\"line\":{\"color\":\"#E5ECF6\",\"width\":0.5},\"pattern\":{\"fillmode\":\"overlay\",\"size\":10,\"solidity\":0.2}},\"type\":\"barpolar\"}],\"carpet\":[{\"aaxis\":{\"endlinecolor\":\"#2a3f5f\",\"gridcolor\":\"white\",\"linecolor\":\"white\",\"minorgridcolor\":\"white\",\"startlinecolor\":\"#2a3f5f\"},\"baxis\":{\"endlinecolor\":\"#2a3f5f\",\"gridcolor\":\"white\",\"linecolor\":\"white\",\"minorgridcolor\":\"white\",\"startlinecolor\":\"#2a3f5f\"},\"type\":\"carpet\"}],\"choropleth\":[{\"colorbar\":{\"outlinewidth\":0,\"ticks\":\"\"},\"type\":\"choropleth\"}],\"contour\":[{\"colorbar\":{\"outlinewidth\":0,\"ticks\":\"\"},\"colorscale\":[[0.0,\"#0d0887\"],[0.1111111111111111,\"#46039f\"],[0.2222222222222222,\"#7201a8\"],[0.3333333333333333,\"#9c179e\"],[0.4444444444444444,\"#bd3786\"],[0.5555555555555556,\"#d8576b\"],[0.6666666666666666,\"#ed7953\"],[0.7777777777777778,\"#fb9f3a\"],[0.8888888888888888,\"#fdca26\"],[1.0,\"#f0f921\"]],\"type\":\"contour\"}],\"contourcarpet\":[{\"colorbar\":{\"outlinewidth\":0,\"ticks\":\"\"},\"type\":\"contourcarpet\"}],\"heatmap\":[{\"colorbar\":{\"outlinewidth\":0,\"ticks\":\"\"},\"colorscale\":[[0.0,\"#0d0887\"],[0.1111111111111111,\"#46039f\"],[0.2222222222222222,\"#7201a8\"],[0.3333333333333333,\"#9c179e\"],[0.4444444444444444,\"#bd3786\"],[0.5555555555555556,\"#d8576b\"],[0.6666666666666666,\"#ed7953\"],[0.7777777777777778,\"#fb9f3a\"],[0.8888888888888888,\"#fdca26\"],[1.0,\"#f0f921\"]],\"type\":\"heatmap\"}],\"heatmapgl\":[{\"colorbar\":{\"outlinewidth\":0,\"ticks\":\"\"},\"colorscale\":[[0.0,\"#0d0887\"],[0.1111111111111111,\"#46039f\"],[0.2222222222222222,\"#7201a8\"],[0.3333333333333333,\"#9c179e\"],[0.4444444444444444,\"#bd3786\"],[0.5555555555555556,\"#d8576b\"],[0.6666666666666666,\"#ed7953\"],[0.7777777777777778,\"#fb9f3a\"],[0.8888888888888888,\"#fdca26\"],[1.0,\"#f0f921\"]],\"type\":\"heatmapgl\"}],\"histogram\":[{\"marker\":{\"pattern\":{\"fillmode\":\"overlay\",\"size\":10,\"solidity\":0.2}},\"type\":\"histogram\"}],\"histogram2d\":[{\"colorbar\":{\"outlinewidth\":0,\"ticks\":\"\"},\"colorscale\":[[0.0,\"#0d0887\"],[0.1111111111111111,\"#46039f\"],[0.2222222222222222,\"#7201a8\"],[0.3333333333333333,\"#9c179e\"],[0.4444444444444444,\"#bd3786\"],[0.5555555555555556,\"#d8576b\"],[0.6666666666666666,\"#ed7953\"],[0.7777777777777778,\"#fb9f3a\"],[0.8888888888888888,\"#fdca26\"],[1.0,\"#f0f921\"]],\"type\":\"histogram2d\"}],\"histogram2dcontour\":[{\"colorbar\":{\"outlinewidth\":0,\"ticks\":\"\"},\"colorscale\":[[0.0,\"#0d0887\"],[0.1111111111111111,\"#46039f\"],[0.2222222222222222,\"#7201a8\"],[0.3333333333333333,\"#9c179e\"],[0.4444444444444444,\"#bd3786\"],[0.5555555555555556,\"#d8576b\"],[0.6666666666666666,\"#ed7953\"],[0.7777777777777778,\"#fb9f3a\"],[0.8888888888888888,\"#fdca26\"],[1.0,\"#f0f921\"]],\"type\":\"histogram2dcontour\"}],\"mesh3d\":[{\"colorbar\":{\"outlinewidth\":0,\"ticks\":\"\"},\"type\":\"mesh3d\"}],\"parcoords\":[{\"line\":{\"colorbar\":{\"outlinewidth\":0,\"ticks\":\"\"}},\"type\":\"parcoords\"}],\"pie\":[{\"automargin\":true,\"type\":\"pie\"}],\"scatter\":[{\"marker\":{\"colorbar\":{\"outlinewidth\":0,\"ticks\":\"\"}},\"type\":\"scatter\"}],\"scatter3d\":[{\"line\":{\"colorbar\":{\"outlinewidth\":0,\"ticks\":\"\"}},\"marker\":{\"colorbar\":{\"outlinewidth\":0,\"ticks\":\"\"}},\"type\":\"scatter3d\"}],\"scattercarpet\":[{\"marker\":{\"colorbar\":{\"outlinewidth\":0,\"ticks\":\"\"}},\"type\":\"scattercarpet\"}],\"scattergeo\":[{\"marker\":{\"colorbar\":{\"outlinewidth\":0,\"ticks\":\"\"}},\"type\":\"scattergeo\"}],\"scattergl\":[{\"marker\":{\"colorbar\":{\"outlinewidth\":0,\"ticks\":\"\"}},\"type\":\"scattergl\"}],\"scattermapbox\":[{\"marker\":{\"colorbar\":{\"outlinewidth\":0,\"ticks\":\"\"}},\"type\":\"scattermapbox\"}],\"scatterpolar\":[{\"marker\":{\"colorbar\":{\"outlinewidth\":0,\"ticks\":\"\"}},\"type\":\"scatterpolar\"}],\"scatterpolargl\":[{\"marker\":{\"colorbar\":{\"outlinewidth\":0,\"ticks\":\"\"}},\"type\":\"scatterpolargl\"}],\"scatterternary\":[{\"marker\":{\"colorbar\":{\"outlinewidth\":0,\"ticks\":\"\"}},\"type\":\"scatterternary\"}],\"surface\":[{\"colorbar\":{\"outlinewidth\":0,\"ticks\":\"\"},\"colorscale\":[[0.0,\"#0d0887\"],[0.1111111111111111,\"#46039f\"],[0.2222222222222222,\"#7201a8\"],[0.3333333333333333,\"#9c179e\"],[0.4444444444444444,\"#bd3786\"],[0.5555555555555556,\"#d8576b\"],[0.6666666666666666,\"#ed7953\"],[0.7777777777777778,\"#fb9f3a\"],[0.8888888888888888,\"#fdca26\"],[1.0,\"#f0f921\"]],\"type\":\"surface\"}],\"table\":[{\"cells\":{\"fill\":{\"color\":\"#EBF0F8\"},\"line\":{\"color\":\"white\"}},\"header\":{\"fill\":{\"color\":\"#C8D4E3\"},\"line\":{\"color\":\"white\"}},\"type\":\"table\"}]},\"layout\":{\"annotationdefaults\":{\"arrowcolor\":\"#2a3f5f\",\"arrowhead\":0,\"arrowwidth\":1},\"autotypenumbers\":\"strict\",\"coloraxis\":{\"colorbar\":{\"outlinewidth\":0,\"ticks\":\"\"}},\"colorscale\":{\"diverging\":[[0,\"#8e0152\"],[0.1,\"#c51b7d\"],[0.2,\"#de77ae\"],[0.3,\"#f1b6da\"],[0.4,\"#fde0ef\"],[0.5,\"#f7f7f7\"],[0.6,\"#e6f5d0\"],[0.7,\"#b8e186\"],[0.8,\"#7fbc41\"],[0.9,\"#4d9221\"],[1,\"#276419\"]],\"sequential\":[[0.0,\"#0d0887\"],[0.1111111111111111,\"#46039f\"],[0.2222222222222222,\"#7201a8\"],[0.3333333333333333,\"#9c179e\"],[0.4444444444444444,\"#bd3786\"],[0.5555555555555556,\"#d8576b\"],[0.6666666666666666,\"#ed7953\"],[0.7777777777777778,\"#fb9f3a\"],[0.8888888888888888,\"#fdca26\"],[1.0,\"#f0f921\"]],\"sequentialminus\":[[0.0,\"#0d0887\"],[0.1111111111111111,\"#46039f\"],[0.2222222222222222,\"#7201a8\"],[0.3333333333333333,\"#9c179e\"],[0.4444444444444444,\"#bd3786\"],[0.5555555555555556,\"#d8576b\"],[0.6666666666666666,\"#ed7953\"],[0.7777777777777778,\"#fb9f3a\"],[0.8888888888888888,\"#fdca26\"],[1.0,\"#f0f921\"]]},\"colorway\":[\"#636efa\",\"#EF553B\",\"#00cc96\",\"#ab63fa\",\"#FFA15A\",\"#19d3f3\",\"#FF6692\",\"#B6E880\",\"#FF97FF\",\"#FECB52\"],\"font\":{\"color\":\"#2a3f5f\"},\"geo\":{\"bgcolor\":\"white\",\"lakecolor\":\"white\",\"landcolor\":\"#E5ECF6\",\"showlakes\":true,\"showland\":true,\"subunitcolor\":\"white\"},\"hoverlabel\":{\"align\":\"left\"},\"hovermode\":\"closest\",\"mapbox\":{\"style\":\"light\"},\"paper_bgcolor\":\"white\",\"plot_bgcolor\":\"#E5ECF6\",\"polar\":{\"angularaxis\":{\"gridcolor\":\"white\",\"linecolor\":\"white\",\"ticks\":\"\"},\"bgcolor\":\"#E5ECF6\",\"radialaxis\":{\"gridcolor\":\"white\",\"linecolor\":\"white\",\"ticks\":\"\"}},\"scene\":{\"xaxis\":{\"backgroundcolor\":\"#E5ECF6\",\"gridcolor\":\"white\",\"gridwidth\":2,\"linecolor\":\"white\",\"showbackground\":true,\"ticks\":\"\",\"zerolinecolor\":\"white\"},\"yaxis\":{\"backgroundcolor\":\"#E5ECF6\",\"gridcolor\":\"white\",\"gridwidth\":2,\"linecolor\":\"white\",\"showbackground\":true,\"ticks\":\"\",\"zerolinecolor\":\"white\"},\"zaxis\":{\"backgroundcolor\":\"#E5ECF6\",\"gridcolor\":\"white\",\"gridwidth\":2,\"linecolor\":\"white\",\"showbackground\":true,\"ticks\":\"\",\"zerolinecolor\":\"white\"}},\"shapedefaults\":{\"line\":{\"color\":\"#2a3f5f\"}},\"ternary\":{\"aaxis\":{\"gridcolor\":\"white\",\"linecolor\":\"white\",\"ticks\":\"\"},\"baxis\":{\"gridcolor\":\"white\",\"linecolor\":\"white\",\"ticks\":\"\"},\"bgcolor\":\"#E5ECF6\",\"caxis\":{\"gridcolor\":\"white\",\"linecolor\":\"white\",\"ticks\":\"\"}},\"title\":{\"x\":0.05},\"xaxis\":{\"automargin\":true,\"gridcolor\":\"white\",\"linecolor\":\"white\",\"ticks\":\"\",\"title\":{\"standoff\":15},\"zerolinecolor\":\"white\",\"zerolinewidth\":2},\"yaxis\":{\"automargin\":true,\"gridcolor\":\"white\",\"linecolor\":\"white\",\"ticks\":\"\",\"title\":{\"standoff\":15},\"zerolinecolor\":\"white\",\"zerolinewidth\":2}}},\"xaxis\":{\"anchor\":\"y\",\"domain\":[0.0,1.0],\"title\":{\"text\":\"Date\"}},\"yaxis\":{\"anchor\":\"x\",\"domain\":[0.0,1.0],\"title\":{\"text\":\"total\"}},\"legend\":{\"title\":{\"text\":\"Branch\"},\"tracegroupgap\":0},\"margin\":{\"t\":60}},                        {\"responsive\": true}                    ).then(function(){\n",
              "                            \n",
              "var gd = document.getElementById('14817a09-2dd6-4221-a1f2-3ff401a2ba68');\n",
              "var x = new MutationObserver(function (mutations, observer) {{\n",
              "        var display = window.getComputedStyle(gd).display;\n",
              "        if (!display || display === 'none') {{\n",
              "            console.log([gd, 'removed!']);\n",
              "            Plotly.purge(gd);\n",
              "            observer.disconnect();\n",
              "        }}\n",
              "}});\n",
              "\n",
              "// Listen for the removal of the full notebook cells\n",
              "var notebookContainer = gd.closest('#notebook-container');\n",
              "if (notebookContainer) {{\n",
              "    x.observe(notebookContainer, {childList: true});\n",
              "}}\n",
              "\n",
              "// Listen for the clearing of the current output cell\n",
              "var outputEl = gd.closest('.output');\n",
              "if (outputEl) {{\n",
              "    x.observe(outputEl, {childList: true});\n",
              "}}\n",
              "\n",
              "                        })                };                            </script>        </div>\n",
              "</body>\n",
              "</html>"
            ]
          },
          "metadata": {}
        }
      ]
    },
    {
      "cell_type": "code",
      "source": [
        "df_groupTotal = df.groupby(['Product line','Date'])['Total'].sum().reset_index(name='total')\n",
        "fig = px.line(df_groupTotal, x='Date',y='total',color='Product line')\n",
        "fig.show()"
      ],
      "metadata": {
        "colab": {
          "base_uri": "https://localhost:8080/",
          "height": 542
        },
        "id": "ZHGZp0dr6oNV",
        "outputId": "f973b723-1ceb-4e70-8ae7-1cb0923d433d"
      },
      "execution_count": 24,
      "outputs": [
        {
          "output_type": "display_data",
          "data": {
            "text/html": [
              "<html>\n",
              "<head><meta charset=\"utf-8\" /></head>\n",
              "<body>\n",
              "    <div>            <script src=\"https://cdnjs.cloudflare.com/ajax/libs/mathjax/2.7.5/MathJax.js?config=TeX-AMS-MML_SVG\"></script><script type=\"text/javascript\">if (window.MathJax) {MathJax.Hub.Config({SVG: {font: \"STIX-Web\"}});}</script>                <script type=\"text/javascript\">window.PlotlyConfig = {MathJaxConfig: 'local'};</script>\n",
              "        <script src=\"https://cdn.plot.ly/plotly-2.8.3.min.js\"></script>                <div id=\"c01bb1c7-408a-44da-95f9-ddef5aa8805f\" class=\"plotly-graph-div\" style=\"height:525px; width:100%;\"></div>            <script type=\"text/javascript\">                                    window.PLOTLYENV=window.PLOTLYENV || {};                                    if (document.getElementById(\"c01bb1c7-408a-44da-95f9-ddef5aa8805f\")) {                    Plotly.newPlot(                        \"c01bb1c7-408a-44da-95f9-ddef5aa8805f\",                        [{\"hovertemplate\":\"Product line=Electronic accessories<br>Date=%{x}<br>total=%{y}<extra></extra>\",\"legendgroup\":\"Electronic accessories\",\"line\":{\"color\":\"#636efa\",\"dash\":\"solid\"},\"marker\":{\"symbol\":\"circle\"},\"mode\":\"lines\",\"name\":\"Electronic accessories\",\"orientation\":\"v\",\"showlegend\":true,\"x\":[\"1/1/2019\",\"1/10/2019\",\"1/12/2019\",\"1/13/2019\",\"1/14/2019\",\"1/15/2019\",\"1/18/2019\",\"1/19/2019\",\"1/2/2019\",\"1/23/2019\",\"1/24/2019\",\"1/25/2019\",\"1/26/2019\",\"1/27/2019\",\"1/28/2019\",\"1/29/2019\",\"1/30/2019\",\"1/31/2019\",\"1/4/2019\",\"1/5/2019\",\"1/7/2019\",\"1/8/2019\",\"1/9/2019\",\"2/1/2019\",\"2/10/2019\",\"2/12/2019\",\"2/13/2019\",\"2/14/2019\",\"2/15/2019\",\"2/16/2019\",\"2/17/2019\",\"2/18/2019\",\"2/19/2019\",\"2/2/2019\",\"2/21/2019\",\"2/22/2019\",\"2/23/2019\",\"2/24/2019\",\"2/25/2019\",\"2/26/2019\",\"2/27/2019\",\"2/28/2019\",\"2/4/2019\",\"2/5/2019\",\"2/6/2019\",\"2/7/2019\",\"2/9/2019\",\"3/1/2019\",\"3/10/2019\",\"3/11/2019\",\"3/12/2019\",\"3/14/2019\",\"3/15/2019\",\"3/16/2019\",\"3/18/2019\",\"3/19/2019\",\"3/2/2019\",\"3/20/2019\",\"3/21/2019\",\"3/22/2019\",\"3/23/2019\",\"3/24/2019\",\"3/25/2019\",\"3/26/2019\",\"3/27/2019\",\"3/28/2019\",\"3/29/2019\",\"3/3/2019\",\"3/30/2019\",\"3/4/2019\",\"3/5/2019\",\"3/6/2019\",\"3/7/2019\",\"3/8/2019\",\"3/9/2019\"],\"xaxis\":\"x\",\"y\":[1382.745,450.52349999999996,1700.1390000000001,585.123,875.1015,1559.166,138.1275,708.204,138.663,768.1695,1477.98,247.8735,1019.9594999999999,565.908,546.3779999999999,657.51,751.0649999999999,2366.595,705.621,690.018,326.424,461.67449999999997,708.3195,218.0115,1091.1075,287.9415,216.111,836.304,1282.1444999999999,63.2625,1094.5935,129.6015,1995.0104999999999,416.59799999999996,298.116,182.91,839.9895,682.5,1481.4344999999998,669.2909999999999,785.2845,785.547,809.0775,43.869,558.81,2260.545,334.845,564.165,148.5855,181.0725,226.20149999999998,2136.246,241.458,401.688,214.998,1729.2555,1174.9395,469.413,988.9425,99.9075,771.435,681.975,1144.4685,851.5815,116.907,341.34450000000004,985.6980000000001,1562.085,643.293,213.57000000000002,246.6765,352.17,493.017,182.238,980.0070000000001],\"yaxis\":\"y\",\"type\":\"scatter\"},{\"hovertemplate\":\"Product line=Fashion accessories<br>Date=%{x}<br>total=%{y}<extra></extra>\",\"legendgroup\":\"Fashion accessories\",\"line\":{\"color\":\"#EF553B\",\"dash\":\"solid\"},\"marker\":{\"symbol\":\"circle\"},\"mode\":\"lines\",\"name\":\"Fashion accessories\",\"orientation\":\"v\",\"showlegend\":true,\"x\":[\"1/1/2019\",\"1/10/2019\",\"1/11/2019\",\"1/12/2019\",\"1/13/2019\",\"1/14/2019\",\"1/15/2019\",\"1/16/2019\",\"1/18/2019\",\"1/19/2019\",\"1/2/2019\",\"1/20/2019\",\"1/23/2019\",\"1/24/2019\",\"1/25/2019\",\"1/26/2019\",\"1/27/2019\",\"1/28/2019\",\"1/29/2019\",\"1/31/2019\",\"1/4/2019\",\"1/5/2019\",\"1/6/2019\",\"1/7/2019\",\"1/8/2019\",\"1/9/2019\",\"2/10/2019\",\"2/11/2019\",\"2/12/2019\",\"2/13/2019\",\"2/15/2019\",\"2/16/2019\",\"2/17/2019\",\"2/18/2019\",\"2/19/2019\",\"2/2/2019\",\"2/21/2019\",\"2/22/2019\",\"2/24/2019\",\"2/25/2019\",\"2/26/2019\",\"2/27/2019\",\"2/28/2019\",\"2/3/2019\",\"2/4/2019\",\"2/5/2019\",\"2/6/2019\",\"2/7/2019\",\"2/8/2019\",\"2/9/2019\",\"3/1/2019\",\"3/10/2019\",\"3/11/2019\",\"3/13/2019\",\"3/14/2019\",\"3/15/2019\",\"3/16/2019\",\"3/17/2019\",\"3/18/2019\",\"3/19/2019\",\"3/2/2019\",\"3/20/2019\",\"3/22/2019\",\"3/23/2019\",\"3/24/2019\",\"3/25/2019\",\"3/26/2019\",\"3/27/2019\",\"3/28/2019\",\"3/3/2019\",\"3/30/2019\",\"3/4/2019\",\"3/5/2019\",\"3/6/2019\",\"3/7/2019\",\"3/8/2019\",\"3/9/2019\"],\"xaxis\":\"x\",\"y\":[621.243,586.971,94.1745,1372.1295,203.7105,1172.031,154.392,218.60999999999999,834.2355,624.33,593.3865000000001,667.8,460.30949999999996,1021.7549999999999,780.5699999999999,866.1345,909.9195,125.055,1188.726,2058.294,288.582,523.236,655.9455,967.5225,1379.574,976.479,1250.1405,652.26,851.8755,515.8965000000001,952.4970000000001,1412.4495,142.947,933.492,206.808,1216.53,323.21099999999996,955.374,175.917,800.9925000000001,267.9915,1154.2545,627.165,460.824,355.53,177.744,468.13199999999995,1296.5925,55.881,652.7115,1433.67,328.188,397.614,395.451,1121.9144999999999,263.50800000000004,408.492,369.495,150.6225,1819.398,570.6855,989.1315,75.054,1035.8145,370.125,401.73,236.1765,943.299,620.8965,48.7305,85.512,462.672,519.351,104.832,69.09,718.5675,2010.897],\"yaxis\":\"y\",\"type\":\"scatter\"},{\"hovertemplate\":\"Product line=Food and beverages<br>Date=%{x}<br>total=%{y}<extra></extra>\",\"legendgroup\":\"Food and beverages\",\"line\":{\"color\":\"#00cc96\",\"dash\":\"solid\"},\"marker\":{\"symbol\":\"circle\"},\"mode\":\"lines\",\"name\":\"Food and beverages\",\"orientation\":\"v\",\"showlegend\":true,\"x\":[\"1/1/2019\",\"1/10/2019\",\"1/11/2019\",\"1/13/2019\",\"1/14/2019\",\"1/15/2019\",\"1/16/2019\",\"1/17/2019\",\"1/18/2019\",\"1/19/2019\",\"1/2/2019\",\"1/21/2019\",\"1/22/2019\",\"1/23/2019\",\"1/25/2019\",\"1/26/2019\",\"1/27/2019\",\"1/28/2019\",\"1/29/2019\",\"1/30/2019\",\"1/5/2019\",\"1/6/2019\",\"1/7/2019\",\"1/8/2019\",\"2/1/2019\",\"2/10/2019\",\"2/11/2019\",\"2/12/2019\",\"2/13/2019\",\"2/14/2019\",\"2/15/2019\",\"2/16/2019\",\"2/17/2019\",\"2/19/2019\",\"2/2/2019\",\"2/20/2019\",\"2/22/2019\",\"2/23/2019\",\"2/24/2019\",\"2/25/2019\",\"2/26/2019\",\"2/27/2019\",\"2/28/2019\",\"2/3/2019\",\"2/4/2019\",\"2/5/2019\",\"2/6/2019\",\"2/7/2019\",\"2/9/2019\",\"3/1/2019\",\"3/10/2019\",\"3/11/2019\",\"3/12/2019\",\"3/13/2019\",\"3/14/2019\",\"3/16/2019\",\"3/17/2019\",\"3/19/2019\",\"3/2/2019\",\"3/20/2019\",\"3/21/2019\",\"3/22/2019\",\"3/23/2019\",\"3/24/2019\",\"3/25/2019\",\"3/26/2019\",\"3/27/2019\",\"3/28/2019\",\"3/3/2019\",\"3/30/2019\",\"3/4/2019\",\"3/5/2019\",\"3/6/2019\",\"3/7/2019\",\"3/8/2019\",\"3/9/2019\"],\"xaxis\":\"x\",\"y\":[1066.023,477.1305,883.89,240.387,1282.869,267.477,1378.377,1112.1390000000001,166.236,1220.646,262.458,320.9955,151.515,1555.6905,820.4385,960.4454999999999,1083.2849999999999,84.7455,529.515,509.4075,74.76,1154.475,460.131,2473.0335,625.8315,234.0975,1747.2,914.55,31.227,499.10699999999997,1107.225,182.427,1158.4965,1105.545,1149.4665,1511.3595,31.9305,994.9590000000001,222.012,628.7505000000001,384.2685,1773.093,507.906,1983.555,169.18650000000002,794.745,661.6995000000001,1128.099,453.62100000000004,370.944,388.99350000000004,294.651,800.4359999999999,621.474,1310.652,1163.6625,23.751,175.014,279.384,504.47249999999997,360.927,296.94,631.6065,321.111,481.047,154.1295,888.4785,1193.073,953.2529999999999,805.308,1142.652,1032.045,456.288,209.559,254.9925,1459.1115],\"yaxis\":\"y\",\"type\":\"scatter\"},{\"hovertemplate\":\"Product line=Health and beauty<br>Date=%{x}<br>total=%{y}<extra></extra>\",\"legendgroup\":\"Health and beauty\",\"line\":{\"color\":\"#ab63fa\",\"dash\":\"solid\"},\"marker\":{\"symbol\":\"circle\"},\"mode\":\"lines\",\"name\":\"Health and beauty\",\"orientation\":\"v\",\"showlegend\":true,\"x\":[\"1/1/2019\",\"1/10/2019\",\"1/12/2019\",\"1/13/2019\",\"1/14/2019\",\"1/15/2019\",\"1/17/2019\",\"1/18/2019\",\"1/2/2019\",\"1/20/2019\",\"1/21/2019\",\"1/22/2019\",\"1/23/2019\",\"1/24/2019\",\"1/25/2019\",\"1/26/2019\",\"1/27/2019\",\"1/28/2019\",\"1/29/2019\",\"1/3/2019\",\"1/4/2019\",\"1/5/2019\",\"1/6/2019\",\"2/1/2019\",\"2/10/2019\",\"2/11/2019\",\"2/12/2019\",\"2/14/2019\",\"2/15/2019\",\"2/16/2019\",\"2/17/2019\",\"2/18/2019\",\"2/19/2019\",\"2/2/2019\",\"2/20/2019\",\"2/21/2019\",\"2/23/2019\",\"2/24/2019\",\"2/25/2019\",\"2/26/2019\",\"2/27/2019\",\"2/28/2019\",\"2/4/2019\",\"2/5/2019\",\"2/6/2019\",\"2/7/2019\",\"2/8/2019\",\"2/9/2019\",\"3/1/2019\",\"3/10/2019\",\"3/11/2019\",\"3/12/2019\",\"3/13/2019\",\"3/14/2019\",\"3/15/2019\",\"3/16/2019\",\"3/19/2019\",\"3/2/2019\",\"3/23/2019\",\"3/24/2019\",\"3/25/2019\",\"3/26/2019\",\"3/27/2019\",\"3/28/2019\",\"3/29/2019\",\"3/3/2019\",\"3/30/2019\",\"3/4/2019\",\"3/5/2019\",\"3/6/2019\",\"3/7/2019\",\"3/8/2019\",\"3/9/2019\"],\"xaxis\":\"x\",\"y\":[132.027,76.146,148.5855,374.409,600.0645,1294.9755,131.922,41.391,359.205,704.088,1015.6965,544.1835,1540.371,406.875,1554.1155,762.048,892.9200000000001,2532.4215,42.3675,1230.012,110.0925,1128.813,760.4415,326.256,70.287,794.6505,160.209,536.4449999999999,1594.6560000000002,300.573,290.0835,216.09,449.7675,19.2465,689.4300000000001,564.9314999999999,75.474,53.34,825.6990000000001,628.173,1793.652,176.4,130.8825,1580.0295,792.9075,1371.615,273.0525,888.405,192.654,860.475,850.227,1023.6765,356.78999999999996,867.09,625.7475,32.277,500.8605,860.4014999999999,461.328,435.12,49.77,563.409,272.664,74.088,2809.422,532.1715,1970.6399999999999,1432.7355,1639.911,83.727,146.9475,803.628,762.552],\"yaxis\":\"y\",\"type\":\"scatter\"},{\"hovertemplate\":\"Product line=Home and lifestyle<br>Date=%{x}<br>total=%{y}<extra></extra>\",\"legendgroup\":\"Home and lifestyle\",\"line\":{\"color\":\"#FFA15A\",\"dash\":\"solid\"},\"marker\":{\"symbol\":\"circle\"},\"mode\":\"lines\",\"name\":\"Home and lifestyle\",\"orientation\":\"v\",\"showlegend\":true,\"x\":[\"1/1/2019\",\"1/10/2019\",\"1/11/2019\",\"1/12/2019\",\"1/13/2019\",\"1/15/2019\",\"1/16/2019\",\"1/17/2019\",\"1/18/2019\",\"1/19/2019\",\"1/20/2019\",\"1/21/2019\",\"1/22/2019\",\"1/23/2019\",\"1/24/2019\",\"1/25/2019\",\"1/26/2019\",\"1/27/2019\",\"1/28/2019\",\"1/29/2019\",\"1/3/2019\",\"1/30/2019\",\"1/4/2019\",\"1/5/2019\",\"1/6/2019\",\"1/7/2019\",\"1/8/2019\",\"1/9/2019\",\"2/1/2019\",\"2/10/2019\",\"2/11/2019\",\"2/12/2019\",\"2/15/2019\",\"2/17/2019\",\"2/18/2019\",\"2/2/2019\",\"2/20/2019\",\"2/22/2019\",\"2/24/2019\",\"2/25/2019\",\"2/3/2019\",\"2/4/2019\",\"2/5/2019\",\"2/6/2019\",\"2/7/2019\",\"2/8/2019\",\"2/9/2019\",\"3/1/2019\",\"3/10/2019\",\"3/11/2019\",\"3/12/2019\",\"3/13/2019\",\"3/14/2019\",\"3/15/2019\",\"3/16/2019\",\"3/17/2019\",\"3/18/2019\",\"3/19/2019\",\"3/2/2019\",\"3/20/2019\",\"3/21/2019\",\"3/22/2019\",\"3/23/2019\",\"3/24/2019\",\"3/26/2019\",\"3/27/2019\",\"3/29/2019\",\"3/3/2019\",\"3/30/2019\",\"3/4/2019\",\"3/5/2019\",\"3/6/2019\",\"3/7/2019\",\"3/8/2019\",\"3/9/2019\"],\"xaxis\":\"x\",\"y\":[399.756,493.794,608.076,375.3645,255.1815,915.0435,667.38,921.8685,182.952,1121.442,1739.661,952.371,1009.0709999999999,726.747,718.6514999999999,419.937,107.31,863.772,293.202,458.6925,750.0675000000001,79.3905,373.17,1119.8565,755.958,432.663,468.7515,234.885,763.4655,349.062,950.0505,633.99,680.9565,745.836,216.846,906.339,169.73250000000002,313.09950000000003,1223.607,430.71,1461.558,748.755,163.233,423.8745,1112.8215,431.655,708.792,72.933,1026.837,766.038,493.4895,536.844,590.6669999999999,746.3294999999999,99.75,431.97,752.598,578.046,1090.4355,1896.783,319.788,888.762,1032.108,1461.915,116.1405,93.114,228.123,1756.9335,216.846,552.111,1450.134,642.474,519.645,1165.962,383.523],\"yaxis\":\"y\",\"type\":\"scatter\"},{\"hovertemplate\":\"Product line=Sports and travel<br>Date=%{x}<br>total=%{y}<extra></extra>\",\"legendgroup\":\"Sports and travel\",\"line\":{\"color\":\"#19d3f3\",\"dash\":\"solid\"},\"marker\":{\"symbol\":\"circle\"},\"mode\":\"lines\",\"name\":\"Sports and travel\",\"orientation\":\"v\",\"showlegend\":true,\"x\":[\"1/1/2019\",\"1/10/2019\",\"1/11/2019\",\"1/12/2019\",\"1/13/2019\",\"1/14/2019\",\"1/15/2019\",\"1/16/2019\",\"1/17/2019\",\"1/18/2019\",\"1/19/2019\",\"1/2/2019\",\"1/20/2019\",\"1/21/2019\",\"1/23/2019\",\"1/24/2019\",\"1/25/2019\",\"1/26/2019\",\"1/27/2019\",\"1/28/2019\",\"1/29/2019\",\"1/3/2019\",\"1/30/2019\",\"1/31/2019\",\"1/4/2019\",\"1/6/2019\",\"1/7/2019\",\"1/8/2019\",\"1/9/2019\",\"2/1/2019\",\"2/10/2019\",\"2/11/2019\",\"2/12/2019\",\"2/13/2019\",\"2/14/2019\",\"2/15/2019\",\"2/16/2019\",\"2/17/2019\",\"2/19/2019\",\"2/2/2019\",\"2/20/2019\",\"2/21/2019\",\"2/22/2019\",\"2/23/2019\",\"2/24/2019\",\"2/25/2019\",\"2/26/2019\",\"2/27/2019\",\"2/3/2019\",\"2/4/2019\",\"2/5/2019\",\"2/7/2019\",\"2/8/2019\",\"2/9/2019\",\"3/10/2019\",\"3/11/2019\",\"3/12/2019\",\"3/13/2019\",\"3/14/2019\",\"3/15/2019\",\"3/16/2019\",\"3/17/2019\",\"3/18/2019\",\"3/19/2019\",\"3/2/2019\",\"3/20/2019\",\"3/21/2019\",\"3/22/2019\",\"3/23/2019\",\"3/24/2019\",\"3/25/2019\",\"3/26/2019\",\"3/27/2019\",\"3/30/2019\",\"3/4/2019\",\"3/5/2019\",\"3/6/2019\",\"3/9/2019\"],\"xaxis\":\"x\",\"y\":[1143.387,1476.384,528.822,564.795,792.393,36.5505,730.821,1021.125,976.8254999999999,1417.5315,1240.1025,591.7905000000001,543.9,103.0365,942.9,1776.789,877.4324999999999,741.615,320.0925,1417.9095,639.7545,98.049,183.939,807.6075000000001,146.223,287.385,647.5034999999999,510.699,99.54,510.972,146.328,397.992,150.423,171.003,582.2355,170.6565,545.055,1867.614,470.988,432.768,335.895,207.48,958.9965,429.1665,365.085,639.6495,458.4405,353.1675,1561.9904999999999,226.065,271.509,58.5375,2264.073,233.52,410.151,471.6495,1133.748,153.048,1188.0645,1065.372,1048.6035,1151.0729999999999,174.615,937.818,1561.9695,1598.4045,207.858,1818.4845,162.75,207.21749999999997,195.951,41.076,588.357,765.4604999999999,90.699,1342.761,1453.1055,1877.9564999999998],\"yaxis\":\"y\",\"type\":\"scatter\"}],                        {\"template\":{\"data\":{\"bar\":[{\"error_x\":{\"color\":\"#2a3f5f\"},\"error_y\":{\"color\":\"#2a3f5f\"},\"marker\":{\"line\":{\"color\":\"#E5ECF6\",\"width\":0.5},\"pattern\":{\"fillmode\":\"overlay\",\"size\":10,\"solidity\":0.2}},\"type\":\"bar\"}],\"barpolar\":[{\"marker\":{\"line\":{\"color\":\"#E5ECF6\",\"width\":0.5},\"pattern\":{\"fillmode\":\"overlay\",\"size\":10,\"solidity\":0.2}},\"type\":\"barpolar\"}],\"carpet\":[{\"aaxis\":{\"endlinecolor\":\"#2a3f5f\",\"gridcolor\":\"white\",\"linecolor\":\"white\",\"minorgridcolor\":\"white\",\"startlinecolor\":\"#2a3f5f\"},\"baxis\":{\"endlinecolor\":\"#2a3f5f\",\"gridcolor\":\"white\",\"linecolor\":\"white\",\"minorgridcolor\":\"white\",\"startlinecolor\":\"#2a3f5f\"},\"type\":\"carpet\"}],\"choropleth\":[{\"colorbar\":{\"outlinewidth\":0,\"ticks\":\"\"},\"type\":\"choropleth\"}],\"contour\":[{\"colorbar\":{\"outlinewidth\":0,\"ticks\":\"\"},\"colorscale\":[[0.0,\"#0d0887\"],[0.1111111111111111,\"#46039f\"],[0.2222222222222222,\"#7201a8\"],[0.3333333333333333,\"#9c179e\"],[0.4444444444444444,\"#bd3786\"],[0.5555555555555556,\"#d8576b\"],[0.6666666666666666,\"#ed7953\"],[0.7777777777777778,\"#fb9f3a\"],[0.8888888888888888,\"#fdca26\"],[1.0,\"#f0f921\"]],\"type\":\"contour\"}],\"contourcarpet\":[{\"colorbar\":{\"outlinewidth\":0,\"ticks\":\"\"},\"type\":\"contourcarpet\"}],\"heatmap\":[{\"colorbar\":{\"outlinewidth\":0,\"ticks\":\"\"},\"colorscale\":[[0.0,\"#0d0887\"],[0.1111111111111111,\"#46039f\"],[0.2222222222222222,\"#7201a8\"],[0.3333333333333333,\"#9c179e\"],[0.4444444444444444,\"#bd3786\"],[0.5555555555555556,\"#d8576b\"],[0.6666666666666666,\"#ed7953\"],[0.7777777777777778,\"#fb9f3a\"],[0.8888888888888888,\"#fdca26\"],[1.0,\"#f0f921\"]],\"type\":\"heatmap\"}],\"heatmapgl\":[{\"colorbar\":{\"outlinewidth\":0,\"ticks\":\"\"},\"colorscale\":[[0.0,\"#0d0887\"],[0.1111111111111111,\"#46039f\"],[0.2222222222222222,\"#7201a8\"],[0.3333333333333333,\"#9c179e\"],[0.4444444444444444,\"#bd3786\"],[0.5555555555555556,\"#d8576b\"],[0.6666666666666666,\"#ed7953\"],[0.7777777777777778,\"#fb9f3a\"],[0.8888888888888888,\"#fdca26\"],[1.0,\"#f0f921\"]],\"type\":\"heatmapgl\"}],\"histogram\":[{\"marker\":{\"pattern\":{\"fillmode\":\"overlay\",\"size\":10,\"solidity\":0.2}},\"type\":\"histogram\"}],\"histogram2d\":[{\"colorbar\":{\"outlinewidth\":0,\"ticks\":\"\"},\"colorscale\":[[0.0,\"#0d0887\"],[0.1111111111111111,\"#46039f\"],[0.2222222222222222,\"#7201a8\"],[0.3333333333333333,\"#9c179e\"],[0.4444444444444444,\"#bd3786\"],[0.5555555555555556,\"#d8576b\"],[0.6666666666666666,\"#ed7953\"],[0.7777777777777778,\"#fb9f3a\"],[0.8888888888888888,\"#fdca26\"],[1.0,\"#f0f921\"]],\"type\":\"histogram2d\"}],\"histogram2dcontour\":[{\"colorbar\":{\"outlinewidth\":0,\"ticks\":\"\"},\"colorscale\":[[0.0,\"#0d0887\"],[0.1111111111111111,\"#46039f\"],[0.2222222222222222,\"#7201a8\"],[0.3333333333333333,\"#9c179e\"],[0.4444444444444444,\"#bd3786\"],[0.5555555555555556,\"#d8576b\"],[0.6666666666666666,\"#ed7953\"],[0.7777777777777778,\"#fb9f3a\"],[0.8888888888888888,\"#fdca26\"],[1.0,\"#f0f921\"]],\"type\":\"histogram2dcontour\"}],\"mesh3d\":[{\"colorbar\":{\"outlinewidth\":0,\"ticks\":\"\"},\"type\":\"mesh3d\"}],\"parcoords\":[{\"line\":{\"colorbar\":{\"outlinewidth\":0,\"ticks\":\"\"}},\"type\":\"parcoords\"}],\"pie\":[{\"automargin\":true,\"type\":\"pie\"}],\"scatter\":[{\"marker\":{\"colorbar\":{\"outlinewidth\":0,\"ticks\":\"\"}},\"type\":\"scatter\"}],\"scatter3d\":[{\"line\":{\"colorbar\":{\"outlinewidth\":0,\"ticks\":\"\"}},\"marker\":{\"colorbar\":{\"outlinewidth\":0,\"ticks\":\"\"}},\"type\":\"scatter3d\"}],\"scattercarpet\":[{\"marker\":{\"colorbar\":{\"outlinewidth\":0,\"ticks\":\"\"}},\"type\":\"scattercarpet\"}],\"scattergeo\":[{\"marker\":{\"colorbar\":{\"outlinewidth\":0,\"ticks\":\"\"}},\"type\":\"scattergeo\"}],\"scattergl\":[{\"marker\":{\"colorbar\":{\"outlinewidth\":0,\"ticks\":\"\"}},\"type\":\"scattergl\"}],\"scattermapbox\":[{\"marker\":{\"colorbar\":{\"outlinewidth\":0,\"ticks\":\"\"}},\"type\":\"scattermapbox\"}],\"scatterpolar\":[{\"marker\":{\"colorbar\":{\"outlinewidth\":0,\"ticks\":\"\"}},\"type\":\"scatterpolar\"}],\"scatterpolargl\":[{\"marker\":{\"colorbar\":{\"outlinewidth\":0,\"ticks\":\"\"}},\"type\":\"scatterpolargl\"}],\"scatterternary\":[{\"marker\":{\"colorbar\":{\"outlinewidth\":0,\"ticks\":\"\"}},\"type\":\"scatterternary\"}],\"surface\":[{\"colorbar\":{\"outlinewidth\":0,\"ticks\":\"\"},\"colorscale\":[[0.0,\"#0d0887\"],[0.1111111111111111,\"#46039f\"],[0.2222222222222222,\"#7201a8\"],[0.3333333333333333,\"#9c179e\"],[0.4444444444444444,\"#bd3786\"],[0.5555555555555556,\"#d8576b\"],[0.6666666666666666,\"#ed7953\"],[0.7777777777777778,\"#fb9f3a\"],[0.8888888888888888,\"#fdca26\"],[1.0,\"#f0f921\"]],\"type\":\"surface\"}],\"table\":[{\"cells\":{\"fill\":{\"color\":\"#EBF0F8\"},\"line\":{\"color\":\"white\"}},\"header\":{\"fill\":{\"color\":\"#C8D4E3\"},\"line\":{\"color\":\"white\"}},\"type\":\"table\"}]},\"layout\":{\"annotationdefaults\":{\"arrowcolor\":\"#2a3f5f\",\"arrowhead\":0,\"arrowwidth\":1},\"autotypenumbers\":\"strict\",\"coloraxis\":{\"colorbar\":{\"outlinewidth\":0,\"ticks\":\"\"}},\"colorscale\":{\"diverging\":[[0,\"#8e0152\"],[0.1,\"#c51b7d\"],[0.2,\"#de77ae\"],[0.3,\"#f1b6da\"],[0.4,\"#fde0ef\"],[0.5,\"#f7f7f7\"],[0.6,\"#e6f5d0\"],[0.7,\"#b8e186\"],[0.8,\"#7fbc41\"],[0.9,\"#4d9221\"],[1,\"#276419\"]],\"sequential\":[[0.0,\"#0d0887\"],[0.1111111111111111,\"#46039f\"],[0.2222222222222222,\"#7201a8\"],[0.3333333333333333,\"#9c179e\"],[0.4444444444444444,\"#bd3786\"],[0.5555555555555556,\"#d8576b\"],[0.6666666666666666,\"#ed7953\"],[0.7777777777777778,\"#fb9f3a\"],[0.8888888888888888,\"#fdca26\"],[1.0,\"#f0f921\"]],\"sequentialminus\":[[0.0,\"#0d0887\"],[0.1111111111111111,\"#46039f\"],[0.2222222222222222,\"#7201a8\"],[0.3333333333333333,\"#9c179e\"],[0.4444444444444444,\"#bd3786\"],[0.5555555555555556,\"#d8576b\"],[0.6666666666666666,\"#ed7953\"],[0.7777777777777778,\"#fb9f3a\"],[0.8888888888888888,\"#fdca26\"],[1.0,\"#f0f921\"]]},\"colorway\":[\"#636efa\",\"#EF553B\",\"#00cc96\",\"#ab63fa\",\"#FFA15A\",\"#19d3f3\",\"#FF6692\",\"#B6E880\",\"#FF97FF\",\"#FECB52\"],\"font\":{\"color\":\"#2a3f5f\"},\"geo\":{\"bgcolor\":\"white\",\"lakecolor\":\"white\",\"landcolor\":\"#E5ECF6\",\"showlakes\":true,\"showland\":true,\"subunitcolor\":\"white\"},\"hoverlabel\":{\"align\":\"left\"},\"hovermode\":\"closest\",\"mapbox\":{\"style\":\"light\"},\"paper_bgcolor\":\"white\",\"plot_bgcolor\":\"#E5ECF6\",\"polar\":{\"angularaxis\":{\"gridcolor\":\"white\",\"linecolor\":\"white\",\"ticks\":\"\"},\"bgcolor\":\"#E5ECF6\",\"radialaxis\":{\"gridcolor\":\"white\",\"linecolor\":\"white\",\"ticks\":\"\"}},\"scene\":{\"xaxis\":{\"backgroundcolor\":\"#E5ECF6\",\"gridcolor\":\"white\",\"gridwidth\":2,\"linecolor\":\"white\",\"showbackground\":true,\"ticks\":\"\",\"zerolinecolor\":\"white\"},\"yaxis\":{\"backgroundcolor\":\"#E5ECF6\",\"gridcolor\":\"white\",\"gridwidth\":2,\"linecolor\":\"white\",\"showbackground\":true,\"ticks\":\"\",\"zerolinecolor\":\"white\"},\"zaxis\":{\"backgroundcolor\":\"#E5ECF6\",\"gridcolor\":\"white\",\"gridwidth\":2,\"linecolor\":\"white\",\"showbackground\":true,\"ticks\":\"\",\"zerolinecolor\":\"white\"}},\"shapedefaults\":{\"line\":{\"color\":\"#2a3f5f\"}},\"ternary\":{\"aaxis\":{\"gridcolor\":\"white\",\"linecolor\":\"white\",\"ticks\":\"\"},\"baxis\":{\"gridcolor\":\"white\",\"linecolor\":\"white\",\"ticks\":\"\"},\"bgcolor\":\"#E5ECF6\",\"caxis\":{\"gridcolor\":\"white\",\"linecolor\":\"white\",\"ticks\":\"\"}},\"title\":{\"x\":0.05},\"xaxis\":{\"automargin\":true,\"gridcolor\":\"white\",\"linecolor\":\"white\",\"ticks\":\"\",\"title\":{\"standoff\":15},\"zerolinecolor\":\"white\",\"zerolinewidth\":2},\"yaxis\":{\"automargin\":true,\"gridcolor\":\"white\",\"linecolor\":\"white\",\"ticks\":\"\",\"title\":{\"standoff\":15},\"zerolinecolor\":\"white\",\"zerolinewidth\":2}}},\"xaxis\":{\"anchor\":\"y\",\"domain\":[0.0,1.0],\"title\":{\"text\":\"Date\"}},\"yaxis\":{\"anchor\":\"x\",\"domain\":[0.0,1.0],\"title\":{\"text\":\"total\"}},\"legend\":{\"title\":{\"text\":\"Product line\"},\"tracegroupgap\":0},\"margin\":{\"t\":60}},                        {\"responsive\": true}                    ).then(function(){\n",
              "                            \n",
              "var gd = document.getElementById('c01bb1c7-408a-44da-95f9-ddef5aa8805f');\n",
              "var x = new MutationObserver(function (mutations, observer) {{\n",
              "        var display = window.getComputedStyle(gd).display;\n",
              "        if (!display || display === 'none') {{\n",
              "            console.log([gd, 'removed!']);\n",
              "            Plotly.purge(gd);\n",
              "            observer.disconnect();\n",
              "        }}\n",
              "}});\n",
              "\n",
              "// Listen for the removal of the full notebook cells\n",
              "var notebookContainer = gd.closest('#notebook-container');\n",
              "if (notebookContainer) {{\n",
              "    x.observe(notebookContainer, {childList: true});\n",
              "}}\n",
              "\n",
              "// Listen for the clearing of the current output cell\n",
              "var outputEl = gd.closest('.output');\n",
              "if (outputEl) {{\n",
              "    x.observe(outputEl, {childList: true});\n",
              "}}\n",
              "\n",
              "                        })                };                            </script>        </div>\n",
              "</body>\n",
              "</html>"
            ]
          },
          "metadata": {}
        }
      ]
    },
    {
      "cell_type": "markdown",
      "source": [
        "# Thông kê lượng tiền qua các hình thức thanh toán"
      ],
      "metadata": {
        "id": "YcM7fxoGz8vF"
      }
    },
    {
      "cell_type": "code",
      "source": [
        "df.groupby(['Payment']).agg({\"Total\": [np.mean, np.sum, np.min, np.max], \"Quantity\": [np.mean, np.sum], \"Unit price\": [np.mean, np.sum, np.min, np.max]})"
      ],
      "metadata": {
        "colab": {
          "base_uri": "https://localhost:8080/",
          "height": 206
        },
        "id": "jl_tHPVQwMEB",
        "outputId": "990cb7e3-0782-49a2-dc01-bf69e05093e7"
      },
      "execution_count": 38,
      "outputs": [
        {
          "output_type": "execute_result",
          "data": {
            "text/html": [
              "\n",
              "  <div id=\"df-edb27c16-fde6-454d-9cd1-661cf078ba6d\">\n",
              "    <div class=\"colab-df-container\">\n",
              "      <div>\n",
              "<style scoped>\n",
              "    .dataframe tbody tr th:only-of-type {\n",
              "        vertical-align: middle;\n",
              "    }\n",
              "\n",
              "    .dataframe tbody tr th {\n",
              "        vertical-align: top;\n",
              "    }\n",
              "\n",
              "    .dataframe thead tr th {\n",
              "        text-align: left;\n",
              "    }\n",
              "\n",
              "    .dataframe thead tr:last-of-type th {\n",
              "        text-align: right;\n",
              "    }\n",
              "</style>\n",
              "<table border=\"1\" class=\"dataframe\">\n",
              "  <thead>\n",
              "    <tr>\n",
              "      <th></th>\n",
              "      <th colspan=\"4\" halign=\"left\">Total</th>\n",
              "      <th colspan=\"2\" halign=\"left\">Quantity</th>\n",
              "      <th colspan=\"4\" halign=\"left\">Unit price</th>\n",
              "    </tr>\n",
              "    <tr>\n",
              "      <th></th>\n",
              "      <th>mean</th>\n",
              "      <th>sum</th>\n",
              "      <th>amin</th>\n",
              "      <th>amax</th>\n",
              "      <th>mean</th>\n",
              "      <th>sum</th>\n",
              "      <th>mean</th>\n",
              "      <th>sum</th>\n",
              "      <th>amin</th>\n",
              "      <th>amax</th>\n",
              "    </tr>\n",
              "    <tr>\n",
              "      <th>Payment</th>\n",
              "      <th></th>\n",
              "      <th></th>\n",
              "      <th></th>\n",
              "      <th></th>\n",
              "      <th></th>\n",
              "      <th></th>\n",
              "      <th></th>\n",
              "      <th></th>\n",
              "      <th></th>\n",
              "      <th></th>\n",
              "    </tr>\n",
              "  </thead>\n",
              "  <tbody>\n",
              "    <tr>\n",
              "      <th>Cash</th>\n",
              "      <td>322.224737</td>\n",
              "      <td>110200.860</td>\n",
              "      <td>10.6785</td>\n",
              "      <td>950.250</td>\n",
              "      <td>5.485380</td>\n",
              "      <td>1876</td>\n",
              "      <td>56.532368</td>\n",
              "      <td>19334.07</td>\n",
              "      <td>10.08</td>\n",
              "      <td>99.96</td>\n",
              "    </tr>\n",
              "    <tr>\n",
              "      <th>Credit card</th>\n",
              "      <td>314.794925</td>\n",
              "      <td>96642.042</td>\n",
              "      <td>12.6945</td>\n",
              "      <td>944.622</td>\n",
              "      <td>5.478827</td>\n",
              "      <td>1682</td>\n",
              "      <td>53.823518</td>\n",
              "      <td>16523.82</td>\n",
              "      <td>10.18</td>\n",
              "      <td>99.96</td>\n",
              "    </tr>\n",
              "    <tr>\n",
              "      <th>Ewallet</th>\n",
              "      <td>312.609377</td>\n",
              "      <td>106912.407</td>\n",
              "      <td>13.4190</td>\n",
              "      <td>951.825</td>\n",
              "      <td>5.444444</td>\n",
              "      <td>1862</td>\n",
              "      <td>55.371228</td>\n",
              "      <td>18936.96</td>\n",
              "      <td>10.13</td>\n",
              "      <td>99.92</td>\n",
              "    </tr>\n",
              "  </tbody>\n",
              "</table>\n",
              "</div>\n",
              "      <button class=\"colab-df-convert\" onclick=\"convertToInteractive('df-edb27c16-fde6-454d-9cd1-661cf078ba6d')\"\n",
              "              title=\"Convert this dataframe to an interactive table.\"\n",
              "              style=\"display:none;\">\n",
              "        \n",
              "  <svg xmlns=\"http://www.w3.org/2000/svg\" height=\"24px\"viewBox=\"0 0 24 24\"\n",
              "       width=\"24px\">\n",
              "    <path d=\"M0 0h24v24H0V0z\" fill=\"none\"/>\n",
              "    <path d=\"M18.56 5.44l.94 2.06.94-2.06 2.06-.94-2.06-.94-.94-2.06-.94 2.06-2.06.94zm-11 1L8.5 8.5l.94-2.06 2.06-.94-2.06-.94L8.5 2.5l-.94 2.06-2.06.94zm10 10l.94 2.06.94-2.06 2.06-.94-2.06-.94-.94-2.06-.94 2.06-2.06.94z\"/><path d=\"M17.41 7.96l-1.37-1.37c-.4-.4-.92-.59-1.43-.59-.52 0-1.04.2-1.43.59L10.3 9.45l-7.72 7.72c-.78.78-.78 2.05 0 2.83L4 21.41c.39.39.9.59 1.41.59.51 0 1.02-.2 1.41-.59l7.78-7.78 2.81-2.81c.8-.78.8-2.07 0-2.86zM5.41 20L4 18.59l7.72-7.72 1.47 1.35L5.41 20z\"/>\n",
              "  </svg>\n",
              "      </button>\n",
              "      \n",
              "  <style>\n",
              "    .colab-df-container {\n",
              "      display:flex;\n",
              "      flex-wrap:wrap;\n",
              "      gap: 12px;\n",
              "    }\n",
              "\n",
              "    .colab-df-convert {\n",
              "      background-color: #E8F0FE;\n",
              "      border: none;\n",
              "      border-radius: 50%;\n",
              "      cursor: pointer;\n",
              "      display: none;\n",
              "      fill: #1967D2;\n",
              "      height: 32px;\n",
              "      padding: 0 0 0 0;\n",
              "      width: 32px;\n",
              "    }\n",
              "\n",
              "    .colab-df-convert:hover {\n",
              "      background-color: #E2EBFA;\n",
              "      box-shadow: 0px 1px 2px rgba(60, 64, 67, 0.3), 0px 1px 3px 1px rgba(60, 64, 67, 0.15);\n",
              "      fill: #174EA6;\n",
              "    }\n",
              "\n",
              "    [theme=dark] .colab-df-convert {\n",
              "      background-color: #3B4455;\n",
              "      fill: #D2E3FC;\n",
              "    }\n",
              "\n",
              "    [theme=dark] .colab-df-convert:hover {\n",
              "      background-color: #434B5C;\n",
              "      box-shadow: 0px 1px 3px 1px rgba(0, 0, 0, 0.15);\n",
              "      filter: drop-shadow(0px 1px 2px rgba(0, 0, 0, 0.3));\n",
              "      fill: #FFFFFF;\n",
              "    }\n",
              "  </style>\n",
              "\n",
              "      <script>\n",
              "        const buttonEl =\n",
              "          document.querySelector('#df-edb27c16-fde6-454d-9cd1-661cf078ba6d button.colab-df-convert');\n",
              "        buttonEl.style.display =\n",
              "          google.colab.kernel.accessAllowed ? 'block' : 'none';\n",
              "\n",
              "        async function convertToInteractive(key) {\n",
              "          const element = document.querySelector('#df-edb27c16-fde6-454d-9cd1-661cf078ba6d');\n",
              "          const dataTable =\n",
              "            await google.colab.kernel.invokeFunction('convertToInteractive',\n",
              "                                                     [key], {});\n",
              "          if (!dataTable) return;\n",
              "\n",
              "          const docLinkHtml = 'Like what you see? Visit the ' +\n",
              "            '<a target=\"_blank\" href=https://colab.research.google.com/notebooks/data_table.ipynb>data table notebook</a>'\n",
              "            + ' to learn more about interactive tables.';\n",
              "          element.innerHTML = '';\n",
              "          dataTable['output_type'] = 'display_data';\n",
              "          await google.colab.output.renderOutput(dataTable, element);\n",
              "          const docLink = document.createElement('div');\n",
              "          docLink.innerHTML = docLinkHtml;\n",
              "          element.appendChild(docLink);\n",
              "        }\n",
              "      </script>\n",
              "    </div>\n",
              "  </div>\n",
              "  "
            ],
            "text/plain": [
              "                  Total                       ... Unit price              \n",
              "                   mean         sum     amin  ...        sum   amin   amax\n",
              "Payment                                       ...                         \n",
              "Cash         322.224737  110200.860  10.6785  ...   19334.07  10.08  99.96\n",
              "Credit card  314.794925   96642.042  12.6945  ...   16523.82  10.18  99.96\n",
              "Ewallet      312.609377  106912.407  13.4190  ...   18936.96  10.13  99.92\n",
              "\n",
              "[3 rows x 10 columns]"
            ]
          },
          "metadata": {},
          "execution_count": 38
        }
      ]
    },
    {
      "cell_type": "code",
      "source": [
        "plt.figure(figsize=(12,6))\n",
        "df_2=df.groupby(['Payment'])['Total'].sum().reset_index(name='total')\n",
        "fig = sns.barplot(data=df_2,x='Payment',y='total')\n",
        "#barPerc_without_hue\n",
        "barValue_horizontal(fig)\n",
        "\n",
        "plt.show()"
      ],
      "metadata": {
        "colab": {
          "base_uri": "https://localhost:8080/",
          "height": 388
        },
        "id": "BNVIHrz6yjhg",
        "outputId": "5f617428-5ecf-4be4-bda2-310fdd28726b"
      },
      "execution_count": 47,
      "outputs": [
        {
          "output_type": "display_data",
          "data": {
            "image/png": "[encoded data removed]",
            "text/plain": [
              "<Figure size 864x432 with 1 Axes>"
            ]
          },
          "metadata": {
            "needs_background": "light"
          }
        }
      ]
    }
  ]
}