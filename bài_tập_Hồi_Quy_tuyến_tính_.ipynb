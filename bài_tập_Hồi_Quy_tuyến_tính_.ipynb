{
  "nbformat": 4,
  "nbformat_minor": 0,
  "metadata": {
    "colab": {
      "name": "bài tập  Hồi Quy tuyến tính .ipynb",
      "provenance": [],
      "collapsed_sections": [],
      "authorship_tag": "ABX9TyNJtgcrbWGseYRiVGh1Yehi",
      "include_colab_link": true
    },
    "kernelspec": {
      "name": "python3",
      "display_name": "Python 3"
    },
    "language_info": {
      "name": "python"
    }
  },
  "cells": [
    {
      "cell_type": "markdown",
      "metadata": {
        "id": "view-in-github",
        "colab_type": "text"
      },
      "source": [
        "<a href=\"https://colab.research.google.com/github/mark3000-010701/Dataanalyst/blob/main/b%C3%A0i_t%E1%BA%ADp_H%E1%BB%93i_Quy_tuy%E1%BA%BFn_t%C3%ADnh_.ipynb\" target=\"_parent\"><img src=\"https://colab.research.google.com/assets/colab-badge.svg\" alt=\"Open In Colab\"/></a>"
      ]
    },
    {
      "cell_type": "markdown",
      "source": [
        "# **[Bài tập] Xây dựng mô hình hồi quy tuyến tính dự báo doanh thu theo số tiền quảng cáo**"
      ],
      "metadata": {
        "id": "YKdt2O9JiV5F"
      }
    },
    {
      "cell_type": "code",
      "execution_count": 1,
      "metadata": {
        "id": "u0kQMsrHgxVO"
      },
      "outputs": [],
      "source": [
        "import matplotlib.pyplot as plt\n",
        "import seaborn as sns\n",
        "import pandas as pd\n",
        "import numpy as np\n",
        "import sklearn\n",
        "from sklearn.model_selection import train_test_split\n",
        "\n",
        "from sklearn.linear_model import LinearRegression\n",
        "from sklearn.metrics import mean_squared_error"
      ]
    },
    {
      "cell_type": "code",
      "source": [
        "df = pd.read_csv(\"https://s3.ap-southeast-1.amazonaws.com/learn.codegym.vn/media/public/2022/03/10172251/advertising.csv\")\n",
        "df.head()"
      ],
      "metadata": {
        "colab": {
          "base_uri": "https://localhost:8080/",
          "height": 206
        },
        "id": "iDJmeoDbg-eE",
        "outputId": "ee0b4d85-5850-4ba7-c850-f86acd199eec"
      },
      "execution_count": 2,
      "outputs": [
        {
          "output_type": "execute_result",
          "data": {
            "text/plain": [
              "      TV  Radio  Newspaper  Sales\n",
              "0  230.1   37.8       69.2   22.1\n",
              "1   44.5   39.3       45.1   10.4\n",
              "2   17.2   45.9       69.3   12.0\n",
              "3  151.5   41.3       58.5   16.5\n",
              "4  180.8   10.8       58.4   17.9"
            ],
            "text/html": [
              "\n",
              "  <div id=\"df-2cc33a48-9c6d-452c-9deb-4adbd18bba53\">\n",
              "    <div class=\"colab-df-container\">\n",
              "      <div>\n",
              "<style scoped>\n",
              "    .dataframe tbody tr th:only-of-type {\n",
              "        vertical-align: middle;\n",
              "    }\n",
              "\n",
              "    .dataframe tbody tr th {\n",
              "        vertical-align: top;\n",
              "    }\n",
              "\n",
              "    .dataframe thead th {\n",
              "        text-align: right;\n",
              "    }\n",
              "</style>\n",
              "<table border=\"1\" class=\"dataframe\">\n",
              "  <thead>\n",
              "    <tr style=\"text-align: right;\">\n",
              "      <th></th>\n",
              "      <th>TV</th>\n",
              "      <th>Radio</th>\n",
              "      <th>Newspaper</th>\n",
              "      <th>Sales</th>\n",
              "    </tr>\n",
              "  </thead>\n",
              "  <tbody>\n",
              "    <tr>\n",
              "      <th>0</th>\n",
              "      <td>230.1</td>\n",
              "      <td>37.8</td>\n",
              "      <td>69.2</td>\n",
              "      <td>22.1</td>\n",
              "    </tr>\n",
              "    <tr>\n",
              "      <th>1</th>\n",
              "      <td>44.5</td>\n",
              "      <td>39.3</td>\n",
              "      <td>45.1</td>\n",
              "      <td>10.4</td>\n",
              "    </tr>\n",
              "    <tr>\n",
              "      <th>2</th>\n",
              "      <td>17.2</td>\n",
              "      <td>45.9</td>\n",
              "      <td>69.3</td>\n",
              "      <td>12.0</td>\n",
              "    </tr>\n",
              "    <tr>\n",
              "      <th>3</th>\n",
              "      <td>151.5</td>\n",
              "      <td>41.3</td>\n",
              "      <td>58.5</td>\n",
              "      <td>16.5</td>\n",
              "    </tr>\n",
              "    <tr>\n",
              "      <th>4</th>\n",
              "      <td>180.8</td>\n",
              "      <td>10.8</td>\n",
              "      <td>58.4</td>\n",
              "      <td>17.9</td>\n",
              "    </tr>\n",
              "  </tbody>\n",
              "</table>\n",
              "</div>\n",
              "      <button class=\"colab-df-convert\" onclick=\"convertToInteractive('df-2cc33a48-9c6d-452c-9deb-4adbd18bba53')\"\n",
              "              title=\"Convert this dataframe to an interactive table.\"\n",
              "              style=\"display:none;\">\n",
              "        \n",
              "  <svg xmlns=\"http://www.w3.org/2000/svg\" height=\"24px\"viewBox=\"0 0 24 24\"\n",
              "       width=\"24px\">\n",
              "    <path d=\"M0 0h24v24H0V0z\" fill=\"none\"/>\n",
              "    <path d=\"M18.56 5.44l.94 2.06.94-2.06 2.06-.94-2.06-.94-.94-2.06-.94 2.06-2.06.94zm-11 1L8.5 8.5l.94-2.06 2.06-.94-2.06-.94L8.5 2.5l-.94 2.06-2.06.94zm10 10l.94 2.06.94-2.06 2.06-.94-2.06-.94-.94-2.06-.94 2.06-2.06.94z\"/><path d=\"M17.41 7.96l-1.37-1.37c-.4-.4-.92-.59-1.43-.59-.52 0-1.04.2-1.43.59L10.3 9.45l-7.72 7.72c-.78.78-.78 2.05 0 2.83L4 21.41c.39.39.9.59 1.41.59.51 0 1.02-.2 1.41-.59l7.78-7.78 2.81-2.81c.8-.78.8-2.07 0-2.86zM5.41 20L4 18.59l7.72-7.72 1.47 1.35L5.41 20z\"/>\n",
              "  </svg>\n",
              "      </button>\n",
              "      \n",
              "  <style>\n",
              "    .colab-df-container {\n",
              "      display:flex;\n",
              "      flex-wrap:wrap;\n",
              "      gap: 12px;\n",
              "    }\n",
              "\n",
              "    .colab-df-convert {\n",
              "      background-color: #E8F0FE;\n",
              "      border: none;\n",
              "      border-radius: 50%;\n",
              "      cursor: pointer;\n",
              "      display: none;\n",
              "      fill: #1967D2;\n",
              "      height: 32px;\n",
              "      padding: 0 0 0 0;\n",
              "      width: 32px;\n",
              "    }\n",
              "\n",
              "    .colab-df-convert:hover {\n",
              "      background-color: #E2EBFA;\n",
              "      box-shadow: 0px 1px 2px rgba(60, 64, 67, 0.3), 0px 1px 3px 1px rgba(60, 64, 67, 0.15);\n",
              "      fill: #174EA6;\n",
              "    }\n",
              "\n",
              "    [theme=dark] .colab-df-convert {\n",
              "      background-color: #3B4455;\n",
              "      fill: #D2E3FC;\n",
              "    }\n",
              "\n",
              "    [theme=dark] .colab-df-convert:hover {\n",
              "      background-color: #434B5C;\n",
              "      box-shadow: 0px 1px 3px 1px rgba(0, 0, 0, 0.15);\n",
              "      filter: drop-shadow(0px 1px 2px rgba(0, 0, 0, 0.3));\n",
              "      fill: #FFFFFF;\n",
              "    }\n",
              "  </style>\n",
              "\n",
              "      <script>\n",
              "        const buttonEl =\n",
              "          document.querySelector('#df-2cc33a48-9c6d-452c-9deb-4adbd18bba53 button.colab-df-convert');\n",
              "        buttonEl.style.display =\n",
              "          google.colab.kernel.accessAllowed ? 'block' : 'none';\n",
              "\n",
              "        async function convertToInteractive(key) {\n",
              "          const element = document.querySelector('#df-2cc33a48-9c6d-452c-9deb-4adbd18bba53');\n",
              "          const dataTable =\n",
              "            await google.colab.kernel.invokeFunction('convertToInteractive',\n",
              "                                                     [key], {});\n",
              "          if (!dataTable) return;\n",
              "\n",
              "          const docLinkHtml = 'Like what you see? Visit the ' +\n",
              "            '<a target=\"_blank\" href=https://colab.research.google.com/notebooks/data_table.ipynb>data table notebook</a>'\n",
              "            + ' to learn more about interactive tables.';\n",
              "          element.innerHTML = '';\n",
              "          dataTable['output_type'] = 'display_data';\n",
              "          await google.colab.output.renderOutput(dataTable, element);\n",
              "          const docLink = document.createElement('div');\n",
              "          docLink.innerHTML = docLinkHtml;\n",
              "          element.appendChild(docLink);\n",
              "        }\n",
              "      </script>\n",
              "    </div>\n",
              "  </div>\n",
              "  "
            ]
          },
          "metadata": {},
          "execution_count": 2
        }
      ]
    },
    {
      "cell_type": "markdown",
      "source": [
        "Vẽ đồ thị để trực quan hóa mối quan hệ giữa các loại quảng cáo và doanh thu"
      ],
      "metadata": {
        "id": "KJyyOk7NhF4F"
      }
    },
    {
      "cell_type": "code",
      "source": [
        "fig, axis = plt.subplots(1, 3, figsize=(18, 4))\n",
        "sns.scatterplot(data = df, x=\"TV\", y = \"Sales\", ax=axis[0])\n",
        "sns.scatterplot(data = df, x=\"Radio\", y = \"Sales\", ax=axis[1])\n",
        "sns.scatterplot(data = df, x=\"Newspaper\", y = \"Sales\", ax=axis[2])"
      ],
      "metadata": {
        "colab": {
          "base_uri": "https://localhost:8080/",
          "height": 297
        },
        "id": "GoRVGP8thG53",
        "outputId": "36e59882-58ba-47f0-aad3-c55bfa84bc5b"
      },
      "execution_count": 3,
      "outputs": [
        {
          "output_type": "execute_result",
          "data": {
            "text/plain": [
              "<matplotlib.axes._subplots.AxesSubplot at 0x7fefe5c94190>"
            ]
          },
          "metadata": {},
          "execution_count": 3
        },
        {
          "output_type": "display_data",
          "data": {
            "text/plain": [
              "<Figure size 1296x288 with 3 Axes>"
            ],
            "image/png": "[encoded data removed]"
          },
          "metadata": {
            "needs_background": "light"
          }
        }
      ]
    },
    {
      "cell_type": "markdown",
      "source": [
        "Kiểm tra và loại bỏ dữ liệu ngoại lai"
      ],
      "metadata": {
        "id": "ALnbC4nshKME"
      }
    },
    {
      "cell_type": "code",
      "source": [
        "sns.boxplot(data=df)"
      ],
      "metadata": {
        "colab": {
          "base_uri": "https://localhost:8080/",
          "height": 284
        },
        "id": "Rxw46dp1hKr7",
        "outputId": "176c0a34-311b-44d5-cb55-31bc5e89980f"
      },
      "execution_count": 4,
      "outputs": [
        {
          "output_type": "execute_result",
          "data": {
            "text/plain": [
              "<matplotlib.axes._subplots.AxesSubplot at 0x7fefe5c109d0>"
            ]
          },
          "metadata": {},
          "execution_count": 4
        },
        {
          "output_type": "display_data",
          "data": {
            "text/plain": [
              "<Figure size 432x288 with 1 Axes>"
            ],
            "image/png": "[encoded data removed]"
          },
          "metadata": {
            "needs_background": "light"
          }
        }
      ]
    },
    {
      "cell_type": "markdown",
      "source": [
        "Xử lý dữ liệu"
      ],
      "metadata": {
        "id": "Nm7po5pOhPpd"
      }
    },
    {
      "cell_type": "markdown",
      "source": [
        "kiểm tra khuyết thuyết"
      ],
      "metadata": {
        "id": "z9_-P-mzhT7d"
      }
    },
    {
      "cell_type": "code",
      "source": [
        "coll_na = df.columns[df.isnull().any()]\n"
      ],
      "metadata": {
        "id": "m6EhepaVhQOc"
      },
      "execution_count": 5,
      "outputs": []
    },
    {
      "cell_type": "markdown",
      "source": [
        "# Xử lý các cột dữ liệu"
      ],
      "metadata": {
        "id": "CT_2GGkJhZeN"
      }
    },
    {
      "cell_type": "markdown",
      "source": [
        "# Tìm dữ liệu đa công tuyến\n",
        "\n",
        "Bước 1: Tính độ tương quan<br>\n",
        "Bước 2: Nếu có có tính đa công tuyến<br>\n",
        "Tìm tương quan"
      ],
      "metadata": {
        "id": "WH3JPQe_hedN"
      }
    },
    {
      "cell_type": "code",
      "source": [
        "y = df[\"Sales\"]\n",
        "df_iv = df.drop(\"Sales\", axis=1)"
      ],
      "metadata": {
        "id": "eiVELcWGhapm"
      },
      "execution_count": 6,
      "outputs": []
    },
    {
      "cell_type": "code",
      "source": [
        "df_cor = df_iv.corr(method=\"pearson\")\n",
        "\n",
        "# Tạo ra mặt nạ loại bỏ tam giá cái 1/2 phần trên của heatmap\n",
        "mask = np.triu(np.ones_like(df_cor, dtype=bool))\n",
        "\n",
        "# Tạo bảng màu đẹp hơn\n",
        "cmap =  sns.diverging_palette(230, 20, as_cmap=True)\n",
        "\n",
        "sns.heatmap(df_cor, vmin=-1, vmax=1, mask=mask, cmap=cmap, center=0, annot=True , square=True, linewidths=0.5, cbar_kws={\"shrink\": 0.5, \"orientation\": \"vertical\"})\n"
      ],
      "metadata": {
        "colab": {
          "base_uri": "https://localhost:8080/",
          "height": 284
        },
        "id": "LgoNbxp5htOR",
        "outputId": "9f0f0b95-3974-4e76-a783-7fdbcb1a8ac0"
      },
      "execution_count": 7,
      "outputs": [
        {
          "output_type": "execute_result",
          "data": {
            "text/plain": [
              "<matplotlib.axes._subplots.AxesSubplot at 0x7fefe5632d90>"
            ]
          },
          "metadata": {},
          "execution_count": 7
        },
        {
          "output_type": "display_data",
          "data": {
            "text/plain": [
              "<Figure size 432x288 with 2 Axes>"
            ],
            "image/png": "[encoded data removed]"
          },
          "metadata": {
            "needs_background": "light"
          }
        }
      ]
    },
    {
      "cell_type": "markdown",
      "source": [
        "Chú ý chỉ số tương quan pearson có giá trị từ -1 đến 1\n",
        "\n",
        "Càng gần 0 thì càng không tương quan<br>\n",
        "Càng gần 1 hoặc -1 thì càng tương quan. ==>Kết luận: Các biến độc lập không có tương quan, nên không không đa công tuyến<br>\n",
        "Bước 5: Xử lý biến độc lập\n",
        "\n",
        "Bước 6: Xây dựng mô hình hồi quy tuyến tính"
      ],
      "metadata": {
        "id": "IWr0EWMdh2Zj"
      }
    },
    {
      "cell_type": "code",
      "source": [
        "X_train, X_test, y_train, y_test = train_test_split(df_iv, y, test_size=0.2, random_state=42)"
      ],
      "metadata": {
        "id": "oge3P1dKh8o-"
      },
      "execution_count": 8,
      "outputs": []
    },
    {
      "cell_type": "code",
      "source": [
        "model_r = LinearRegression()\n",
        "model_r.fit(X_train, y_train)"
      ],
      "metadata": {
        "colab": {
          "base_uri": "https://localhost:8080/"
        },
        "id": "HUHIQY7MiEBH",
        "outputId": "0ffc4690-7f2b-4fa6-b5dc-a1a6568b003f"
      },
      "execution_count": 9,
      "outputs": [
        {
          "output_type": "execute_result",
          "data": {
            "text/plain": [
              "LinearRegression()"
            ]
          },
          "metadata": {},
          "execution_count": 9
        }
      ]
    },
    {
      "cell_type": "code",
      "source": [
        "scr = model_r.score(X_test, y_test)\n",
        "scr"
      ],
      "metadata": {
        "colab": {
          "base_uri": "https://localhost:8080/"
        },
        "id": "CBEHaK_oiGlQ",
        "outputId": "ac9cdac0-eb83-42a8-de86-490f6fc269f9"
      },
      "execution_count": 11,
      "outputs": [
        {
          "output_type": "execute_result",
          "data": {
            "text/plain": [
              "0.9059011844150826"
            ]
          },
          "metadata": {},
          "execution_count": 11
        }
      ]
    },
    {
      "cell_type": "code",
      "source": [
        "y_pred = model_r.predict(X_test)"
      ],
      "metadata": {
        "id": "epKIZVh5iNpW"
      },
      "execution_count": 12,
      "outputs": []
    },
    {
      "cell_type": "code",
      "source": [
        "print(\"y_pred\", y_pred)\n",
        "print(\"y_test\", y_test.to_numpy())\n"
      ],
      "metadata": {
        "colab": {
          "base_uri": "https://localhost:8080/"
        },
        "id": "dLXxAj7BiQk1",
        "outputId": "eaaa2c39-4e40-4b60-e382-25e94aefdf48"
      },
      "execution_count": 13,
      "outputs": [
        {
          "output_type": "stream",
          "name": "stdout",
          "text": [
            "y_pred [17.0347724  20.40974033 23.72398873  9.27278518 21.68271879 12.56940161\n",
            " 21.08119452  8.69035045 17.23701254 16.66657475  8.92396497  8.4817344\n",
            " 18.2075123   8.06750728 12.64550975 14.93162809  8.12814594 17.89876565\n",
            " 11.00880637 20.47832788 20.80631846 12.59883297 10.9051829  22.38854775\n",
            "  9.41796094  7.92506736 20.83908497 13.81520938 10.77080925  7.92682509\n",
            " 15.95947357 10.63490851 20.80292008 10.43434164 21.5784752  21.18364487\n",
            " 12.12821771 22.80953262 12.60992766  6.46441252]\n",
            "y_test [16.9 22.4 21.4  7.3 24.7 12.6 22.3  8.4 16.5 16.1 11.   8.7 16.9  5.3\n",
            " 10.3 16.7  5.5 16.6 11.3 18.9 19.7 12.5 10.9 22.2 11.3  8.1 21.7 13.4\n",
            " 10.6  5.7 15.6 11.3 23.7  8.7 16.1 20.7 11.6 20.8 11.9  6.9]\n"
          ]
        }
      ]
    }
  ]
}