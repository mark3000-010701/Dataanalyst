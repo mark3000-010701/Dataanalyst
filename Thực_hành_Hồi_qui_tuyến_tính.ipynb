{
  "nbformat": 4,
  "nbformat_minor": 0,
  "metadata": {
    "colab": {
      "name": "Thực hành : Hồi qui tuyến tính.ipynb",
      "provenance": [],
      "collapsed_sections": [],
      "authorship_tag": "ABX9TyPjdvtp3OtXf3UTNedeQuCk",
      "include_colab_link": true
    },
    "kernelspec": {
      "name": "python3",
      "display_name": "Python 3"
    },
    "language_info": {
      "name": "python"
    }
  },
  "cells": [
    {
      "cell_type": "markdown",
      "metadata": {
        "id": "view-in-github",
        "colab_type": "text"
      },
      "source": [
        "<a href=\"https://colab.research.google.com/github/mark3000-010701/Dataanalyst/blob/main/Th%E1%BB%B1c_h%C3%A0nh_H%E1%BB%93i_qui_tuy%E1%BA%BFn_t%C3%ADnh.ipynb\" target=\"_parent\"><img src=\"https://colab.research.google.com/assets/colab-badge.svg\" alt=\"Open In Colab\"/></a>"
      ]
    },
    {
      "cell_type": "markdown",
      "source": [
        "# **[Thực hành] Xây dựng mô hình hồi quy tuyến tính dự báo tiền lương**"
      ],
      "metadata": {
        "id": "G2I1cGZKjy_O"
      }
    },
    {
      "cell_type": "code",
      "execution_count": 1,
      "metadata": {
        "colab": {
          "base_uri": "https://localhost:8080/",
          "height": 363
        },
        "id": "OPf8SBZuip4M",
        "outputId": "96da95a8-c845-46c5-ec28-899c87f303d5"
      },
      "outputs": [
        {
          "output_type": "execute_result",
          "data": {
            "text/plain": [
              "      SoNamKinhNghiem  Luong NganhNghe\n",
              "1416                4   14.9      Sale\n",
              "1417                1    9.5      Sale\n",
              "1418                8   22.9      Sale\n",
              "1419                1    9.4      Sale\n",
              "1420                9   25.0      Sale\n",
              "1421                8   22.8      Sale\n",
              "1422                6   18.7      Sale\n",
              "1423                0    7.3      Sale\n",
              "1424                0    7.2      Sale\n",
              "1425               10   27.0      Sale"
            ],
            "text/html": [
              "\n",
              "  <div id=\"df-c2cf877d-101e-4aa0-a950-caa746a6fa09\">\n",
              "    <div class=\"colab-df-container\">\n",
              "      <div>\n",
              "<style scoped>\n",
              "    .dataframe tbody tr th:only-of-type {\n",
              "        vertical-align: middle;\n",
              "    }\n",
              "\n",
              "    .dataframe tbody tr th {\n",
              "        vertical-align: top;\n",
              "    }\n",
              "\n",
              "    .dataframe thead th {\n",
              "        text-align: right;\n",
              "    }\n",
              "</style>\n",
              "<table border=\"1\" class=\"dataframe\">\n",
              "  <thead>\n",
              "    <tr style=\"text-align: right;\">\n",
              "      <th></th>\n",
              "      <th>SoNamKinhNghiem</th>\n",
              "      <th>Luong</th>\n",
              "      <th>NganhNghe</th>\n",
              "    </tr>\n",
              "  </thead>\n",
              "  <tbody>\n",
              "    <tr>\n",
              "      <th>1416</th>\n",
              "      <td>4</td>\n",
              "      <td>14.9</td>\n",
              "      <td>Sale</td>\n",
              "    </tr>\n",
              "    <tr>\n",
              "      <th>1417</th>\n",
              "      <td>1</td>\n",
              "      <td>9.5</td>\n",
              "      <td>Sale</td>\n",
              "    </tr>\n",
              "    <tr>\n",
              "      <th>1418</th>\n",
              "      <td>8</td>\n",
              "      <td>22.9</td>\n",
              "      <td>Sale</td>\n",
              "    </tr>\n",
              "    <tr>\n",
              "      <th>1419</th>\n",
              "      <td>1</td>\n",
              "      <td>9.4</td>\n",
              "      <td>Sale</td>\n",
              "    </tr>\n",
              "    <tr>\n",
              "      <th>1420</th>\n",
              "      <td>9</td>\n",
              "      <td>25.0</td>\n",
              "      <td>Sale</td>\n",
              "    </tr>\n",
              "    <tr>\n",
              "      <th>1421</th>\n",
              "      <td>8</td>\n",
              "      <td>22.8</td>\n",
              "      <td>Sale</td>\n",
              "    </tr>\n",
              "    <tr>\n",
              "      <th>1422</th>\n",
              "      <td>6</td>\n",
              "      <td>18.7</td>\n",
              "      <td>Sale</td>\n",
              "    </tr>\n",
              "    <tr>\n",
              "      <th>1423</th>\n",
              "      <td>0</td>\n",
              "      <td>7.3</td>\n",
              "      <td>Sale</td>\n",
              "    </tr>\n",
              "    <tr>\n",
              "      <th>1424</th>\n",
              "      <td>0</td>\n",
              "      <td>7.2</td>\n",
              "      <td>Sale</td>\n",
              "    </tr>\n",
              "    <tr>\n",
              "      <th>1425</th>\n",
              "      <td>10</td>\n",
              "      <td>27.0</td>\n",
              "      <td>Sale</td>\n",
              "    </tr>\n",
              "  </tbody>\n",
              "</table>\n",
              "</div>\n",
              "      <button class=\"colab-df-convert\" onclick=\"convertToInteractive('df-c2cf877d-101e-4aa0-a950-caa746a6fa09')\"\n",
              "              title=\"Convert this dataframe to an interactive table.\"\n",
              "              style=\"display:none;\">\n",
              "        \n",
              "  <svg xmlns=\"http://www.w3.org/2000/svg\" height=\"24px\"viewBox=\"0 0 24 24\"\n",
              "       width=\"24px\">\n",
              "    <path d=\"M0 0h24v24H0V0z\" fill=\"none\"/>\n",
              "    <path d=\"M18.56 5.44l.94 2.06.94-2.06 2.06-.94-2.06-.94-.94-2.06-.94 2.06-2.06.94zm-11 1L8.5 8.5l.94-2.06 2.06-.94-2.06-.94L8.5 2.5l-.94 2.06-2.06.94zm10 10l.94 2.06.94-2.06 2.06-.94-2.06-.94-.94-2.06-.94 2.06-2.06.94z\"/><path d=\"M17.41 7.96l-1.37-1.37c-.4-.4-.92-.59-1.43-.59-.52 0-1.04.2-1.43.59L10.3 9.45l-7.72 7.72c-.78.78-.78 2.05 0 2.83L4 21.41c.39.39.9.59 1.41.59.51 0 1.02-.2 1.41-.59l7.78-7.78 2.81-2.81c.8-.78.8-2.07 0-2.86zM5.41 20L4 18.59l7.72-7.72 1.47 1.35L5.41 20z\"/>\n",
              "  </svg>\n",
              "      </button>\n",
              "      \n",
              "  <style>\n",
              "    .colab-df-container {\n",
              "      display:flex;\n",
              "      flex-wrap:wrap;\n",
              "      gap: 12px;\n",
              "    }\n",
              "\n",
              "    .colab-df-convert {\n",
              "      background-color: #E8F0FE;\n",
              "      border: none;\n",
              "      border-radius: 50%;\n",
              "      cursor: pointer;\n",
              "      display: none;\n",
              "      fill: #1967D2;\n",
              "      height: 32px;\n",
              "      padding: 0 0 0 0;\n",
              "      width: 32px;\n",
              "    }\n",
              "\n",
              "    .colab-df-convert:hover {\n",
              "      background-color: #E2EBFA;\n",
              "      box-shadow: 0px 1px 2px rgba(60, 64, 67, 0.3), 0px 1px 3px 1px rgba(60, 64, 67, 0.15);\n",
              "      fill: #174EA6;\n",
              "    }\n",
              "\n",
              "    [theme=dark] .colab-df-convert {\n",
              "      background-color: #3B4455;\n",
              "      fill: #D2E3FC;\n",
              "    }\n",
              "\n",
              "    [theme=dark] .colab-df-convert:hover {\n",
              "      background-color: #434B5C;\n",
              "      box-shadow: 0px 1px 3px 1px rgba(0, 0, 0, 0.15);\n",
              "      filter: drop-shadow(0px 1px 2px rgba(0, 0, 0, 0.3));\n",
              "      fill: #FFFFFF;\n",
              "    }\n",
              "  </style>\n",
              "\n",
              "      <script>\n",
              "        const buttonEl =\n",
              "          document.querySelector('#df-c2cf877d-101e-4aa0-a950-caa746a6fa09 button.colab-df-convert');\n",
              "        buttonEl.style.display =\n",
              "          google.colab.kernel.accessAllowed ? 'block' : 'none';\n",
              "\n",
              "        async function convertToInteractive(key) {\n",
              "          const element = document.querySelector('#df-c2cf877d-101e-4aa0-a950-caa746a6fa09');\n",
              "          const dataTable =\n",
              "            await google.colab.kernel.invokeFunction('convertToInteractive',\n",
              "                                                     [key], {});\n",
              "          if (!dataTable) return;\n",
              "\n",
              "          const docLinkHtml = 'Like what you see? Visit the ' +\n",
              "            '<a target=\"_blank\" href=https://colab.research.google.com/notebooks/data_table.ipynb>data table notebook</a>'\n",
              "            + ' to learn more about interactive tables.';\n",
              "          element.innerHTML = '';\n",
              "          dataTable['output_type'] = 'display_data';\n",
              "          await google.colab.output.renderOutput(dataTable, element);\n",
              "          const docLink = document.createElement('div');\n",
              "          docLink.innerHTML = docLinkHtml;\n",
              "          element.appendChild(docLink);\n",
              "        }\n",
              "      </script>\n",
              "    </div>\n",
              "  </div>\n",
              "  "
            ]
          },
          "metadata": {},
          "execution_count": 1
        }
      ],
      "source": [
        "import pandas as pd # Khai báo thư viện hỗ trợ đọc và phân tích dữ liệu ở dạng bảng\n",
        "dataset = pd.read_csv(\"https://s3.ap-southeast-1.amazonaws.com/learn.codegym.vn/media/public/2022/03/10170155/salary_data.csv\") # Lấy dữ liệu từ file work_data.csv đê phân tích và đặt tên dữ liệu đó là dataset\n",
        "dataset.tail(10) # xem 5 dòng đầu tiên của bảng dữ liệu"
      ]
    },
    {
      "cell_type": "code",
      "source": [
        "import matplotlib.pyplot as plt  # Khai báo thư viện để vẽ hình\n",
        "dataset.plot(x='SoNamKinhNghiem', y='Luong', style='o')  \n",
        "plt.title('số năm kinh nghiệm - lương')  \n",
        "plt.xlabel('số năm kinh nghiệm')  \n",
        "plt.ylabel('lương')  \n",
        "plt.show()"
      ],
      "metadata": {
        "colab": {
          "base_uri": "https://localhost:8080/",
          "height": 297
        },
        "id": "k1IAcV8ni7xm",
        "outputId": "c2e5947c-7e0f-4d5a-ca1c-afcfaa541cec"
      },
      "execution_count": 2,
      "outputs": [
        {
          "output_type": "display_data",
          "data": {
            "text/plain": [
              "<Figure size 432x288 with 1 Axes>"
            ],
            "image/png": "[encoded data removed]"
          },
          "metadata": {
            "needs_background": "light"
          }
        }
      ]
    },
    {
      "cell_type": "code",
      "source": [
        "# vẽ biểu đồ histogram\n",
        "plt.hist(dataset['Luong'],20)\n",
        "plt.show()"
      ],
      "metadata": {
        "colab": {
          "base_uri": "https://localhost:8080/",
          "height": 265
        },
        "id": "8276B6VOi8Vo",
        "outputId": "e09dd2c7-0dd8-4c45-fd62-c8d774bd19d7"
      },
      "execution_count": 3,
      "outputs": [
        {
          "output_type": "display_data",
          "data": {
            "text/plain": [
              "<Figure size 432x288 with 1 Axes>"
            ],
            "image/png": "[encoded data removed]"
          },
          "metadata": {
            "needs_background": "light"
          }
        }
      ]
    },
    {
      "cell_type": "code",
      "source": [
        "df_keToan = dataset[dataset[\"NganhNghe\"] == \"KeToan\"]\n",
        "df_hcnh = dataset[dataset[\"NganhNghe\"] == \"HCNS\"]\n",
        "df_sale = dataset[dataset[\"NganhNghe\"] == \"Sale\"]\n",
        "\n",
        "print (\"Kết cấu bộ dữ liệu\")\n",
        "print (\"Số lượng mẫu nhân viên kế toán: \" + str(df_keToan.shape[0]))\n",
        "print (\"Số lượng mẫu nhân viên HCNH: \" + str(df_hcnh.shape[0]))\n",
        "print (\"Số lượng mẫu nhân viên SALE: \" + str(df_sale.shape[0]))"
      ],
      "metadata": {
        "colab": {
          "base_uri": "https://localhost:8080/"
        },
        "id": "offd5KxwjCjn",
        "outputId": "c51fc1ac-60b5-4a3a-8c03-45ebc4c18615"
      },
      "execution_count": 4,
      "outputs": [
        {
          "output_type": "stream",
          "name": "stdout",
          "text": [
            "Kết cấu bộ dữ liệu\n",
            "Số lượng mẫu nhân viên kế toán: 472\n",
            "Số lượng mẫu nhân viên HCNH: 566\n",
            "Số lượng mẫu nhân viên SALE: 388\n"
          ]
        }
      ]
    },
    {
      "cell_type": "code",
      "source": [
        "n_by_nganhNghe = dataset.groupby(\"NganhNghe\")[\"Luong\"].mean()\n",
        "n_by_nganhNghe"
      ],
      "metadata": {
        "colab": {
          "base_uri": "https://localhost:8080/"
        },
        "id": "45Q2GtcZjFYi",
        "outputId": "593438ac-7d3d-405c-ad83-9582c3133d0b"
      },
      "execution_count": 5,
      "outputs": [
        {
          "output_type": "execute_result",
          "data": {
            "text/plain": [
              "NganhNghe\n",
              "HCNS      16.556537\n",
              "KeToan    15.645975\n",
              "Sale      16.782216\n",
              "Name: Luong, dtype: float64"
            ]
          },
          "metadata": {},
          "execution_count": 5
        }
      ]
    },
    {
      "cell_type": "code",
      "source": [
        "# Biểu đồ phân bố lương của nhân viên Kế toán\n",
        "plt.boxplot(df_keToan['Luong'])\n",
        "plt.show()"
      ],
      "metadata": {
        "colab": {
          "base_uri": "https://localhost:8080/",
          "height": 265
        },
        "id": "CHXSAf5njIBu",
        "outputId": "036d09a0-20a7-4767-b179-d54862544b75"
      },
      "execution_count": 6,
      "outputs": [
        {
          "output_type": "display_data",
          "data": {
            "text/plain": [
              "<Figure size 432x288 with 1 Axes>"
            ],
            "image/png": "[encoded data removed]"
          },
          "metadata": {
            "needs_background": "light"
          }
        }
      ]
    },
    {
      "cell_type": "markdown",
      "source": [
        "# . Xây dựng model dự đoán tiền lương theo số năm kinh nghiệm"
      ],
      "metadata": {
        "id": "Jo0JOeUNjK6O"
      }
    },
    {
      "cell_type": "code",
      "source": [
        "from sklearn.model_selection import train_test_split \n",
        "from sklearn.linear_model import LinearRegression\n",
        "\n",
        "X = dataset['SoNamKinhNghiem'].values.reshape(-1,1)\n",
        "y = dataset['Luong'].values.reshape(-1,1)\n",
        "# chia bộ dữ liệu làm 2 tập train và test theo tỉ lệ 80% train, 20% test\n",
        "X_train, X_test, y_train, y_test = train_test_split(X, y, test_size=0.2, random_state=0) \n",
        "regressor = LinearRegression()  # Khai báo mô hình hồi quy tuyến tính\n",
        "regressor.fit(X_train, y_train) #Huấn luyện mô hình\n",
        "print( \"Mô hình hồi quy sẽ có dạng: Lương = a + b * số năm kinh nghiệm \\nvới các hệ số a và b lần lượt là\")\n",
        "print(regressor.intercept_)\n",
        "#For retrieving the slope:\n",
        "print(regressor.coef_)"
      ],
      "metadata": {
        "colab": {
          "base_uri": "https://localhost:8080/"
        },
        "id": "KmRwJuNvjL7c",
        "outputId": "fc653c29-ba01-40f5-8023-5bf22a86368c"
      },
      "execution_count": 7,
      "outputs": [
        {
          "output_type": "stream",
          "name": "stdout",
          "text": [
            "Mô hình hồi quy sẽ có dạng: Lương = a + b * số năm kinh nghiệm \n",
            "với các hệ số a và b lần lượt là\n",
            "[6.35592115]\n",
            "[[2.03289729]]\n"
          ]
        }
      ]
    },
    {
      "cell_type": "markdown",
      "source": [
        "# . Đánh giá mô hình"
      ],
      "metadata": {
        "id": "Xt2OTO0MjQHr"
      }
    },
    {
      "cell_type": "code",
      "source": [
        "y_pred = regressor.predict(X_test) # dự đoán trên số năm kinh nghiệm của bộ dữ liệu test\n",
        "## tính toán R2 của model\n",
        "import sklearn.metrics as metrics\n",
        "from sklearn.metrics import r2_score\n",
        "r2_train = r2_score(y_train, regressor.predict(X_train))\n",
        "print(\"R2 trên tập huấn luyện của model là:\" + str(r2_train))\n",
        "r2_test = r2_score(y_test, y_pred)\n",
        "print(\"R2 trên tập kiểm tra của model là:\" + str(r2_test))\n",
        "\n",
        "df = pd.DataFrame({'số năm kinh nghiệm': X_test.flatten(), 'Lương Thực tế': y_test.flatten(), 'Lương Dự báo': y_pred.flatten()})\n",
        "print(\"\\n\") # xuống dòng\n",
        "print(\"Đánh giá năng lực dự báo trung bình trên tập test\")\n",
        "print('Sai số dự báo trung bình:', metrics.mean_absolute_error(y_test, y_pred))  "
      ],
      "metadata": {
        "colab": {
          "base_uri": "https://localhost:8080/"
        },
        "id": "o-kzeDr_jStF",
        "outputId": "5e683463-0e8a-44fe-8a3d-8b8b032cba91"
      },
      "execution_count": 8,
      "outputs": [
        {
          "output_type": "stream",
          "name": "stdout",
          "text": [
            "R2 trên tập huấn luyện của model là:0.9318331044271062\n",
            "R2 trên tập kiểm tra của model là:0.8762196686203844\n",
            "\n",
            "\n",
            "Đánh giá năng lực dự báo trung bình trên tập test\n",
            "Sai số dự báo trung bình: 0.5566819767125355\n"
          ]
        }
      ]
    },
    {
      "cell_type": "code",
      "source": [
        "plt.scatter(X_test, y_test,  color='gray')\n",
        "plt.plot(X_test, y_pred, color='red', linewidth=2)\n",
        "plt.show()"
      ],
      "metadata": {
        "colab": {
          "base_uri": "https://localhost:8080/",
          "height": 265
        },
        "id": "g4CWSaC-jVgT",
        "outputId": "4a7fe17f-e2a2-4916-a906-fb2d078c662f"
      },
      "execution_count": 9,
      "outputs": [
        {
          "output_type": "display_data",
          "data": {
            "text/plain": [
              "<Figure size 432x288 with 1 Axes>"
            ],
            "image/png": "[encoded data removed]"
          },
          "metadata": {
            "needs_background": "light"
          }
        }
      ]
    },
    {
      "cell_type": "markdown",
      "source": [
        "# Lưu trữ và sử dụng mô hình sau đã huấn luyện"
      ],
      "metadata": {
        "id": "fz1jcObljeDH"
      }
    },
    {
      "cell_type": "code",
      "source": [
        "# lưu trữ mô hình vào máy tính\n",
        "import pickle # thư viện  giúp lưu trữ mô hình\n",
        "filename = 'model.sav'\n",
        "pickle.dump(regressor, open(filename, 'wb'))"
      ],
      "metadata": {
        "id": "FgYBkbnNjfUd"
      },
      "execution_count": 10,
      "outputs": []
    },
    {
      "cell_type": "markdown",
      "source": [
        "# Sử dụng mô hình sau đã lưu"
      ],
      "metadata": {
        "id": "-2aBqveijkY0"
      }
    },
    {
      "cell_type": "code",
      "source": [
        "# Some time later.....\n",
        "# sử dụng mô hình\n",
        "#loaded_model = LinearRegression()\n",
        "loaded_model = pickle.load(open(filename, 'rb'))\n",
        "x = [[1],[2],[4]]\n",
        "y_pred = loaded_model.predict(x)\n",
        "y_pred"
      ],
      "metadata": {
        "colab": {
          "base_uri": "https://localhost:8080/"
        },
        "id": "OaRQQECgjnC0",
        "outputId": "a0f76525-c6aa-481a-a953-cbe5e2d9e046"
      },
      "execution_count": 11,
      "outputs": [
        {
          "output_type": "execute_result",
          "data": {
            "text/plain": [
              "array([[ 8.38881844],\n",
              "       [10.42171574],\n",
              "       [14.48751032]])"
            ]
          },
          "metadata": {},
          "execution_count": 11
        }
      ]
    },
    {
      "cell_type": "markdown",
      "source": [
        "# **[Thực hành] Xây dựng mô hình hồi quy tuyến tính trên bộ dữ liệu House Price**"
      ],
      "metadata": {
        "id": "HRaKIt-Gj6ns"
      }
    },
    {
      "cell_type": "code",
      "source": [
        "# Load in our libraries\n",
        "import pandas as pd\n",
        "import numpy as np\n",
        "import matplotlib.pyplot as plt\n",
        "import seaborn as sns\n",
        "from sklearn.model_selection import train_test_split, cross_val_score\n",
        "from sklearn.dummy import DummyRegressor\n",
        "from sklearn.linear_model import LinearRegression\n",
        "from sklearn.metrics import mean_squared_error\n",
        "from sklearn.preprocessing import StandardScaler\n",
        "from sklearn.metrics import r2_score"
      ],
      "metadata": {
        "id": "0qDL3WgJj7wc"
      },
      "execution_count": 12,
      "outputs": []
    },
    {
      "cell_type": "code",
      "source": [
        "import os\n",
        "df = pd.read_csv(\"https://s3.ap-southeast-1.amazonaws.com/learn.codegym.vn/media/public/2022/03/10171754/AmesHousing.csv\")\n",
        "df.head()"
      ],
      "metadata": {
        "colab": {
          "base_uri": "https://localhost:8080/",
          "height": 297
        },
        "id": "IhFNE9GxlM71",
        "outputId": "a393c0b8-f59d-428d-a750-67c73e2e0075"
      },
      "execution_count": 13,
      "outputs": [
        {
          "output_type": "execute_result",
          "data": {
            "text/plain": [
              "   Order        PID  MS SubClass MS Zoning  Lot Frontage  Lot Area Street  \\\n",
              "0      1  526301100           20        RL         141.0     31770   Pave   \n",
              "1      2  526350040           20        RH          80.0     11622   Pave   \n",
              "2      3  526351010           20        RL          81.0     14267   Pave   \n",
              "3      4  526353030           20        RL          93.0     11160   Pave   \n",
              "4      5  527105010           60        RL          74.0     13830   Pave   \n",
              "\n",
              "  Alley Lot Shape Land Contour  ... Pool Area Pool QC  Fence Misc Feature  \\\n",
              "0   NaN       IR1          Lvl  ...         0     NaN    NaN          NaN   \n",
              "1   NaN       Reg          Lvl  ...         0     NaN  MnPrv          NaN   \n",
              "2   NaN       IR1          Lvl  ...         0     NaN    NaN         Gar2   \n",
              "3   NaN       Reg          Lvl  ...         0     NaN    NaN          NaN   \n",
              "4   NaN       IR1          Lvl  ...         0     NaN  MnPrv          NaN   \n",
              "\n",
              "  Misc Val Mo Sold Yr Sold Sale Type  Sale Condition  SalePrice  \n",
              "0        0       5    2010       WD           Normal     215000  \n",
              "1        0       6    2010       WD           Normal     105000  \n",
              "2    12500       6    2010       WD           Normal     172000  \n",
              "3        0       4    2010       WD           Normal     244000  \n",
              "4        0       3    2010       WD           Normal     189900  \n",
              "\n",
              "[5 rows x 82 columns]"
            ],
            "text/html": [
              "\n",
              "  <div id=\"df-ecb9d5a9-9764-4686-9b3b-67b9ec112833\">\n",
              "    <div class=\"colab-df-container\">\n",
              "      <div>\n",
              "<style scoped>\n",
              "    .dataframe tbody tr th:only-of-type {\n",
              "        vertical-align: middle;\n",
              "    }\n",
              "\n",
              "    .dataframe tbody tr th {\n",
              "        vertical-align: top;\n",
              "    }\n",
              "\n",
              "    .dataframe thead th {\n",
              "        text-align: right;\n",
              "    }\n",
              "</style>\n",
              "<table border=\"1\" class=\"dataframe\">\n",
              "  <thead>\n",
              "    <tr style=\"text-align: right;\">\n",
              "      <th></th>\n",
              "      <th>Order</th>\n",
              "      <th>PID</th>\n",
              "      <th>MS SubClass</th>\n",
              "      <th>MS Zoning</th>\n",
              "      <th>Lot Frontage</th>\n",
              "      <th>Lot Area</th>\n",
              "      <th>Street</th>\n",
              "      <th>Alley</th>\n",
              "      <th>Lot Shape</th>\n",
              "      <th>Land Contour</th>\n",
              "      <th>...</th>\n",
              "      <th>Pool Area</th>\n",
              "      <th>Pool QC</th>\n",
              "      <th>Fence</th>\n",
              "      <th>Misc Feature</th>\n",
              "      <th>Misc Val</th>\n",
              "      <th>Mo Sold</th>\n",
              "      <th>Yr Sold</th>\n",
              "      <th>Sale Type</th>\n",
              "      <th>Sale Condition</th>\n",
              "      <th>SalePrice</th>\n",
              "    </tr>\n",
              "  </thead>\n",
              "  <tbody>\n",
              "    <tr>\n",
              "      <th>0</th>\n",
              "      <td>1</td>\n",
              "      <td>526301100</td>\n",
              "      <td>20</td>\n",
              "      <td>RL</td>\n",
              "      <td>141.0</td>\n",
              "      <td>31770</td>\n",
              "      <td>Pave</td>\n",
              "      <td>NaN</td>\n",
              "      <td>IR1</td>\n",
              "      <td>Lvl</td>\n",
              "      <td>...</td>\n",
              "      <td>0</td>\n",
              "      <td>NaN</td>\n",
              "      <td>NaN</td>\n",
              "      <td>NaN</td>\n",
              "      <td>0</td>\n",
              "      <td>5</td>\n",
              "      <td>2010</td>\n",
              "      <td>WD</td>\n",
              "      <td>Normal</td>\n",
              "      <td>215000</td>\n",
              "    </tr>\n",
              "    <tr>\n",
              "      <th>1</th>\n",
              "      <td>2</td>\n",
              "      <td>526350040</td>\n",
              "      <td>20</td>\n",
              "      <td>RH</td>\n",
              "      <td>80.0</td>\n",
              "      <td>11622</td>\n",
              "      <td>Pave</td>\n",
              "      <td>NaN</td>\n",
              "      <td>Reg</td>\n",
              "      <td>Lvl</td>\n",
              "      <td>...</td>\n",
              "      <td>0</td>\n",
              "      <td>NaN</td>\n",
              "      <td>MnPrv</td>\n",
              "      <td>NaN</td>\n",
              "      <td>0</td>\n",
              "      <td>6</td>\n",
              "      <td>2010</td>\n",
              "      <td>WD</td>\n",
              "      <td>Normal</td>\n",
              "      <td>105000</td>\n",
              "    </tr>\n",
              "    <tr>\n",
              "      <th>2</th>\n",
              "      <td>3</td>\n",
              "      <td>526351010</td>\n",
              "      <td>20</td>\n",
              "      <td>RL</td>\n",
              "      <td>81.0</td>\n",
              "      <td>14267</td>\n",
              "      <td>Pave</td>\n",
              "      <td>NaN</td>\n",
              "      <td>IR1</td>\n",
              "      <td>Lvl</td>\n",
              "      <td>...</td>\n",
              "      <td>0</td>\n",
              "      <td>NaN</td>\n",
              "      <td>NaN</td>\n",
              "      <td>Gar2</td>\n",
              "      <td>12500</td>\n",
              "      <td>6</td>\n",
              "      <td>2010</td>\n",
              "      <td>WD</td>\n",
              "      <td>Normal</td>\n",
              "      <td>172000</td>\n",
              "    </tr>\n",
              "    <tr>\n",
              "      <th>3</th>\n",
              "      <td>4</td>\n",
              "      <td>526353030</td>\n",
              "      <td>20</td>\n",
              "      <td>RL</td>\n",
              "      <td>93.0</td>\n",
              "      <td>11160</td>\n",
              "      <td>Pave</td>\n",
              "      <td>NaN</td>\n",
              "      <td>Reg</td>\n",
              "      <td>Lvl</td>\n",
              "      <td>...</td>\n",
              "      <td>0</td>\n",
              "      <td>NaN</td>\n",
              "      <td>NaN</td>\n",
              "      <td>NaN</td>\n",
              "      <td>0</td>\n",
              "      <td>4</td>\n",
              "      <td>2010</td>\n",
              "      <td>WD</td>\n",
              "      <td>Normal</td>\n",
              "      <td>244000</td>\n",
              "    </tr>\n",
              "    <tr>\n",
              "      <th>4</th>\n",
              "      <td>5</td>\n",
              "      <td>527105010</td>\n",
              "      <td>60</td>\n",
              "      <td>RL</td>\n",
              "      <td>74.0</td>\n",
              "      <td>13830</td>\n",
              "      <td>Pave</td>\n",
              "      <td>NaN</td>\n",
              "      <td>IR1</td>\n",
              "      <td>Lvl</td>\n",
              "      <td>...</td>\n",
              "      <td>0</td>\n",
              "      <td>NaN</td>\n",
              "      <td>MnPrv</td>\n",
              "      <td>NaN</td>\n",
              "      <td>0</td>\n",
              "      <td>3</td>\n",
              "      <td>2010</td>\n",
              "      <td>WD</td>\n",
              "      <td>Normal</td>\n",
              "      <td>189900</td>\n",
              "    </tr>\n",
              "  </tbody>\n",
              "</table>\n",
              "<p>5 rows × 82 columns</p>\n",
              "</div>\n",
              "      <button class=\"colab-df-convert\" onclick=\"convertToInteractive('df-ecb9d5a9-9764-4686-9b3b-67b9ec112833')\"\n",
              "              title=\"Convert this dataframe to an interactive table.\"\n",
              "              style=\"display:none;\">\n",
              "        \n",
              "  <svg xmlns=\"http://www.w3.org/2000/svg\" height=\"24px\"viewBox=\"0 0 24 24\"\n",
              "       width=\"24px\">\n",
              "    <path d=\"M0 0h24v24H0V0z\" fill=\"none\"/>\n",
              "    <path d=\"M18.56 5.44l.94 2.06.94-2.06 2.06-.94-2.06-.94-.94-2.06-.94 2.06-2.06.94zm-11 1L8.5 8.5l.94-2.06 2.06-.94-2.06-.94L8.5 2.5l-.94 2.06-2.06.94zm10 10l.94 2.06.94-2.06 2.06-.94-2.06-.94-.94-2.06-.94 2.06-2.06.94z\"/><path d=\"M17.41 7.96l-1.37-1.37c-.4-.4-.92-.59-1.43-.59-.52 0-1.04.2-1.43.59L10.3 9.45l-7.72 7.72c-.78.78-.78 2.05 0 2.83L4 21.41c.39.39.9.59 1.41.59.51 0 1.02-.2 1.41-.59l7.78-7.78 2.81-2.81c.8-.78.8-2.07 0-2.86zM5.41 20L4 18.59l7.72-7.72 1.47 1.35L5.41 20z\"/>\n",
              "  </svg>\n",
              "      </button>\n",
              "      \n",
              "  <style>\n",
              "    .colab-df-container {\n",
              "      display:flex;\n",
              "      flex-wrap:wrap;\n",
              "      gap: 12px;\n",
              "    }\n",
              "\n",
              "    .colab-df-convert {\n",
              "      background-color: #E8F0FE;\n",
              "      border: none;\n",
              "      border-radius: 50%;\n",
              "      cursor: pointer;\n",
              "      display: none;\n",
              "      fill: #1967D2;\n",
              "      height: 32px;\n",
              "      padding: 0 0 0 0;\n",
              "      width: 32px;\n",
              "    }\n",
              "\n",
              "    .colab-df-convert:hover {\n",
              "      background-color: #E2EBFA;\n",
              "      box-shadow: 0px 1px 2px rgba(60, 64, 67, 0.3), 0px 1px 3px 1px rgba(60, 64, 67, 0.15);\n",
              "      fill: #174EA6;\n",
              "    }\n",
              "\n",
              "    [theme=dark] .colab-df-convert {\n",
              "      background-color: #3B4455;\n",
              "      fill: #D2E3FC;\n",
              "    }\n",
              "\n",
              "    [theme=dark] .colab-df-convert:hover {\n",
              "      background-color: #434B5C;\n",
              "      box-shadow: 0px 1px 3px 1px rgba(0, 0, 0, 0.15);\n",
              "      filter: drop-shadow(0px 1px 2px rgba(0, 0, 0, 0.3));\n",
              "      fill: #FFFFFF;\n",
              "    }\n",
              "  </style>\n",
              "\n",
              "      <script>\n",
              "        const buttonEl =\n",
              "          document.querySelector('#df-ecb9d5a9-9764-4686-9b3b-67b9ec112833 button.colab-df-convert');\n",
              "        buttonEl.style.display =\n",
              "          google.colab.kernel.accessAllowed ? 'block' : 'none';\n",
              "\n",
              "        async function convertToInteractive(key) {\n",
              "          const element = document.querySelector('#df-ecb9d5a9-9764-4686-9b3b-67b9ec112833');\n",
              "          const dataTable =\n",
              "            await google.colab.kernel.invokeFunction('convertToInteractive',\n",
              "                                                     [key], {});\n",
              "          if (!dataTable) return;\n",
              "\n",
              "          const docLinkHtml = 'Like what you see? Visit the ' +\n",
              "            '<a target=\"_blank\" href=https://colab.research.google.com/notebooks/data_table.ipynb>data table notebook</a>'\n",
              "            + ' to learn more about interactive tables.';\n",
              "          element.innerHTML = '';\n",
              "          dataTable['output_type'] = 'display_data';\n",
              "          await google.colab.output.renderOutput(dataTable, element);\n",
              "          const docLink = document.createElement('div');\n",
              "          docLink.innerHTML = docLinkHtml;\n",
              "          element.appendChild(docLink);\n",
              "        }\n",
              "      </script>\n",
              "    </div>\n",
              "  </div>\n",
              "  "
            ]
          },
          "metadata": {},
          "execution_count": 13
        }
      ]
    },
    {
      "cell_type": "code",
      "source": [
        "df.shape"
      ],
      "metadata": {
        "colab": {
          "base_uri": "https://localhost:8080/"
        },
        "id": "8AA2nSL5ldXU",
        "outputId": "0f983139-c43d-422d-fdba-e331c6d503ae"
      },
      "execution_count": 14,
      "outputs": [
        {
          "output_type": "execute_result",
          "data": {
            "text/plain": [
              "(2930, 82)"
            ]
          },
          "metadata": {},
          "execution_count": 14
        }
      ]
    },
    {
      "cell_type": "markdown",
      "source": [
        "# Tiền xử lý dữ liệu"
      ],
      "metadata": {
        "id": "gxul-BA0lenU"
      }
    },
    {
      "cell_type": "code",
      "source": [
        "#Since Regression needs numerical features,convert categorical columns into dummy variables\n",
        "df1= pd.get_dummies(df)\n",
        "df1.head()"
      ],
      "metadata": {
        "colab": {
          "base_uri": "https://localhost:8080/",
          "height": 334
        },
        "id": "wGJlZgkGlgLu",
        "outputId": "21a72867-802d-4d71-b019-4eebc50d4716"
      },
      "execution_count": 15,
      "outputs": [
        {
          "output_type": "execute_result",
          "data": {
            "text/plain": [
              "   Order        PID  MS SubClass  Lot Frontage  Lot Area  Overall Qual  \\\n",
              "0      1  526301100           20         141.0     31770             6   \n",
              "1      2  526350040           20          80.0     11622             5   \n",
              "2      3  526351010           20          81.0     14267             6   \n",
              "3      4  526353030           20          93.0     11160             7   \n",
              "4      5  527105010           60          74.0     13830             5   \n",
              "\n",
              "   Overall Cond  Year Built  Year Remod/Add  Mas Vnr Area  ...  Sale Type_New  \\\n",
              "0             5        1960            1960         112.0  ...              0   \n",
              "1             6        1961            1961           0.0  ...              0   \n",
              "2             6        1958            1958         108.0  ...              0   \n",
              "3             5        1968            1968           0.0  ...              0   \n",
              "4             5        1997            1998           0.0  ...              0   \n",
              "\n",
              "   Sale Type_Oth  Sale Type_VWD  Sale Type_WD   Sale Condition_Abnorml  \\\n",
              "0              0              0              1                       0   \n",
              "1              0              0              1                       0   \n",
              "2              0              0              1                       0   \n",
              "3              0              0              1                       0   \n",
              "4              0              0              1                       0   \n",
              "\n",
              "   Sale Condition_AdjLand  Sale Condition_Alloca  Sale Condition_Family  \\\n",
              "0                       0                      0                      0   \n",
              "1                       0                      0                      0   \n",
              "2                       0                      0                      0   \n",
              "3                       0                      0                      0   \n",
              "4                       0                      0                      0   \n",
              "\n",
              "   Sale Condition_Normal  Sale Condition_Partial  \n",
              "0                      1                       0  \n",
              "1                      1                       0  \n",
              "2                      1                       0  \n",
              "3                      1                       0  \n",
              "4                      1                       0  \n",
              "\n",
              "[5 rows x 307 columns]"
            ],
            "text/html": [
              "\n",
              "  <div id=\"df-b3bcbafd-6783-4f6c-981c-ef454d486c48\">\n",
              "    <div class=\"colab-df-container\">\n",
              "      <div>\n",
              "<style scoped>\n",
              "    .dataframe tbody tr th:only-of-type {\n",
              "        vertical-align: middle;\n",
              "    }\n",
              "\n",
              "    .dataframe tbody tr th {\n",
              "        vertical-align: top;\n",
              "    }\n",
              "\n",
              "    .dataframe thead th {\n",
              "        text-align: right;\n",
              "    }\n",
              "</style>\n",
              "<table border=\"1\" class=\"dataframe\">\n",
              "  <thead>\n",
              "    <tr style=\"text-align: right;\">\n",
              "      <th></th>\n",
              "      <th>Order</th>\n",
              "      <th>PID</th>\n",
              "      <th>MS SubClass</th>\n",
              "      <th>Lot Frontage</th>\n",
              "      <th>Lot Area</th>\n",
              "      <th>Overall Qual</th>\n",
              "      <th>Overall Cond</th>\n",
              "      <th>Year Built</th>\n",
              "      <th>Year Remod/Add</th>\n",
              "      <th>Mas Vnr Area</th>\n",
              "      <th>...</th>\n",
              "      <th>Sale Type_New</th>\n",
              "      <th>Sale Type_Oth</th>\n",
              "      <th>Sale Type_VWD</th>\n",
              "      <th>Sale Type_WD</th>\n",
              "      <th>Sale Condition_Abnorml</th>\n",
              "      <th>Sale Condition_AdjLand</th>\n",
              "      <th>Sale Condition_Alloca</th>\n",
              "      <th>Sale Condition_Family</th>\n",
              "      <th>Sale Condition_Normal</th>\n",
              "      <th>Sale Condition_Partial</th>\n",
              "    </tr>\n",
              "  </thead>\n",
              "  <tbody>\n",
              "    <tr>\n",
              "      <th>0</th>\n",
              "      <td>1</td>\n",
              "      <td>526301100</td>\n",
              "      <td>20</td>\n",
              "      <td>141.0</td>\n",
              "      <td>31770</td>\n",
              "      <td>6</td>\n",
              "      <td>5</td>\n",
              "      <td>1960</td>\n",
              "      <td>1960</td>\n",
              "      <td>112.0</td>\n",
              "      <td>...</td>\n",
              "      <td>0</td>\n",
              "      <td>0</td>\n",
              "      <td>0</td>\n",
              "      <td>1</td>\n",
              "      <td>0</td>\n",
              "      <td>0</td>\n",
              "      <td>0</td>\n",
              "      <td>0</td>\n",
              "      <td>1</td>\n",
              "      <td>0</td>\n",
              "    </tr>\n",
              "    <tr>\n",
              "      <th>1</th>\n",
              "      <td>2</td>\n",
              "      <td>526350040</td>\n",
              "      <td>20</td>\n",
              "      <td>80.0</td>\n",
              "      <td>11622</td>\n",
              "      <td>5</td>\n",
              "      <td>6</td>\n",
              "      <td>1961</td>\n",
              "      <td>1961</td>\n",
              "      <td>0.0</td>\n",
              "      <td>...</td>\n",
              "      <td>0</td>\n",
              "      <td>0</td>\n",
              "      <td>0</td>\n",
              "      <td>1</td>\n",
              "      <td>0</td>\n",
              "      <td>0</td>\n",
              "      <td>0</td>\n",
              "      <td>0</td>\n",
              "      <td>1</td>\n",
              "      <td>0</td>\n",
              "    </tr>\n",
              "    <tr>\n",
              "      <th>2</th>\n",
              "      <td>3</td>\n",
              "      <td>526351010</td>\n",
              "      <td>20</td>\n",
              "      <td>81.0</td>\n",
              "      <td>14267</td>\n",
              "      <td>6</td>\n",
              "      <td>6</td>\n",
              "      <td>1958</td>\n",
              "      <td>1958</td>\n",
              "      <td>108.0</td>\n",
              "      <td>...</td>\n",
              "      <td>0</td>\n",
              "      <td>0</td>\n",
              "      <td>0</td>\n",
              "      <td>1</td>\n",
              "      <td>0</td>\n",
              "      <td>0</td>\n",
              "      <td>0</td>\n",
              "      <td>0</td>\n",
              "      <td>1</td>\n",
              "      <td>0</td>\n",
              "    </tr>\n",
              "    <tr>\n",
              "      <th>3</th>\n",
              "      <td>4</td>\n",
              "      <td>526353030</td>\n",
              "      <td>20</td>\n",
              "      <td>93.0</td>\n",
              "      <td>11160</td>\n",
              "      <td>7</td>\n",
              "      <td>5</td>\n",
              "      <td>1968</td>\n",
              "      <td>1968</td>\n",
              "      <td>0.0</td>\n",
              "      <td>...</td>\n",
              "      <td>0</td>\n",
              "      <td>0</td>\n",
              "      <td>0</td>\n",
              "      <td>1</td>\n",
              "      <td>0</td>\n",
              "      <td>0</td>\n",
              "      <td>0</td>\n",
              "      <td>0</td>\n",
              "      <td>1</td>\n",
              "      <td>0</td>\n",
              "    </tr>\n",
              "    <tr>\n",
              "      <th>4</th>\n",
              "      <td>5</td>\n",
              "      <td>527105010</td>\n",
              "      <td>60</td>\n",
              "      <td>74.0</td>\n",
              "      <td>13830</td>\n",
              "      <td>5</td>\n",
              "      <td>5</td>\n",
              "      <td>1997</td>\n",
              "      <td>1998</td>\n",
              "      <td>0.0</td>\n",
              "      <td>...</td>\n",
              "      <td>0</td>\n",
              "      <td>0</td>\n",
              "      <td>0</td>\n",
              "      <td>1</td>\n",
              "      <td>0</td>\n",
              "      <td>0</td>\n",
              "      <td>0</td>\n",
              "      <td>0</td>\n",
              "      <td>1</td>\n",
              "      <td>0</td>\n",
              "    </tr>\n",
              "  </tbody>\n",
              "</table>\n",
              "<p>5 rows × 307 columns</p>\n",
              "</div>\n",
              "      <button class=\"colab-df-convert\" onclick=\"convertToInteractive('df-b3bcbafd-6783-4f6c-981c-ef454d486c48')\"\n",
              "              title=\"Convert this dataframe to an interactive table.\"\n",
              "              style=\"display:none;\">\n",
              "        \n",
              "  <svg xmlns=\"http://www.w3.org/2000/svg\" height=\"24px\"viewBox=\"0 0 24 24\"\n",
              "       width=\"24px\">\n",
              "    <path d=\"M0 0h24v24H0V0z\" fill=\"none\"/>\n",
              "    <path d=\"M18.56 5.44l.94 2.06.94-2.06 2.06-.94-2.06-.94-.94-2.06-.94 2.06-2.06.94zm-11 1L8.5 8.5l.94-2.06 2.06-.94-2.06-.94L8.5 2.5l-.94 2.06-2.06.94zm10 10l.94 2.06.94-2.06 2.06-.94-2.06-.94-.94-2.06-.94 2.06-2.06.94z\"/><path d=\"M17.41 7.96l-1.37-1.37c-.4-.4-.92-.59-1.43-.59-.52 0-1.04.2-1.43.59L10.3 9.45l-7.72 7.72c-.78.78-.78 2.05 0 2.83L4 21.41c.39.39.9.59 1.41.59.51 0 1.02-.2 1.41-.59l7.78-7.78 2.81-2.81c.8-.78.8-2.07 0-2.86zM5.41 20L4 18.59l7.72-7.72 1.47 1.35L5.41 20z\"/>\n",
              "  </svg>\n",
              "      </button>\n",
              "      \n",
              "  <style>\n",
              "    .colab-df-container {\n",
              "      display:flex;\n",
              "      flex-wrap:wrap;\n",
              "      gap: 12px;\n",
              "    }\n",
              "\n",
              "    .colab-df-convert {\n",
              "      background-color: #E8F0FE;\n",
              "      border: none;\n",
              "      border-radius: 50%;\n",
              "      cursor: pointer;\n",
              "      display: none;\n",
              "      fill: #1967D2;\n",
              "      height: 32px;\n",
              "      padding: 0 0 0 0;\n",
              "      width: 32px;\n",
              "    }\n",
              "\n",
              "    .colab-df-convert:hover {\n",
              "      background-color: #E2EBFA;\n",
              "      box-shadow: 0px 1px 2px rgba(60, 64, 67, 0.3), 0px 1px 3px 1px rgba(60, 64, 67, 0.15);\n",
              "      fill: #174EA6;\n",
              "    }\n",
              "\n",
              "    [theme=dark] .colab-df-convert {\n",
              "      background-color: #3B4455;\n",
              "      fill: #D2E3FC;\n",
              "    }\n",
              "\n",
              "    [theme=dark] .colab-df-convert:hover {\n",
              "      background-color: #434B5C;\n",
              "      box-shadow: 0px 1px 3px 1px rgba(0, 0, 0, 0.15);\n",
              "      filter: drop-shadow(0px 1px 2px rgba(0, 0, 0, 0.3));\n",
              "      fill: #FFFFFF;\n",
              "    }\n",
              "  </style>\n",
              "\n",
              "      <script>\n",
              "        const buttonEl =\n",
              "          document.querySelector('#df-b3bcbafd-6783-4f6c-981c-ef454d486c48 button.colab-df-convert');\n",
              "        buttonEl.style.display =\n",
              "          google.colab.kernel.accessAllowed ? 'block' : 'none';\n",
              "\n",
              "        async function convertToInteractive(key) {\n",
              "          const element = document.querySelector('#df-b3bcbafd-6783-4f6c-981c-ef454d486c48');\n",
              "          const dataTable =\n",
              "            await google.colab.kernel.invokeFunction('convertToInteractive',\n",
              "                                                     [key], {});\n",
              "          if (!dataTable) return;\n",
              "\n",
              "          const docLinkHtml = 'Like what you see? Visit the ' +\n",
              "            '<a target=\"_blank\" href=https://colab.research.google.com/notebooks/data_table.ipynb>data table notebook</a>'\n",
              "            + ' to learn more about interactive tables.';\n",
              "          element.innerHTML = '';\n",
              "          dataTable['output_type'] = 'display_data';\n",
              "          await google.colab.output.renderOutput(dataTable, element);\n",
              "          const docLink = document.createElement('div');\n",
              "          docLink.innerHTML = docLinkHtml;\n",
              "          element.appendChild(docLink);\n",
              "        }\n",
              "      </script>\n",
              "    </div>\n",
              "  </div>\n",
              "  "
            ]
          },
          "metadata": {},
          "execution_count": 15
        }
      ]
    },
    {
      "cell_type": "markdown",
      "source": [
        "Kiểm tra và liệt kê những cột thiếu dữ liệu"
      ],
      "metadata": {
        "id": "Sq0HCiJCmNS1"
      }
    },
    {
      "cell_type": "code",
      "source": [
        "#Look for columns with any NaN(missing) values\n",
        "df1.columns[df1.isna().any()].tolist()\n",
        "\n",
        "#Number of NaN values columnwise\n",
        "df1.isna().sum()"
      ],
      "metadata": {
        "colab": {
          "base_uri": "https://localhost:8080/"
        },
        "id": "6r7o7juKmOGp",
        "outputId": "fa819d83-ba42-4786-bfa2-730db0833613"
      },
      "execution_count": 16,
      "outputs": [
        {
          "output_type": "execute_result",
          "data": {
            "text/plain": [
              "Order                       0\n",
              "PID                         0\n",
              "MS SubClass                 0\n",
              "Lot Frontage              490\n",
              "Lot Area                    0\n",
              "                         ... \n",
              "Sale Condition_AdjLand      0\n",
              "Sale Condition_Alloca       0\n",
              "Sale Condition_Family       0\n",
              "Sale Condition_Normal       0\n",
              "Sale Condition_Partial      0\n",
              "Length: 307, dtype: int64"
            ]
          },
          "metadata": {},
          "execution_count": 16
        }
      ]
    },
    {
      "cell_type": "code",
      "source": [
        "#Define function to impute series with it's median\n",
        "def impute_median(series):\n",
        "    return series.fillna(series.median())\n",
        "df1['Lot Frontage']= df1['Lot Frontage'].transform(impute_median)\n",
        "df1['Mas Vnr Area']=df1['Mas Vnr Area'].transform(impute_median)\n",
        "df1['BsmtFin SF 1']=df1['BsmtFin SF 1'].transform(impute_median)\n",
        "df1['BsmtFin SF 2']=df1['BsmtFin SF 2'].transform(impute_median)\n",
        "df1['Bsmt Unf SF']=df1['Bsmt Unf SF'].transform(impute_median)\n",
        "df1['Total Bsmt SF']=df1['Total Bsmt SF'].transform(impute_median)\n",
        "df1['Bsmt Full Bath']=df1['Bsmt Full Bath'].transform(impute_median)\n",
        "df1['Bsmt Half Bath']=df1['Bsmt Half Bath'].transform(impute_median)\n",
        "df1['Garage Cars']=df1['Garage Cars'].transform(impute_median)\n",
        "df1['Garage Area']=df1['Garage Area'].transform(impute_median)\n",
        "#Check remaining columns with NaN values\n",
        "df1.columns[df1.isna().any()].tolist()"
      ],
      "metadata": {
        "colab": {
          "base_uri": "https://localhost:8080/"
        },
        "id": "2SS2Tx-zmY62",
        "outputId": "71c22abd-71ed-49b7-8e72-172928514ae1"
      },
      "execution_count": 17,
      "outputs": [
        {
          "output_type": "execute_result",
          "data": {
            "text/plain": [
              "['Garage Yr Blt']"
            ]
          },
          "metadata": {},
          "execution_count": 17
        }
      ]
    },
    {
      "cell_type": "code",
      "source": [
        "#Drop this column\n",
        "df2=df1.drop('Garage Yr Blt',axis=1)"
      ],
      "metadata": {
        "id": "eof1GRDOmhYf"
      },
      "execution_count": 18,
      "outputs": []
    },
    {
      "cell_type": "markdown",
      "source": [
        "# Xử lý dữ liệu"
      ],
      "metadata": {
        "id": "PxzscbdCmpFJ"
      }
    },
    {
      "cell_type": "code",
      "source": [
        "#Define target array y\n",
        "y= df2['SalePrice'].values\n",
        "\n",
        "#Create feature array X\n",
        "X= df2.drop('SalePrice',axis=1).values"
      ],
      "metadata": {
        "id": "JzA27JJqmr5-"
      },
      "execution_count": 19,
      "outputs": []
    },
    {
      "cell_type": "code",
      "source": [
        "#Check X's shape\n",
        "X.shape"
      ],
      "metadata": {
        "colab": {
          "base_uri": "https://localhost:8080/"
        },
        "id": "TVjr5uFrm5ks",
        "outputId": "21b1f434-228d-4071-bc20-8066583c9fe1"
      },
      "execution_count": 20,
      "outputs": [
        {
          "output_type": "execute_result",
          "data": {
            "text/plain": [
              "(2930, 305)"
            ]
          },
          "metadata": {},
          "execution_count": 20
        }
      ]
    },
    {
      "cell_type": "code",
      "source": [
        "#Check Y's shape\n",
        "y.shape"
      ],
      "metadata": {
        "colab": {
          "base_uri": "https://localhost:8080/"
        },
        "id": "PFgxeOfDm9tW",
        "outputId": "a6323cbf-4d04-4d4a-95fa-0b9a8e2c67f1"
      },
      "execution_count": 21,
      "outputs": [
        {
          "output_type": "execute_result",
          "data": {
            "text/plain": [
              "(2930,)"
            ]
          },
          "metadata": {},
          "execution_count": 21
        }
      ]
    },
    {
      "cell_type": "code",
      "source": [
        "#Reshape y to have 1 column\n",
        "y=y.reshape(-1,1)\n",
        "y.shape"
      ],
      "metadata": {
        "colab": {
          "base_uri": "https://localhost:8080/"
        },
        "id": "DBLT4eDcnD5e",
        "outputId": "f686c9a1-6f26-456b-b937-6df2a1afcf74"
      },
      "execution_count": 22,
      "outputs": [
        {
          "output_type": "execute_result",
          "data": {
            "text/plain": [
              "(2930, 1)"
            ]
          },
          "metadata": {},
          "execution_count": 22
        }
      ]
    },
    {
      "cell_type": "markdown",
      "source": [
        "Chia dữ liệu"
      ],
      "metadata": {
        "id": "ZSByzXuEnGa2"
      }
    },
    {
      "cell_type": "code",
      "source": [
        "#Split the arrays into training and testing data sets\n",
        "X_train, X_test,y_train, y_test= train_test_split(X,y,test_size=0.3,random_state=42)"
      ],
      "metadata": {
        "id": "dM57_yDinHBE"
      },
      "execution_count": 23,
      "outputs": []
    },
    {
      "cell_type": "markdown",
      "source": [
        "# Huấn luyện mô hình"
      ],
      "metadata": {
        "id": "AAENIJWXnMDt"
      }
    },
    {
      "cell_type": "code",
      "source": [
        "#Create a regressor object\n",
        "LR= LinearRegression()\n",
        "\n",
        "#Fit training set to the regressor\n",
        "LR.fit(X_train,y_train)\n",
        "\n",
        "#print(\"Mô hình hồi quy tuyến tính đã được huấn luyện, có các tham số:\")\n",
        "#print(\"Intercept =\", LR.intercept_)\n",
        "#print(\"Coefficients:\", LR.coef_)"
      ],
      "metadata": {
        "colab": {
          "base_uri": "https://localhost:8080/"
        },
        "id": "qqv4ha5QnNNE",
        "outputId": "aca50006-4941-436b-dba7-09cd4c525213"
      },
      "execution_count": 24,
      "outputs": [
        {
          "output_type": "execute_result",
          "data": {
            "text/plain": [
              "LinearRegression()"
            ]
          },
          "metadata": {},
          "execution_count": 24
        }
      ]
    },
    {
      "cell_type": "code",
      "source": [
        "#Make predictions with the regressor\n",
        "y_prediction = LR.predict(X_test)"
      ],
      "metadata": {
        "id": "MLJdAxemnQtP"
      },
      "execution_count": 25,
      "outputs": []
    },
    {
      "cell_type": "code",
      "source": [
        "# Calculate R2-score\n",
        "score=r2_score(y_test,y_pred)\n",
        "print('R2-score is ',score)\n",
        "print('Mean_sqrd_error is==',mean_squared_error(y_test,y_prediction))\n",
        "print('Root_mean_squared error of is==',np.sqrt(mean_squared_error(y_test,y_prediction)))"
      ],
      "metadata": {
        "id": "rngqmaztnYBp"
      },
      "execution_count": null,
      "outputs": []
    }
  ]
}