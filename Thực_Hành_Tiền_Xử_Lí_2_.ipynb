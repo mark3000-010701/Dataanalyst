{
  "nbformat": 4,
  "nbformat_minor": 0,
  "metadata": {
    "colab": {
      "name": "Thực Hành Tiền Xử Lí 2 .ipynb",
      "provenance": [],
      "collapsed_sections": [],
      "authorship_tag": "ABX9TyMMQbaG5YsYy80uYAhl8TRM",
      "include_colab_link": true
    },
    "kernelspec": {
      "name": "python3",
      "display_name": "Python 3"
    },
    "language_info": {
      "name": "python"
    }
  },
  "cells": [
    {
      "cell_type": "markdown",
      "metadata": {
        "id": "view-in-github",
        "colab_type": "text"
      },
      "source": [
        "<a href=\"https://colab.research.google.com/github/mark3000-010701/Dataanalyst/blob/main/Th%E1%BB%B1c_H%C3%A0nh_Ti%E1%BB%81n_X%E1%BB%AD_L%C3%AD_2_.ipynb\" target=\"_parent\"><img src=\"https://colab.research.google.com/assets/colab-badge.svg\" alt=\"Open In Colab\"/></a>"
      ]
    },
    {
      "cell_type": "code",
      "execution_count": 1,
      "metadata": {
        "id": "G3iFGDdmaDBB"
      },
      "outputs": [],
      "source": [
        "import pandas as pd\n",
        "import numpy as np"
      ]
    },
    {
      "cell_type": "code",
      "source": [
        "ages = [20, 22, 25, 27, 21, 23, 37, 31, 61, 45, 41, 32]"
      ],
      "metadata": {
        "id": "s78sEOUQaKVu"
      },
      "execution_count": 2,
      "outputs": []
    },
    {
      "cell_type": "code",
      "source": [
        "# định nghĩa khoảng giá trị các nhóm\n",
        "bins = [18, 25, 35, 60, 100]"
      ],
      "metadata": {
        "id": "o1dkeQlyaN01"
      },
      "execution_count": 3,
      "outputs": []
    },
    {
      "cell_type": "code",
      "source": [
        "# thực hiện rời rạc hóa\n",
        "cats = pd.cut(ages, bins)"
      ],
      "metadata": {
        "id": "hf5cvdLfaTw1"
      },
      "execution_count": 4,
      "outputs": []
    },
    {
      "cell_type": "code",
      "source": [
        "cats"
      ],
      "metadata": {
        "colab": {
          "base_uri": "https://localhost:8080/"
        },
        "id": "v_bRG9O0aUkW",
        "outputId": "0974671e-69c7-4343-a2fe-fe31faaa67b3"
      },
      "execution_count": 5,
      "outputs": [
        {
          "output_type": "execute_result",
          "data": {
            "text/plain": [
              "[(18, 25], (18, 25], (18, 25], (25, 35], (18, 25], ..., (25, 35], (60, 100], (35, 60], (35, 60], (25, 35]]\n",
              "Length: 12\n",
              "Categories (4, interval[int64, right]): [(18, 25] < (25, 35] < (35, 60] < (60, 100]]"
            ]
          },
          "metadata": {},
          "execution_count": 5
        }
      ]
    },
    {
      "cell_type": "code",
      "source": [
        "# lấy ra index của nhóm tương ứng với các phần tử\n",
        "cats.codes"
      ],
      "metadata": {
        "colab": {
          "base_uri": "https://localhost:8080/"
        },
        "id": "JehOq5qVbZjO",
        "outputId": "ecfe28a9-2365-4192-e03b-1b88666e35c9"
      },
      "execution_count": 6,
      "outputs": [
        {
          "output_type": "execute_result",
          "data": {
            "text/plain": [
              "array([0, 0, 0, 1, 0, 0, 2, 1, 3, 2, 2, 1], dtype=int8)"
            ]
          },
          "metadata": {},
          "execution_count": 6
        }
      ]
    },
    {
      "cell_type": "code",
      "source": [
        "# lấy ra các nhóm\n",
        "cats.categories"
      ],
      "metadata": {
        "colab": {
          "base_uri": "https://localhost:8080/"
        },
        "id": "zaUdsTgcbdV9",
        "outputId": "54582a68-78db-431c-9df5-647d92d8a3c7"
      },
      "execution_count": 7,
      "outputs": [
        {
          "output_type": "execute_result",
          "data": {
            "text/plain": [
              "IntervalIndex([(18, 25], (25, 35], (35, 60], (60, 100]], dtype='interval[int64, right]')"
            ]
          },
          "metadata": {},
          "execution_count": 7
        }
      ]
    },
    {
      "cell_type": "code",
      "source": [
        "# thống kê số lượng phần tử ở mỗi nhóm\n",
        "pd.value_counts(cats)"
      ],
      "metadata": {
        "colab": {
          "base_uri": "https://localhost:8080/"
        },
        "id": "lJK7vBKAbglG",
        "outputId": "9d85ca10-6f87-4c08-c99b-ef316c8048d4"
      },
      "execution_count": 8,
      "outputs": [
        {
          "output_type": "execute_result",
          "data": {
            "text/plain": [
              "(18, 25]     5\n",
              "(25, 35]     3\n",
              "(35, 60]     3\n",
              "(60, 100]    1\n",
              "dtype: int64"
            ]
          },
          "metadata": {},
          "execution_count": 8
        }
      ]
    },
    {
      "cell_type": "code",
      "source": [
        "pd.cut(ages, [18, 26, 36, 61, 100], right=False)\n"
      ],
      "metadata": {
        "colab": {
          "base_uri": "https://localhost:8080/"
        },
        "id": "Ky-i8D9QbkFk",
        "outputId": "dd6e28c1-bf62-4f44-cdf0-d83ac7606c78"
      },
      "execution_count": 9,
      "outputs": [
        {
          "output_type": "execute_result",
          "data": {
            "text/plain": [
              "[[18, 26), [18, 26), [18, 26), [26, 36), [18, 26), ..., [26, 36), [61, 100), [36, 61), [36, 61), [26, 36)]\n",
              "Length: 12\n",
              "Categories (4, interval[int64, left]): [[18, 26) < [26, 36) < [36, 61) < [61, 100)]"
            ]
          },
          "metadata": {},
          "execution_count": 9
        }
      ]
    },
    {
      "cell_type": "code",
      "source": [
        "# danh sách nhãn\n",
        "group_names = ['Youth', 'YoungAdult', 'MiddleAged', 'Senior']\n",
        "\n",
        "pd.cut(ages, bins, labels=group_names)"
      ],
      "metadata": {
        "colab": {
          "base_uri": "https://localhost:8080/"
        },
        "id": "eY6Z8AxVbnn1",
        "outputId": "0db2c9c4-8986-435c-e458-b9b0bf13e384"
      },
      "execution_count": 10,
      "outputs": [
        {
          "output_type": "execute_result",
          "data": {
            "text/plain": [
              "['Youth', 'Youth', 'Youth', 'YoungAdult', 'Youth', ..., 'YoungAdult', 'Senior', 'MiddleAged', 'MiddleAged', 'YoungAdult']\n",
              "Length: 12\n",
              "Categories (4, object): ['Youth' < 'YoungAdult' < 'MiddleAged' < 'Senior']"
            ]
          },
          "metadata": {},
          "execution_count": 10
        }
      ]
    },
    {
      "cell_type": "code",
      "source": [
        "# sinh dữ liệu ngẫu nhiên gồm 20 phần tử\n",
        "data = np.random.rand(20)"
      ],
      "metadata": {
        "id": "LbwoZVbYbrIV"
      },
      "execution_count": 11,
      "outputs": []
    },
    {
      "cell_type": "code",
      "source": [
        "cut_data = pd.cut(data, 4, precision=2)\n",
        "cut_data"
      ],
      "metadata": {
        "colab": {
          "base_uri": "https://localhost:8080/"
        },
        "id": "R9c9fBL9btY9",
        "outputId": "e4bb74fd-1427-4409-a67a-6a629d98e553"
      },
      "execution_count": 12,
      "outputs": [
        {
          "output_type": "execute_result",
          "data": {
            "text/plain": [
              "[(0.47, 0.7], (0.47, 0.7], (0.24, 0.47], (0.0014, 0.24], (0.0014, 0.24], ..., (0.0014, 0.24], (0.47, 0.7], (0.7, 0.94], (0.0014, 0.24], (0.0014, 0.24]]\n",
              "Length: 20\n",
              "Categories (4, interval[float64, right]): [(0.0014, 0.24] < (0.24, 0.47] < (0.47, 0.7] < (0.7, 0.94]]"
            ]
          },
          "metadata": {},
          "execution_count": 12
        }
      ]
    },
    {
      "cell_type": "code",
      "source": [
        "pd.value_counts(cut_data)"
      ],
      "metadata": {
        "colab": {
          "base_uri": "https://localhost:8080/"
        },
        "id": "qX_ecp7ubvzc",
        "outputId": "dc705b86-bcc4-40c1-e92e-2d548007cee2"
      },
      "execution_count": 13,
      "outputs": [
        {
          "output_type": "execute_result",
          "data": {
            "text/plain": [
              "(0.0014, 0.24]    8\n",
              "(0.47, 0.7]       6\n",
              "(0.24, 0.47]      3\n",
              "(0.7, 0.94]       3\n",
              "dtype: int64"
            ]
          },
          "metadata": {},
          "execution_count": 13
        }
      ]
    },
    {
      "cell_type": "code",
      "source": [
        " # sinh ngẫu nhiễn 1000 điểm dữ liệu\n",
        " data = np.random.randn(1000)"
      ],
      "metadata": {
        "id": "yOLnRkUUby4d"
      },
      "execution_count": 14,
      "outputs": []
    },
    {
      "cell_type": "code",
      "source": [
        "# thực hiện hàm qcut trên dữ liệu vừa sinh ra\n",
        "cats = pd.qcut(data, 4)"
      ],
      "metadata": {
        "id": "almjqCTLb16F"
      },
      "execution_count": 15,
      "outputs": []
    },
    {
      "cell_type": "code",
      "source": [
        "cats"
      ],
      "metadata": {
        "colab": {
          "base_uri": "https://localhost:8080/"
        },
        "id": "uGGLNtlub4sN",
        "outputId": "0713cc92-8881-4970-8eb6-1c78be5a538d"
      },
      "execution_count": 16,
      "outputs": [
        {
          "output_type": "execute_result",
          "data": {
            "text/plain": [
              "[(-0.016, 0.661], (-3.3289999999999997, -0.66], (-0.66, -0.016], (-0.016, 0.661], (-0.016, 0.661], ..., (-0.66, -0.016], (-0.016, 0.661], (-0.66, -0.016], (-3.3289999999999997, -0.66], (-0.016, 0.661]]\n",
              "Length: 1000\n",
              "Categories (4, interval[float64, right]): [(-3.3289999999999997, -0.66] < (-0.66, -0.016] < (-0.016, 0.661] <\n",
              "                                           (0.661, 2.962]]"
            ]
          },
          "metadata": {},
          "execution_count": 16
        }
      ]
    },
    {
      "cell_type": "code",
      "source": [
        "#thống kê số lượng phần tử\n",
        "pd.value_counts(cats)"
      ],
      "metadata": {
        "colab": {
          "base_uri": "https://localhost:8080/"
        },
        "id": "FnbIPq0Yb8Ds",
        "outputId": "0a3b4343-108f-4b3a-baf6-56d239af1f77"
      },
      "execution_count": 17,
      "outputs": [
        {
          "output_type": "execute_result",
          "data": {
            "text/plain": [
              "(-3.3289999999999997, -0.66]    250\n",
              "(-0.66, -0.016]                 250\n",
              "(-0.016, 0.661]                 250\n",
              "(0.661, 2.962]                  250\n",
              "dtype: int64"
            ]
          },
          "metadata": {},
          "execution_count": 17
        }
      ]
    },
    {
      "cell_type": "code",
      "source": [
        "pd.qcut(data, [0, 0.1, 0.5, 0.9, 1.])"
      ],
      "metadata": {
        "colab": {
          "base_uri": "https://localhost:8080/"
        },
        "id": "dhYKEkRWb-kM",
        "outputId": "0446d80b-1817-486e-fb7d-6a8a67246738"
      },
      "execution_count": 18,
      "outputs": [
        {
          "output_type": "execute_result",
          "data": {
            "text/plain": [
              "[(-0.016, 1.291], (-1.297, -0.016], (-1.297, -0.016], (-0.016, 1.291], (-0.016, 1.291], ..., (-1.297, -0.016], (-0.016, 1.291], (-1.297, -0.016], (-3.3289999999999997, -1.297], (-0.016, 1.291]]\n",
              "Length: 1000\n",
              "Categories (4, interval[float64, right]): [(-3.3289999999999997, -1.297] < (-1.297, -0.016] < (-0.016, 1.291] <\n",
              "                                           (1.291, 2.962]]"
            ]
          },
          "metadata": {},
          "execution_count": 18
        }
      ]
    }
  ]
}