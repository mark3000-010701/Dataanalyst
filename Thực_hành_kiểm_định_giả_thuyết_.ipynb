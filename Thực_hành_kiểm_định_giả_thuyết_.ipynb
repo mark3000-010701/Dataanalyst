{
  "nbformat": 4,
  "nbformat_minor": 0,
  "metadata": {
    "colab": {
      "name": "Thực hành kiểm định giả thuyết .ipynb",
      "provenance": [],
      "collapsed_sections": [],
      "authorship_tag": "ABX9TyP5gjCieJao0ibAJPl3mdJj",
      "include_colab_link": true
    },
    "kernelspec": {
      "name": "python3",
      "display_name": "Python 3"
    },
    "language_info": {
      "name": "python"
    }
  },
  "cells": [
    {
      "cell_type": "markdown",
      "metadata": {
        "id": "view-in-github",
        "colab_type": "text"
      },
      "source": [
        "<a href=\"https://colab.research.google.com/github/mark3000-010701/Dataanalyst/blob/main/Th%E1%BB%B1c_h%C3%A0nh_ki%E1%BB%83m_%C4%91%E1%BB%8Bnh_gi%E1%BA%A3_thuy%E1%BA%BFt_.ipynb\" target=\"_parent\"><img src=\"https://colab.research.google.com/assets/colab-badge.svg\" alt=\"Open In Colab\"/></a>"
      ]
    },
    {
      "cell_type": "markdown",
      "source": [
        "# **[Thực hành] Phân tích dữ liệu trên bộ dữ liệu FoodPrice in Turkey**"
      ],
      "metadata": {
        "id": "G43eJvr_l-hN"
      }
    },
    {
      "cell_type": "markdown",
      "source": [
        "Với mức ý nghĩa 5% hay kiểm định giả thuyết: giá bán lẻ gạo trung bình năm 2019 là 9.5 (Lira)/1 kg Turkish Lira là đơn vị tiền tệ ở Turkey (1usd ~ 8-9 Lira)"
      ],
      "metadata": {
        "id": "EoC65EalmAcy"
      }
    },
    {
      "cell_type": "code",
      "execution_count": 1,
      "metadata": {
        "id": "twZpxmiVl111"
      },
      "outputs": [],
      "source": [
        "import pandas as pd\n",
        "from scipy import stats\n",
        "import matplotlib.pyplot as plt"
      ]
    },
    {
      "cell_type": "code",
      "source": [
        "df = pd.read_csv('https://s3.ap-southeast-1.amazonaws.com/learn.codegym.vn/media/public/2021/12/31021019/FoodPrice_in_Turkey.csv')\n",
        "df.info()"
      ],
      "metadata": {
        "colab": {
          "base_uri": "https://localhost:8080/"
        },
        "id": "DzvLW97TmKcL",
        "outputId": "86cba8ad-0295-4d9d-bdad-7fac34a57e67"
      },
      "execution_count": 2,
      "outputs": [
        {
          "output_type": "stream",
          "name": "stdout",
          "text": [
            "<class 'pandas.core.frame.DataFrame'>\n",
            "RangeIndex: 7381 entries, 0 to 7380\n",
            "Data columns (total 8 columns):\n",
            " #   Column       Non-Null Count  Dtype  \n",
            "---  ------       --------------  -----  \n",
            " 0   Place        7381 non-null   object \n",
            " 1   ProductId    7381 non-null   int64  \n",
            " 2   ProductName  7381 non-null   object \n",
            " 3   UmId         7381 non-null   int64  \n",
            " 4   UmName       7381 non-null   object \n",
            " 5   Month        7381 non-null   int64  \n",
            " 6   Year         7381 non-null   int64  \n",
            " 7   Price        7381 non-null   float64\n",
            "dtypes: float64(1), int64(4), object(3)\n",
            "memory usage: 461.4+ KB\n"
          ]
        }
      ]
    },
    {
      "cell_type": "markdown",
      "source": [
        "1. với mức ý nghĩa 5% kiểm định giả thuyết giá bán gạo trung bình năm 2019 là 10 Lira/kg"
      ],
      "metadata": {
        "id": "jb4qNu7wmVQb"
      }
    },
    {
      "cell_type": "code",
      "source": [
        "#liệt kê tên các sản phẩm\n",
        "product_names = list(df['ProductName'].unique()) \n",
        "print(product_names)"
      ],
      "metadata": {
        "colab": {
          "base_uri": "https://localhost:8080/"
        },
        "id": "R_-1fg7vmVtq",
        "outputId": "59d1eace-c08e-4831-acec-a0d472e7b535"
      },
      "execution_count": 3,
      "outputs": [
        {
          "output_type": "stream",
          "name": "stdout",
          "text": [
            "['Rice - Retail', 'Wheat flour - Retail', 'Beans (white) - Retail', 'Potatoes - Retail', 'Eggs - Retail', 'Meat (chicken) - Retail', 'Sugar - Retail', 'Garlic - Retail', 'Lentils - Retail', 'Pasta - Retail', 'Tomatoes - Retail', 'Groundnuts (shelled) - Retail', 'Bread (common) - Retail', 'Coffee - Retail', 'Onions - Retail', 'Tea (green) - Retail', 'Cabbage - Retail', 'Meat (mutton) - Retail', 'Oil (sunflower) - Retail', 'Salt - Retail', 'Coffee (instant) - Retail', 'Peas (green, dry) - Retail', 'Apples (red) - Retail', 'Cauliflower - Retail', 'Cucumbers (greenhouse) - Retail', 'Oil (olive) - Retail', 'Chickpeas - Retail', 'Bananas - Retail', 'Bulgur - Retail', 'Tea - Retail', 'Fuel (petrol-gasoline) - Retail', 'Transport (public) - Retail', 'Tomatoes (paste) - Retail', 'Fuel (gas) - Retail', 'Apples - Retail', 'Oranges - Retail', 'Yogurt - Retail', 'Bread (pita) - Retail', 'Cucumbers - Retail', 'Fish (fresh) - Retail', 'Spinach - Retail', 'Cheese - Retail', 'Meat (veal) - Retail', 'Eggplants - Retail', 'Milk (powder, infant formula) - Retail', 'Zucchini - Retail', 'Milk (pasteurized) - Retail', 'Wage (non-qualified labour, non-agricultural) - Retail', 'Electricity - Retail', 'Tea (herbal) - Retail', 'Water - Retail', 'Cocoa (powder) - Retail']\n"
          ]
        }
      ]
    },
    {
      "cell_type": "code",
      "source": [
        "# Lọc những bản ghi liên quan tới giá gạo năm 2019\n",
        "df_rice = df.loc[(df.ProductName== 'Rice - Retail') & (df.Year == 2019)]\n",
        "print ('Số lượng bản ghi của gạo năm 2019: ' +str(df_rice.shape[0])) "
      ],
      "metadata": {
        "colab": {
          "base_uri": "https://localhost:8080/"
        },
        "id": "PQd1s-gimac6",
        "outputId": "cda9226e-4926-4e31-ba94-cda45653dc77"
      },
      "execution_count": 4,
      "outputs": [
        {
          "output_type": "stream",
          "name": "stdout",
          "text": [
            "Số lượng bản ghi của gạo năm 2019: 48\n"
          ]
        }
      ]
    },
    {
      "cell_type": "code",
      "source": [
        "df_rice.Price.hist()"
      ],
      "metadata": {
        "colab": {
          "base_uri": "https://localhost:8080/",
          "height": 283
        },
        "id": "PM4uNIokmeS2",
        "outputId": "a9f664a2-39b3-464c-a078-c1c3562f5046"
      },
      "execution_count": 7,
      "outputs": [
        {
          "output_type": "execute_result",
          "data": {
            "text/plain": [
              "<matplotlib.axes._subplots.AxesSubplot at 0x7fdc783d97d0>"
            ]
          },
          "metadata": {},
          "execution_count": 7
        },
        {
          "output_type": "display_data",
          "data": {
            "text/plain": [
              "<Figure size 432x288 with 1 Axes>"
            ],
            "image/png": "[encoded data removed]"
          },
          "metadata": {
            "needs_background": "light"
          }
        }
      ]
    },
    {
      "cell_type": "markdown",
      "source": [
        "Do phân bố có xu hướng gần giống phân bố chuẩn, nên lựa chọn thực hiện kiểm định 2 phía với one sample T test\n",
        "\n",
        "Giả thuyết không: Giá gạo trung bình = 9.5\n",
        "\n",
        "Giả thuyết đối: Giá gạo trung bình # 9.5"
      ],
      "metadata": {
        "id": "BKmPjxFFmouF"
      }
    },
    {
      "cell_type": "code",
      "source": [
        "print( stats.ttest_1samp(df_rice.Price, 9.5))"
      ],
      "metadata": {
        "colab": {
          "base_uri": "https://localhost:8080/"
        },
        "id": "QKwkhJilmp6B",
        "outputId": "455118b9-2c5c-4035-d455-a7d763e4627a"
      },
      "execution_count": 8,
      "outputs": [
        {
          "output_type": "stream",
          "name": "stdout",
          "text": [
            "Ttest_1sampResult(statistic=-1.1854023812590566, pvalue=0.24181730968913567)\n"
          ]
        }
      ]
    },
    {
      "cell_type": "markdown",
      "source": [
        "Giá trị pvalue >5% nên không đủ cơ sở để để bác bỏ giả thuyết không\n",
        "\n",
        "Kết luận: Với mức ý nghĩa 5% có thể nhận định giá gạo trung bình bằng 9.5 Lira/kg"
      ],
      "metadata": {
        "id": "wAVlhjaLmwKh"
      }
    },
    {
      "cell_type": "markdown",
      "source": [
        "# 2. Với mức ý nghĩa 5% hãy kiểm định giả thuyết: Giá bột mỳ và giá gạo ở Turkey năm 2019 là bằng nhau"
      ],
      "metadata": {
        "id": "Ab6YgjmQmw-j"
      }
    },
    {
      "cell_type": "code",
      "source": [
        "# lấy thông tin bột mỳ năm 2019\n",
        "df_wheat = df.loc[(df.ProductName== 'Wheat flour - Retail') & (df.Year == 2019)]\n",
        "print ('Số lượng bản ghi của bột mỳ năm 2019: '+str(df_wheat.shape[0])) \n",
        "import seaborn as sns\n",
        "# Tạo boxplot so sánh phân bố của bột mỳ vào gao\n",
        "price = {'rice': list(df_rice[\"Price\"]), 'wheat': list(df_wheat['Price'])}\n",
        "df_price = pd.DataFrame(price)\n",
        "sns.boxplot(data=df_price)\n",
        "plt.show()"
      ],
      "metadata": {
        "colab": {
          "base_uri": "https://localhost:8080/",
          "height": 283
        },
        "id": "jeQaxx37mziU",
        "outputId": "30a32388-1b1e-483b-f306-6a37d761cfc4"
      },
      "execution_count": 9,
      "outputs": [
        {
          "output_type": "stream",
          "name": "stdout",
          "text": [
            "Số lượng bản ghi của bột mỳ năm 2019: 48\n"
          ]
        },
        {
          "output_type": "display_data",
          "data": {
            "text/plain": [
              "<Figure size 432x288 with 1 Axes>"
            ],
            "image/png": "[encoded data removed]"
          },
          "metadata": {
            "needs_background": "light"
          }
        }
      ]
    },
    {
      "cell_type": "markdown",
      "source": [
        "Nhìn vào phân bố trên chúng ta cũng có thể kết luận được luôn, giá của bột mì thấp hơn hẳn giá của gạo. Để chứng minh nhận định rằng giá bột mỳ và giá gạo không giống nhau, chúng ta thực hiện so sánh trung bình độc lập – independent T test Giả thuyết không: giá bột mỳ trung bình bằng giá gạo Giả thuyết đối: giá bột mỳ trung bình khác giá gạo"
      ],
      "metadata": {
        "id": "rdkNzbMGnBf8"
      }
    },
    {
      "cell_type": "code",
      "source": [
        "print(stats.ttest_ind(price['rice'], price['wheat'], equal_var=False))\n"
      ],
      "metadata": {
        "colab": {
          "base_uri": "https://localhost:8080/"
        },
        "id": "NLY9cMQLnCHl",
        "outputId": "84026e40-4bc0-4388-ad16-66d03a9a6f17"
      },
      "execution_count": 10,
      "outputs": [
        {
          "output_type": "stream",
          "name": "stdout",
          "text": [
            "Ttest_indResult(statistic=53.7516920363042, pvalue=7.11046528586048e-55)\n"
          ]
        }
      ]
    },
    {
      "cell_type": "markdown",
      "source": [
        "Chúng ta có thể thấy Pvalue = 7.1.10^-55 <<5%, bác bỏ giả thuyết không, chấp nhận giả thuyết đối\n",
        "\n",
        "Kết luận: giá bột mỳ và giá gạo trung bình năm 2019 là khác nhau"
      ],
      "metadata": {
        "id": "d_K0pNcrnFw9"
      }
    },
    {
      "cell_type": "markdown",
      "source": [
        "# 3. Vẽ biểu đồ sự biến đổi giá gạo trung bình từ năm 1/2014 đến năm 1/2019 và tìm mối liên hệ giữa giá Trà và giá Cà phê"
      ],
      "metadata": {
        "id": "C4A-ApttnIna"
      }
    },
    {
      "cell_type": "code",
      "source": [
        "# xóa những biến không cần thiết\n",
        "del (df_rice, df_price, df_wheat, price)"
      ],
      "metadata": {
        "id": "zfEE4IUtnGdy"
      },
      "execution_count": 11,
      "outputs": []
    },
    {
      "cell_type": "code",
      "source": [
        "# chuyển đổi dữ liệu ngày tháng\n",
        "df['time'] =  pd.to_datetime(df['Year'].astype(str) + '/'+df['Month'].astype(str))\n",
        "# thực hiện tính toán và vẽ giá trà, caffe theo tháng\n",
        "df_Tea_all = df.loc[(df.ProductName == 'Tea - Retail')]\n",
        "df_Tea_all_mean_by_month = df_Tea_all.groupby('time')['Price'].mean()\n",
        "plt.plot_date(df_Tea_all_mean_by_month.index, df_Tea_all_mean_by_month.values, linestyle ='solid')\n",
        "\n",
        "df_Coffee_all = df.loc[(df.ProductName == 'Coffee - Retail')]\n",
        "df_Coffee_all_mean_by_month = df_Coffee_all.groupby('time')['Price'].mean()\n",
        "plt.plot_date(df_Coffee_all_mean_by_month.index, df_Coffee_all_mean_by_month.values, linestyle ='solid')"
      ],
      "metadata": {
        "colab": {
          "base_uri": "https://localhost:8080/",
          "height": 283
        },
        "id": "5MXnwFmSnQxh",
        "outputId": "4f292fd1-2381-4dc9-f40e-e2e008749661"
      },
      "execution_count": 12,
      "outputs": [
        {
          "output_type": "execute_result",
          "data": {
            "text/plain": [
              "[<matplotlib.lines.Line2D at 0x7fdc779d0f50>]"
            ]
          },
          "metadata": {},
          "execution_count": 12
        },
        {
          "output_type": "display_data",
          "data": {
            "text/plain": [
              "<Figure size 432x288 with 1 Axes>"
            ],
            "image/png": "[encoded data removed]"
          },
          "metadata": {
            "needs_background": "light"
          }
        }
      ]
    },
    {
      "cell_type": "code",
      "source": [
        "# Tiền xử lý dữ liệu\n",
        "# Tạo một data frame thông tin gồm chứa time - place, giá trà, giá cafe\n",
        "df_tea_and_coffee = df.loc[(df.ProductName.isin(['Tea - Retail','Coffee - Retail']))]\n",
        "\n",
        "df_tea_and_coffee['time-place'] = df_tea_and_coffee['time'].astype(str) +'-'+df_tea_and_coffee['Place']\n",
        "df1 = df_tea_and_coffee[df_tea_and_coffee.ProductName =='Tea - Retail'].filter(['time-place',  'Price'])\n",
        "df1 = df1.rename(columns = {'Price':'Tea - Retail'})\n",
        "\n",
        "df2 = df_tea_and_coffee[df_tea_and_coffee.ProductName =='Coffee - Retail'].filter(['time-place', 'Price'])\n",
        "df2 = df2.rename(columns = {'Price':'Coffee - Retail'})\n",
        "\n",
        "Processed_data = pd.merge(df1, df2, on = 'time-place')\n",
        "Processed_data.head()"
      ],
      "metadata": {
        "colab": {
          "base_uri": "https://localhost:8080/",
          "height": 316
        },
        "id": "15xwrCB_nU2T",
        "outputId": "cd65c0a4-29ce-4d7e-eee9-23fda896f1c7"
      },
      "execution_count": 13,
      "outputs": [
        {
          "output_type": "stream",
          "name": "stderr",
          "text": [
            "/usr/local/lib/python3.7/dist-packages/ipykernel_launcher.py:5: SettingWithCopyWarning: \n",
            "A value is trying to be set on a copy of a slice from a DataFrame.\n",
            "Try using .loc[row_indexer,col_indexer] = value instead\n",
            "\n",
            "See the caveats in the documentation: https://pandas.pydata.org/pandas-docs/stable/user_guide/indexing.html#returning-a-view-versus-a-copy\n",
            "  \"\"\"\n"
          ]
        },
        {
          "output_type": "execute_result",
          "data": {
            "text/plain": [
              "                    time-place  Tea - Retail  Coffee - Retail\n",
              "0  2013-05-01-National Average       14.0201          30.8937\n",
              "1  2013-06-01-National Average       14.0003          31.0164\n",
              "2  2013-11-01-National Average       14.1921          30.7445\n",
              "3  2013-12-01-National Average       14.3991          30.9079\n",
              "4  2014-01-01-National Average       15.2072          31.2607"
            ],
            "text/html": [
              "\n",
              "  <div id=\"df-8303f81b-2e93-4a13-90d2-f56703941a8d\">\n",
              "    <div class=\"colab-df-container\">\n",
              "      <div>\n",
              "<style scoped>\n",
              "    .dataframe tbody tr th:only-of-type {\n",
              "        vertical-align: middle;\n",
              "    }\n",
              "\n",
              "    .dataframe tbody tr th {\n",
              "        vertical-align: top;\n",
              "    }\n",
              "\n",
              "    .dataframe thead th {\n",
              "        text-align: right;\n",
              "    }\n",
              "</style>\n",
              "<table border=\"1\" class=\"dataframe\">\n",
              "  <thead>\n",
              "    <tr style=\"text-align: right;\">\n",
              "      <th></th>\n",
              "      <th>time-place</th>\n",
              "      <th>Tea - Retail</th>\n",
              "      <th>Coffee - Retail</th>\n",
              "    </tr>\n",
              "  </thead>\n",
              "  <tbody>\n",
              "    <tr>\n",
              "      <th>0</th>\n",
              "      <td>2013-05-01-National Average</td>\n",
              "      <td>14.0201</td>\n",
              "      <td>30.8937</td>\n",
              "    </tr>\n",
              "    <tr>\n",
              "      <th>1</th>\n",
              "      <td>2013-06-01-National Average</td>\n",
              "      <td>14.0003</td>\n",
              "      <td>31.0164</td>\n",
              "    </tr>\n",
              "    <tr>\n",
              "      <th>2</th>\n",
              "      <td>2013-11-01-National Average</td>\n",
              "      <td>14.1921</td>\n",
              "      <td>30.7445</td>\n",
              "    </tr>\n",
              "    <tr>\n",
              "      <th>3</th>\n",
              "      <td>2013-12-01-National Average</td>\n",
              "      <td>14.3991</td>\n",
              "      <td>30.9079</td>\n",
              "    </tr>\n",
              "    <tr>\n",
              "      <th>4</th>\n",
              "      <td>2014-01-01-National Average</td>\n",
              "      <td>15.2072</td>\n",
              "      <td>31.2607</td>\n",
              "    </tr>\n",
              "  </tbody>\n",
              "</table>\n",
              "</div>\n",
              "      <button class=\"colab-df-convert\" onclick=\"convertToInteractive('df-8303f81b-2e93-4a13-90d2-f56703941a8d')\"\n",
              "              title=\"Convert this dataframe to an interactive table.\"\n",
              "              style=\"display:none;\">\n",
              "        \n",
              "  <svg xmlns=\"http://www.w3.org/2000/svg\" height=\"24px\"viewBox=\"0 0 24 24\"\n",
              "       width=\"24px\">\n",
              "    <path d=\"M0 0h24v24H0V0z\" fill=\"none\"/>\n",
              "    <path d=\"M18.56 5.44l.94 2.06.94-2.06 2.06-.94-2.06-.94-.94-2.06-.94 2.06-2.06.94zm-11 1L8.5 8.5l.94-2.06 2.06-.94-2.06-.94L8.5 2.5l-.94 2.06-2.06.94zm10 10l.94 2.06.94-2.06 2.06-.94-2.06-.94-.94-2.06-.94 2.06-2.06.94z\"/><path d=\"M17.41 7.96l-1.37-1.37c-.4-.4-.92-.59-1.43-.59-.52 0-1.04.2-1.43.59L10.3 9.45l-7.72 7.72c-.78.78-.78 2.05 0 2.83L4 21.41c.39.39.9.59 1.41.59.51 0 1.02-.2 1.41-.59l7.78-7.78 2.81-2.81c.8-.78.8-2.07 0-2.86zM5.41 20L4 18.59l7.72-7.72 1.47 1.35L5.41 20z\"/>\n",
              "  </svg>\n",
              "      </button>\n",
              "      \n",
              "  <style>\n",
              "    .colab-df-container {\n",
              "      display:flex;\n",
              "      flex-wrap:wrap;\n",
              "      gap: 12px;\n",
              "    }\n",
              "\n",
              "    .colab-df-convert {\n",
              "      background-color: #E8F0FE;\n",
              "      border: none;\n",
              "      border-radius: 50%;\n",
              "      cursor: pointer;\n",
              "      display: none;\n",
              "      fill: #1967D2;\n",
              "      height: 32px;\n",
              "      padding: 0 0 0 0;\n",
              "      width: 32px;\n",
              "    }\n",
              "\n",
              "    .colab-df-convert:hover {\n",
              "      background-color: #E2EBFA;\n",
              "      box-shadow: 0px 1px 2px rgba(60, 64, 67, 0.3), 0px 1px 3px 1px rgba(60, 64, 67, 0.15);\n",
              "      fill: #174EA6;\n",
              "    }\n",
              "\n",
              "    [theme=dark] .colab-df-convert {\n",
              "      background-color: #3B4455;\n",
              "      fill: #D2E3FC;\n",
              "    }\n",
              "\n",
              "    [theme=dark] .colab-df-convert:hover {\n",
              "      background-color: #434B5C;\n",
              "      box-shadow: 0px 1px 3px 1px rgba(0, 0, 0, 0.15);\n",
              "      filter: drop-shadow(0px 1px 2px rgba(0, 0, 0, 0.3));\n",
              "      fill: #FFFFFF;\n",
              "    }\n",
              "  </style>\n",
              "\n",
              "      <script>\n",
              "        const buttonEl =\n",
              "          document.querySelector('#df-8303f81b-2e93-4a13-90d2-f56703941a8d button.colab-df-convert');\n",
              "        buttonEl.style.display =\n",
              "          google.colab.kernel.accessAllowed ? 'block' : 'none';\n",
              "\n",
              "        async function convertToInteractive(key) {\n",
              "          const element = document.querySelector('#df-8303f81b-2e93-4a13-90d2-f56703941a8d');\n",
              "          const dataTable =\n",
              "            await google.colab.kernel.invokeFunction('convertToInteractive',\n",
              "                                                     [key], {});\n",
              "          if (!dataTable) return;\n",
              "\n",
              "          const docLinkHtml = 'Like what you see? Visit the ' +\n",
              "            '<a target=\"_blank\" href=https://colab.research.google.com/notebooks/data_table.ipynb>data table notebook</a>'\n",
              "            + ' to learn more about interactive tables.';\n",
              "          element.innerHTML = '';\n",
              "          dataTable['output_type'] = 'display_data';\n",
              "          await google.colab.output.renderOutput(dataTable, element);\n",
              "          const docLink = document.createElement('div');\n",
              "          docLink.innerHTML = docLinkHtml;\n",
              "          element.appendChild(docLink);\n",
              "        }\n",
              "      </script>\n",
              "    </div>\n",
              "  </div>\n",
              "  "
            ]
          },
          "metadata": {},
          "execution_count": 13
        }
      ]
    },
    {
      "cell_type": "markdown",
      "source": [
        "Tiến hành kiểm định: Thực hiện kiểm định wilcoxon 1 phía với giả thuyết như sau:<br>\n",
        "Giả thuyết không: giá cà phê bằng giá trà công thêm 15 Lira ở mọi thời điểm<br>\n",
        "\n",
        "Giả thuyết đối: Giá giá cà phê luôn hơn giá trà 15 Lira ở mọi thời điểm\n"
      ],
      "metadata": {
        "id": "pgaTjup7nZzr"
      }
    },
    {
      "cell_type": "code",
      "source": [
        "# thực hiện biến đổi dữ liệu\n",
        "d = Processed_data['Coffee - Retail']-Processed_data['Tea - Retail'] - 15\n",
        "# Thực hiện kiểm định wilcolxon\n",
        "from scipy import stats\n",
        "# thực hiện kiểm định với giả thuyết đối được định nghĩa ở trên\n",
        "stats.wilcoxon(d, alternative='greater')"
      ],
      "metadata": {
        "colab": {
          "base_uri": "https://localhost:8080/"
        },
        "id": "KSK9aZA6nfkO",
        "outputId": "13e395ca-cda6-4f7e-c1a2-975131a4894b"
      },
      "execution_count": 14,
      "outputs": [
        {
          "output_type": "execute_result",
          "data": {
            "text/plain": [
              "WilcoxonResult(statistic=9838.0, pvalue=0.0004122034397612688)"
            ]
          },
          "metadata": {},
          "execution_count": 14
        }
      ]
    },
    {
      "cell_type": "markdown",
      "source": [
        "### Do pvalue <1% rất nhiều –> Bác bỏ giả thuyết không, chấp nhận giả thuyết đối Giá Cà phê luôn lớn hơn giá trà ít nhất 15 lira mà không bị ảnh hưởng bởi thời gian hay địa điểm"
      ],
      "metadata": {
        "id": "4rWWc04anmRq"
      }
    },
    {
      "cell_type": "markdown",
      "source": [
        "# **[Thực hành] phân tích dữ liệu trên bộ dữ liệu Quản lý chất lượng**"
      ],
      "metadata": {
        "id": "ACG_jaPjn58F"
      }
    },
    {
      "cell_type": "code",
      "source": [
        "import pandas as pd\n",
        "from scipy import stats\n",
        "import matplotlib.pyplot as plt"
      ],
      "metadata": {
        "id": "j4UDz_oSnl7d"
      },
      "execution_count": 15,
      "outputs": []
    },
    {
      "cell_type": "code",
      "source": [
        "df = pd.read_excel('https://s3.ap-southeast-1.amazonaws.com/learn.codegym.vn/media/public/2022/03/06085738/Quality.xlsx')\n",
        "print(df.head())\n",
        "df.info()"
      ],
      "metadata": {
        "colab": {
          "base_uri": "https://localhost:8080/"
        },
        "id": "uYxbOzdDn_SF",
        "outputId": "85bba59e-1c04-49f3-944e-a71d5032738e"
      },
      "execution_count": 16,
      "outputs": [
        {
          "output_type": "stream",
          "name": "stdout",
          "text": [
            "   Sample 1  Sample 2  Sample 3  Sample 4\n",
            "0     11.55     11.62     11.91     12.02\n",
            "1     11.62     11.69     11.36     12.02\n",
            "2     11.52     11.59     11.75     12.05\n",
            "3     11.75     11.82     11.95     12.18\n",
            "4     11.90     11.97     12.14     12.11\n",
            "<class 'pandas.core.frame.DataFrame'>\n",
            "RangeIndex: 30 entries, 0 to 29\n",
            "Data columns (total 4 columns):\n",
            " #   Column    Non-Null Count  Dtype  \n",
            "---  ------    --------------  -----  \n",
            " 0   Sample 1  30 non-null     float64\n",
            " 1   Sample 2  30 non-null     float64\n",
            " 2   Sample 3  30 non-null     float64\n",
            " 3   Sample 4  30 non-null     float64\n",
            "dtypes: float64(4)\n",
            "memory usage: 1.1 KB\n"
          ]
        },
        {
          "output_type": "stream",
          "name": "stderr",
          "text": [
            "/usr/local/lib/python3.7/dist-packages/openpyxl/worksheet/header_footer.py:48: UserWarning: Cannot parse header or footer so it will be ignored\n",
            "  warn(\"\"\"Cannot parse header or footer so it will be ignored\"\"\")\n"
          ]
        }
      ]
    },
    {
      "cell_type": "markdown",
      "source": [
        "với mức ý nghĩa 0.01 tiến hành kiểm định chất lượng sản phẩm"
      ],
      "metadata": {
        "id": "E996Ro3RoPkY"
      }
    },
    {
      "cell_type": "code",
      "source": [
        "# Tiền xử lý dữ liệu\n",
        "# gom hết dữ liệu của 4 mẫu thành 1 mảng duy nhất\n",
        "sample = list()\n",
        "for i in df.columns:\n",
        "    sample.extend(df[i].tolist())\n",
        "\n",
        "# tiến hành mô tả dữ liệu mẫu\n",
        "df = pd.DataFrame(columns=['sample'], data= sample) \n",
        "df.describe()"
      ],
      "metadata": {
        "colab": {
          "base_uri": "https://localhost:8080/",
          "height": 300
        },
        "id": "vAl-dy2roGa-",
        "outputId": "79cf54f4-2964-4f59-d4e3-b7f7e7bee9af"
      },
      "execution_count": 17,
      "outputs": [
        {
          "output_type": "execute_result",
          "data": {
            "text/plain": [
              "           sample\n",
              "count  120.000000\n",
              "mean    11.989417\n",
              "std      0.223108\n",
              "min     11.360000\n",
              "25%     11.850000\n",
              "50%     12.000000\n",
              "75%     12.160000\n",
              "max     12.470000"
            ],
            "text/html": [
              "\n",
              "  <div id=\"df-478b82d1-06c8-44f3-a0b7-def9afafdc52\">\n",
              "    <div class=\"colab-df-container\">\n",
              "      <div>\n",
              "<style scoped>\n",
              "    .dataframe tbody tr th:only-of-type {\n",
              "        vertical-align: middle;\n",
              "    }\n",
              "\n",
              "    .dataframe tbody tr th {\n",
              "        vertical-align: top;\n",
              "    }\n",
              "\n",
              "    .dataframe thead th {\n",
              "        text-align: right;\n",
              "    }\n",
              "</style>\n",
              "<table border=\"1\" class=\"dataframe\">\n",
              "  <thead>\n",
              "    <tr style=\"text-align: right;\">\n",
              "      <th></th>\n",
              "      <th>sample</th>\n",
              "    </tr>\n",
              "  </thead>\n",
              "  <tbody>\n",
              "    <tr>\n",
              "      <th>count</th>\n",
              "      <td>120.000000</td>\n",
              "    </tr>\n",
              "    <tr>\n",
              "      <th>mean</th>\n",
              "      <td>11.989417</td>\n",
              "    </tr>\n",
              "    <tr>\n",
              "      <th>std</th>\n",
              "      <td>0.223108</td>\n",
              "    </tr>\n",
              "    <tr>\n",
              "      <th>min</th>\n",
              "      <td>11.360000</td>\n",
              "    </tr>\n",
              "    <tr>\n",
              "      <th>25%</th>\n",
              "      <td>11.850000</td>\n",
              "    </tr>\n",
              "    <tr>\n",
              "      <th>50%</th>\n",
              "      <td>12.000000</td>\n",
              "    </tr>\n",
              "    <tr>\n",
              "      <th>75%</th>\n",
              "      <td>12.160000</td>\n",
              "    </tr>\n",
              "    <tr>\n",
              "      <th>max</th>\n",
              "      <td>12.470000</td>\n",
              "    </tr>\n",
              "  </tbody>\n",
              "</table>\n",
              "</div>\n",
              "      <button class=\"colab-df-convert\" onclick=\"convertToInteractive('df-478b82d1-06c8-44f3-a0b7-def9afafdc52')\"\n",
              "              title=\"Convert this dataframe to an interactive table.\"\n",
              "              style=\"display:none;\">\n",
              "        \n",
              "  <svg xmlns=\"http://www.w3.org/2000/svg\" height=\"24px\"viewBox=\"0 0 24 24\"\n",
              "       width=\"24px\">\n",
              "    <path d=\"M0 0h24v24H0V0z\" fill=\"none\"/>\n",
              "    <path d=\"M18.56 5.44l.94 2.06.94-2.06 2.06-.94-2.06-.94-.94-2.06-.94 2.06-2.06.94zm-11 1L8.5 8.5l.94-2.06 2.06-.94-2.06-.94L8.5 2.5l-.94 2.06-2.06.94zm10 10l.94 2.06.94-2.06 2.06-.94-2.06-.94-.94-2.06-.94 2.06-2.06.94z\"/><path d=\"M17.41 7.96l-1.37-1.37c-.4-.4-.92-.59-1.43-.59-.52 0-1.04.2-1.43.59L10.3 9.45l-7.72 7.72c-.78.78-.78 2.05 0 2.83L4 21.41c.39.39.9.59 1.41.59.51 0 1.02-.2 1.41-.59l7.78-7.78 2.81-2.81c.8-.78.8-2.07 0-2.86zM5.41 20L4 18.59l7.72-7.72 1.47 1.35L5.41 20z\"/>\n",
              "  </svg>\n",
              "      </button>\n",
              "      \n",
              "  <style>\n",
              "    .colab-df-container {\n",
              "      display:flex;\n",
              "      flex-wrap:wrap;\n",
              "      gap: 12px;\n",
              "    }\n",
              "\n",
              "    .colab-df-convert {\n",
              "      background-color: #E8F0FE;\n",
              "      border: none;\n",
              "      border-radius: 50%;\n",
              "      cursor: pointer;\n",
              "      display: none;\n",
              "      fill: #1967D2;\n",
              "      height: 32px;\n",
              "      padding: 0 0 0 0;\n",
              "      width: 32px;\n",
              "    }\n",
              "\n",
              "    .colab-df-convert:hover {\n",
              "      background-color: #E2EBFA;\n",
              "      box-shadow: 0px 1px 2px rgba(60, 64, 67, 0.3), 0px 1px 3px 1px rgba(60, 64, 67, 0.15);\n",
              "      fill: #174EA6;\n",
              "    }\n",
              "\n",
              "    [theme=dark] .colab-df-convert {\n",
              "      background-color: #3B4455;\n",
              "      fill: #D2E3FC;\n",
              "    }\n",
              "\n",
              "    [theme=dark] .colab-df-convert:hover {\n",
              "      background-color: #434B5C;\n",
              "      box-shadow: 0px 1px 3px 1px rgba(0, 0, 0, 0.15);\n",
              "      filter: drop-shadow(0px 1px 2px rgba(0, 0, 0, 0.3));\n",
              "      fill: #FFFFFF;\n",
              "    }\n",
              "  </style>\n",
              "\n",
              "      <script>\n",
              "        const buttonEl =\n",
              "          document.querySelector('#df-478b82d1-06c8-44f3-a0b7-def9afafdc52 button.colab-df-convert');\n",
              "        buttonEl.style.display =\n",
              "          google.colab.kernel.accessAllowed ? 'block' : 'none';\n",
              "\n",
              "        async function convertToInteractive(key) {\n",
              "          const element = document.querySelector('#df-478b82d1-06c8-44f3-a0b7-def9afafdc52');\n",
              "          const dataTable =\n",
              "            await google.colab.kernel.invokeFunction('convertToInteractive',\n",
              "                                                     [key], {});\n",
              "          if (!dataTable) return;\n",
              "\n",
              "          const docLinkHtml = 'Like what you see? Visit the ' +\n",
              "            '<a target=\"_blank\" href=https://colab.research.google.com/notebooks/data_table.ipynb>data table notebook</a>'\n",
              "            + ' to learn more about interactive tables.';\n",
              "          element.innerHTML = '';\n",
              "          dataTable['output_type'] = 'display_data';\n",
              "          await google.colab.output.renderOutput(dataTable, element);\n",
              "          const docLink = document.createElement('div');\n",
              "          docLink.innerHTML = docLinkHtml;\n",
              "          element.appendChild(docLink);\n",
              "        }\n",
              "      </script>\n",
              "    </div>\n",
              "  </div>\n",
              "  "
            ]
          },
          "metadata": {},
          "execution_count": 17
        }
      ]
    },
    {
      "cell_type": "markdown",
      "source": [
        "Dựa vào kết quả phân tích trên: bộ dữ liệu chứa đủ 120 mẫu\n",
        "\n",
        "Giá trị trung bình trên mẫu đúng bằng 12, giống mô tả của khách hàng\n",
        "Phương sai: = 0.223108 (sai số so với giá trị trung bình của mẫu dữ liệu) >0.21 –> khách hàng nên thay đổi lại tuyên bố về sai số của mình<br>\n",
        "\n",
        "\n",
        "Tiến hành kiểm định về giá trị trung bình:<br>\n",
        "\n",
        "<li>Giả thuyết không: khối lượng trung bình của sản phẩm = 12\n",
        "<li>Giả thuyết đối: Khối lượng trung bình của sản phẩm # 12\n",
        "<li>Thực hiện phép kiểm định: One Sample T Test"
      ],
      "metadata": {
        "id": "H70ZFm09oZCT"
      }
    },
    {
      "cell_type": "code",
      "source": [
        "print (stats.ttest_1samp(sample,12))"
      ],
      "metadata": {
        "colab": {
          "base_uri": "https://localhost:8080/"
        },
        "id": "r5OlqVPbooGj",
        "outputId": "1962e200-8382-4098-abbb-d5c05c9523e6"
      },
      "execution_count": 18,
      "outputs": [
        {
          "output_type": "stream",
          "name": "stdout",
          "text": [
            "Ttest_1sampResult(statistic=-0.5196355789314843, pvalue=0.6042828222996104)\n"
          ]
        }
      ]
    },
    {
      "cell_type": "markdown",
      "source": [
        "Do pvalue > 0.01 –> Chấp nhận giả thuyết 0.\n",
        "\n",
        "Kết luận: Tuyên bố của khách hàng về giá trị trung bình là đúng, nhưng tuyên bố về sai số của sản phẩm đang không hợp lý.\n",
        "\n",
        "Khách hàng nên tuyên bố như sau: Khối lượng sản phẩm trung bình của sản phẩm là 12, với sai số đóng gói trung bình là 0.24 (chiếm khoảng 2%). Hoặc khách hàng cần phải xem lại việc vận hành để đảm bảo tuyên bố ban đầu."
      ],
      "metadata": {
        "id": "HjHbH2Jsoujd"
      }
    },
    {
      "cell_type": "markdown",
      "source": [
        "# **[Thực hành] Kiểm định lượng sản phẩm tiêu thụ của Coca Cola**"
      ],
      "metadata": {
        "id": "EfOa7sJcoxa9"
      }
    },
    {
      "cell_type": "code",
      "source": [
        "df = pd.read_excel(\"https://s3.ap-southeast-1.amazonaws.com/learn.codegym.vn/media/public/2022/03/06085734/Coca_cola_use.xlsx\", index_col= 'STT')\n",
        "print (\"5 bản ghi đầu tiên của bộ dữ liệu \")\n",
        "print (df.head())"
      ],
      "metadata": {
        "colab": {
          "base_uri": "https://localhost:8080/"
        },
        "id": "mFTIOn1lo_70",
        "outputId": "2a9432a4-2a50-49bb-ace0-04ee8c9f3345"
      },
      "execution_count": 19,
      "outputs": [
        {
          "output_type": "stream",
          "name": "stdout",
          "text": [
            "5 bản ghi đầu tiên của bộ dữ liệu \n",
            "     Ohio  Atlanta\n",
            "STT               \n",
            "1    0.88     3.85\n",
            "2    2.06     0.00\n",
            "3    0.00     0.00\n",
            "4    0.70     0.02\n",
            "5    1.64     0.58\n"
          ]
        }
      ]
    },
    {
      "cell_type": "code",
      "source": [
        "print (\"thông tin bộ dữ liệu\")\n",
        "print (df.info())"
      ],
      "metadata": {
        "colab": {
          "base_uri": "https://localhost:8080/"
        },
        "id": "bs1Zp5xspN_F",
        "outputId": "e3ec41b3-3f97-4372-9cce-30a8cbe9d9c2"
      },
      "execution_count": 20,
      "outputs": [
        {
          "output_type": "stream",
          "name": "stdout",
          "text": [
            "thông tin bộ dữ liệu\n",
            "<class 'pandas.core.frame.DataFrame'>\n",
            "Int64Index: 50 entries, 1 to 50\n",
            "Data columns (total 2 columns):\n",
            " #   Column   Non-Null Count  Dtype  \n",
            "---  ------   --------------  -----  \n",
            " 0   Ohio     50 non-null     float64\n",
            " 1   Atlanta  50 non-null     float64\n",
            "dtypes: float64(2)\n",
            "memory usage: 1.2 KB\n",
            "None\n"
          ]
        }
      ]
    },
    {
      "cell_type": "code",
      "source": [
        "print (\"mô tả bộ dữ liệu\")\n",
        "print (df.describe())"
      ],
      "metadata": {
        "colab": {
          "base_uri": "https://localhost:8080/"
        },
        "id": "FM-XmLYxpT9e",
        "outputId": "f935dac4-3db5-4017-b145-8130228e4f56"
      },
      "execution_count": 21,
      "outputs": [
        {
          "output_type": "stream",
          "name": "stdout",
          "text": [
            "mô tả bộ dữ liệu\n",
            "            Ohio    Atlanta\n",
            "count  50.000000  50.000000\n",
            "mean    1.746800   1.614800\n",
            "std     1.092211   1.061068\n",
            "min     0.000000   0.000000\n",
            "25%     0.835000   0.682500\n",
            "50%     1.615000   1.495000\n",
            "75%     2.350000   2.402500\n",
            "max     5.000000   3.860000\n"
          ]
        }
      ]
    },
    {
      "cell_type": "code",
      "source": [
        "df.boxplot()\n"
      ],
      "metadata": {
        "colab": {
          "base_uri": "https://localhost:8080/",
          "height": 283
        },
        "id": "j0thkFempZgL",
        "outputId": "ba4d52cc-6c65-479c-a59a-cfbcd636c4c5"
      },
      "execution_count": 22,
      "outputs": [
        {
          "output_type": "execute_result",
          "data": {
            "text/plain": [
              "<matplotlib.axes._subplots.AxesSubplot at 0x7fdc7712af90>"
            ]
          },
          "metadata": {},
          "execution_count": 22
        },
        {
          "output_type": "display_data",
          "data": {
            "text/plain": [
              "<Figure size 432x288 with 1 Axes>"
            ],
            "image/png": "[encoded data removed]"
          },
          "metadata": {
            "needs_background": "light"
          }
        }
      ]
    },
    {
      "cell_type": "markdown",
      "source": [
        "nhìn vào biểu đồ trên chúng ta thấy lượng tiêu thụ ở Ohio có nhỉnh hơn Atlanta một chút, và rất khó để kết luận\n",
        "\n",
        "Tiến hành kiểm định </br> Thực hiện kiểm định giả thuyết so sánh hai mẫu trung bình độc lập gọi a1, a2 lần lượt là lượng tiêu thụ coca trung bình trên đầu người ở Ohio và Atlanta\n",
        "\n",
        "Giả thuyết không: a1-a2 =0<br>\n",
        "Giả thuyết đối: a1-a2>0<br>\n",
        "mức ý nghĩa 5%<br>\n",
        "Loại kiểm định Independent T test"
      ],
      "metadata": {
        "id": "FoIEamE9pfKI"
      }
    },
    {
      "cell_type": "code",
      "source": [
        "print (stats.ttest_ind(df.Ohio, df.Atlanta,equal_var=False))\n"
      ],
      "metadata": {
        "colab": {
          "base_uri": "https://localhost:8080/"
        },
        "id": "JIIbmpOapnAV",
        "outputId": "01c872dd-a224-4445-f9de-54db7d983ef1"
      },
      "execution_count": 23,
      "outputs": [
        {
          "output_type": "stream",
          "name": "stdout",
          "text": [
            "Ttest_indResult(statistic=0.6129544104328379, pvalue=0.5413275550760537)\n"
          ]
        }
      ]
    },
    {
      "cell_type": "markdown",
      "source": [
        "Chúng ta nhìn thấy rằng: pvalue > 5% rất nhiều nên không đủ cơ sở để bác bỏ giả thuyết không </br> Kết luận: Không đủ căn cứ để kết luận rằng lượng tiêu thụ coca trung bình ở Ohio lớn hơn ở Atlanta"
      ],
      "metadata": {
        "id": "lALB5AVBpr4a"
      }
    }
  ]
}