{
  "nbformat": 4,
  "nbformat_minor": 0,
  "metadata": {
    "colab": {
      "name": "bài tập Data Visualization 3 .ipynb",
      "provenance": [],
      "collapsed_sections": [],
      "authorship_tag": "ABX9TyPdsyXOQThSq3SZpaFBfGCC",
      "include_colab_link": true
    },
    "kernelspec": {
      "name": "python3",
      "display_name": "Python 3"
    },
    "language_info": {
      "name": "python"
    }
  },
  "cells": [
    {
      "cell_type": "markdown",
      "metadata": {
        "id": "view-in-github",
        "colab_type": "text"
      },
      "source": [
        "<a href=\"https://colab.research.google.com/github/mark3000-010701/Dataanalyst/blob/main/b%C3%A0i_t%E1%BA%ADp_Data_Visualization_3_.ipynb\" target=\"_parent\"><img src=\"https://colab.research.google.com/assets/colab-badge.svg\" alt=\"Open In Colab\"/></a>"
      ]
    },
    {
      "cell_type": "markdown",
      "source": [
        "# **[Bài tập] Vẽ biểu đồ kết hợp – House Price Đống Đa**"
      ],
      "metadata": {
        "id": "0ewAdfmZNRNh"
      }
    },
    {
      "cell_type": "code",
      "execution_count": 1,
      "metadata": {
        "id": "7nTjs3eRNLQw"
      },
      "outputs": [],
      "source": [
        "import pandas as pd\n",
        "import seaborn as sns\n",
        "import matplotlib.pyplot as plt\n"
      ]
    },
    {
      "cell_type": "code",
      "source": [
        "df=pd.read_excel('https://s3.ap-southeast-1.amazonaws.com/learn.codegym.vn/media/public/2022/01/08185826/house_price_do%CC%82%CC%81ng-da.xlsx')\n",
        "df.head()"
      ],
      "metadata": {
        "colab": {
          "base_uri": "https://localhost:8080/",
          "height": 1000
        },
        "id": "-DN7wSMENgKA",
        "outputId": "b9a2b567-b530-41fc-edc6-2973edc30f3c"
      },
      "execution_count": 2,
      "outputs": [
        {
          "output_type": "stream",
          "name": "stderr",
          "text": [
            "/usr/local/lib/python3.7/dist-packages/openpyxl/worksheet/_reader.py:312: UserWarning: Unknown extension is not supported and will be removed\n",
            "  warn(msg)\n"
          ]
        },
        {
          "output_type": "execute_result",
          "data": {
            "text/plain": [
              "                                               title  \\\n",
              "0  Bán nhà Trần Quang Diệu mới coong đẹp 50m2x6 t...   \n",
              "1  Bán nhà mặt phố Tây Sơn - 6 tầng. Kinh doanh t...   \n",
              "2  Bán nhà số 36 Đoàn Kết - phố Khâm Thiên - Đống...   \n",
              "3  Bán nhà 6 tầng mới kinh doanh mặt ngõ 1194 Đườ...   \n",
              "4  Bán nhà mặt phố Thái Hà 70m2, 5 tầng, 4.5m mặt...   \n",
              "\n",
              "                                             address  area    price  \\\n",
              "0  Đường Trần Quang Diệu, Phường Trung Liệt, Đốn...  50.0  14700.0   \n",
              "1  Đường Tây Sơn, Phường Trung Liệt, Đống Đa, Hà...  35.0  12500.0   \n",
              "2  Số 36 Đoàn Kết, Phố Khâm Thiên, Phường Thổ Qu...  57.0   4200.0   \n",
              "3  Ngõ 1194, Đường Láng, Phường Láng Thượng, Đố...  62.0  11000.0   \n",
              "4   Phố Thái Hà, Phường Trung Liệt, Đống Đa, Hà Nội  70.0  36000.0   \n",
              "\n",
              "    postDate land_certificate house_direction balcony_direction  toilet  \\\n",
              "0 2021-01-01            Sổ đỏ             NaN               NaN     4.0   \n",
              "1 2021-02-19            Sổ đỏ             NaN               NaN     NaN   \n",
              "2 2021-03-10            Sổ đỏ             Nam               Nam     3.0   \n",
              "3 2021-03-13            Sổ đỏ            Đông          Đông-Nam     6.0   \n",
              "4 2021-03-13            Sổ đỏ             NaN               NaN     NaN   \n",
              "\n",
              "   bedroom  floor        type_of_land            street_name  \\\n",
              "0      6.0    6.0    Bán nhà riêng\\n   Đường Trần Quang Diệu   \n",
              "1      NaN    6.0  Bán nhà mặt phố\\n          Phố Trung Liệt   \n",
              "2      8.0    4.0    Bán nhà riêng\\n          Phố Khâm Thiên   \n",
              "3      5.0    6.0    Bán nhà riêng\\n       Đường Láng Thượng   \n",
              "4      6.0    5.0  Bán nhà mặt phố\\n          Phố Trung Liệt   \n",
              "\n",
              "            ward_name district_name         city_name        lat        long  \n",
              "0   Phường Trung Liệt  Quận Đống Đa  Thành phố Hà Nội  21.015698  105.824583  \n",
              "1   Phường Trung Liệt  Quận Đống Đa  Thành phố Hà Nội  21.008930  105.824105  \n",
              "2   Phường Khâm Thiên  Quận Đống Đa  Thành phố Hà Nội  21.025208  105.833111  \n",
              "3  Phường Láng Thượng  Quận Đống Đa  Thành phố Hà Nội  21.025379  105.801011  \n",
              "4   Phường Trung Liệt  Quận Đống Đa  Thành phố Hà Nội  21.009239  105.824230  "
            ],
            "text/html": [
              "\n",
              "  <div id=\"df-a4bcc386-6fba-4a3e-81ee-fd09d495152e\">\n",
              "    <div class=\"colab-df-container\">\n",
              "      <div>\n",
              "<style scoped>\n",
              "    .dataframe tbody tr th:only-of-type {\n",
              "        vertical-align: middle;\n",
              "    }\n",
              "\n",
              "    .dataframe tbody tr th {\n",
              "        vertical-align: top;\n",
              "    }\n",
              "\n",
              "    .dataframe thead th {\n",
              "        text-align: right;\n",
              "    }\n",
              "</style>\n",
              "<table border=\"1\" class=\"dataframe\">\n",
              "  <thead>\n",
              "    <tr style=\"text-align: right;\">\n",
              "      <th></th>\n",
              "      <th>title</th>\n",
              "      <th>address</th>\n",
              "      <th>area</th>\n",
              "      <th>price</th>\n",
              "      <th>postDate</th>\n",
              "      <th>land_certificate</th>\n",
              "      <th>house_direction</th>\n",
              "      <th>balcony_direction</th>\n",
              "      <th>toilet</th>\n",
              "      <th>bedroom</th>\n",
              "      <th>floor</th>\n",
              "      <th>type_of_land</th>\n",
              "      <th>street_name</th>\n",
              "      <th>ward_name</th>\n",
              "      <th>district_name</th>\n",
              "      <th>city_name</th>\n",
              "      <th>lat</th>\n",
              "      <th>long</th>\n",
              "    </tr>\n",
              "  </thead>\n",
              "  <tbody>\n",
              "    <tr>\n",
              "      <th>0</th>\n",
              "      <td>Bán nhà Trần Quang Diệu mới coong đẹp 50m2x6 t...</td>\n",
              "      <td>Đường Trần Quang Diệu, Phường Trung Liệt, Đốn...</td>\n",
              "      <td>50.0</td>\n",
              "      <td>14700.0</td>\n",
              "      <td>2021-01-01</td>\n",
              "      <td>Sổ đỏ</td>\n",
              "      <td>NaN</td>\n",
              "      <td>NaN</td>\n",
              "      <td>4.0</td>\n",
              "      <td>6.0</td>\n",
              "      <td>6.0</td>\n",
              "      <td>Bán nhà riêng\\n</td>\n",
              "      <td>Đường Trần Quang Diệu</td>\n",
              "      <td>Phường Trung Liệt</td>\n",
              "      <td>Quận Đống Đa</td>\n",
              "      <td>Thành phố Hà Nội</td>\n",
              "      <td>21.015698</td>\n",
              "      <td>105.824583</td>\n",
              "    </tr>\n",
              "    <tr>\n",
              "      <th>1</th>\n",
              "      <td>Bán nhà mặt phố Tây Sơn - 6 tầng. Kinh doanh t...</td>\n",
              "      <td>Đường Tây Sơn, Phường Trung Liệt, Đống Đa, Hà...</td>\n",
              "      <td>35.0</td>\n",
              "      <td>12500.0</td>\n",
              "      <td>2021-02-19</td>\n",
              "      <td>Sổ đỏ</td>\n",
              "      <td>NaN</td>\n",
              "      <td>NaN</td>\n",
              "      <td>NaN</td>\n",
              "      <td>NaN</td>\n",
              "      <td>6.0</td>\n",
              "      <td>Bán nhà mặt phố\\n</td>\n",
              "      <td>Phố Trung Liệt</td>\n",
              "      <td>Phường Trung Liệt</td>\n",
              "      <td>Quận Đống Đa</td>\n",
              "      <td>Thành phố Hà Nội</td>\n",
              "      <td>21.008930</td>\n",
              "      <td>105.824105</td>\n",
              "    </tr>\n",
              "    <tr>\n",
              "      <th>2</th>\n",
              "      <td>Bán nhà số 36 Đoàn Kết - phố Khâm Thiên - Đống...</td>\n",
              "      <td>Số 36 Đoàn Kết, Phố Khâm Thiên, Phường Thổ Qu...</td>\n",
              "      <td>57.0</td>\n",
              "      <td>4200.0</td>\n",
              "      <td>2021-03-10</td>\n",
              "      <td>Sổ đỏ</td>\n",
              "      <td>Nam</td>\n",
              "      <td>Nam</td>\n",
              "      <td>3.0</td>\n",
              "      <td>8.0</td>\n",
              "      <td>4.0</td>\n",
              "      <td>Bán nhà riêng\\n</td>\n",
              "      <td>Phố Khâm Thiên</td>\n",
              "      <td>Phường Khâm Thiên</td>\n",
              "      <td>Quận Đống Đa</td>\n",
              "      <td>Thành phố Hà Nội</td>\n",
              "      <td>21.025208</td>\n",
              "      <td>105.833111</td>\n",
              "    </tr>\n",
              "    <tr>\n",
              "      <th>3</th>\n",
              "      <td>Bán nhà 6 tầng mới kinh doanh mặt ngõ 1194 Đườ...</td>\n",
              "      <td>Ngõ 1194, Đường Láng, Phường Láng Thượng, Đố...</td>\n",
              "      <td>62.0</td>\n",
              "      <td>11000.0</td>\n",
              "      <td>2021-03-13</td>\n",
              "      <td>Sổ đỏ</td>\n",
              "      <td>Đông</td>\n",
              "      <td>Đông-Nam</td>\n",
              "      <td>6.0</td>\n",
              "      <td>5.0</td>\n",
              "      <td>6.0</td>\n",
              "      <td>Bán nhà riêng\\n</td>\n",
              "      <td>Đường Láng Thượng</td>\n",
              "      <td>Phường Láng Thượng</td>\n",
              "      <td>Quận Đống Đa</td>\n",
              "      <td>Thành phố Hà Nội</td>\n",
              "      <td>21.025379</td>\n",
              "      <td>105.801011</td>\n",
              "    </tr>\n",
              "    <tr>\n",
              "      <th>4</th>\n",
              "      <td>Bán nhà mặt phố Thái Hà 70m2, 5 tầng, 4.5m mặt...</td>\n",
              "      <td>Phố Thái Hà, Phường Trung Liệt, Đống Đa, Hà Nội</td>\n",
              "      <td>70.0</td>\n",
              "      <td>36000.0</td>\n",
              "      <td>2021-03-13</td>\n",
              "      <td>Sổ đỏ</td>\n",
              "      <td>NaN</td>\n",
              "      <td>NaN</td>\n",
              "      <td>NaN</td>\n",
              "      <td>6.0</td>\n",
              "      <td>5.0</td>\n",
              "      <td>Bán nhà mặt phố\\n</td>\n",
              "      <td>Phố Trung Liệt</td>\n",
              "      <td>Phường Trung Liệt</td>\n",
              "      <td>Quận Đống Đa</td>\n",
              "      <td>Thành phố Hà Nội</td>\n",
              "      <td>21.009239</td>\n",
              "      <td>105.824230</td>\n",
              "    </tr>\n",
              "  </tbody>\n",
              "</table>\n",
              "</div>\n",
              "      <button class=\"colab-df-convert\" onclick=\"convertToInteractive('df-a4bcc386-6fba-4a3e-81ee-fd09d495152e')\"\n",
              "              title=\"Convert this dataframe to an interactive table.\"\n",
              "              style=\"display:none;\">\n",
              "        \n",
              "  <svg xmlns=\"http://www.w3.org/2000/svg\" height=\"24px\"viewBox=\"0 0 24 24\"\n",
              "       width=\"24px\">\n",
              "    <path d=\"M0 0h24v24H0V0z\" fill=\"none\"/>\n",
              "    <path d=\"M18.56 5.44l.94 2.06.94-2.06 2.06-.94-2.06-.94-.94-2.06-.94 2.06-2.06.94zm-11 1L8.5 8.5l.94-2.06 2.06-.94-2.06-.94L8.5 2.5l-.94 2.06-2.06.94zm10 10l.94 2.06.94-2.06 2.06-.94-2.06-.94-.94-2.06-.94 2.06-2.06.94z\"/><path d=\"M17.41 7.96l-1.37-1.37c-.4-.4-.92-.59-1.43-.59-.52 0-1.04.2-1.43.59L10.3 9.45l-7.72 7.72c-.78.78-.78 2.05 0 2.83L4 21.41c.39.39.9.59 1.41.59.51 0 1.02-.2 1.41-.59l7.78-7.78 2.81-2.81c.8-.78.8-2.07 0-2.86zM5.41 20L4 18.59l7.72-7.72 1.47 1.35L5.41 20z\"/>\n",
              "  </svg>\n",
              "      </button>\n",
              "      \n",
              "  <style>\n",
              "    .colab-df-container {\n",
              "      display:flex;\n",
              "      flex-wrap:wrap;\n",
              "      gap: 12px;\n",
              "    }\n",
              "\n",
              "    .colab-df-convert {\n",
              "      background-color: #E8F0FE;\n",
              "      border: none;\n",
              "      border-radius: 50%;\n",
              "      cursor: pointer;\n",
              "      display: none;\n",
              "      fill: #1967D2;\n",
              "      height: 32px;\n",
              "      padding: 0 0 0 0;\n",
              "      width: 32px;\n",
              "    }\n",
              "\n",
              "    .colab-df-convert:hover {\n",
              "      background-color: #E2EBFA;\n",
              "      box-shadow: 0px 1px 2px rgba(60, 64, 67, 0.3), 0px 1px 3px 1px rgba(60, 64, 67, 0.15);\n",
              "      fill: #174EA6;\n",
              "    }\n",
              "\n",
              "    [theme=dark] .colab-df-convert {\n",
              "      background-color: #3B4455;\n",
              "      fill: #D2E3FC;\n",
              "    }\n",
              "\n",
              "    [theme=dark] .colab-df-convert:hover {\n",
              "      background-color: #434B5C;\n",
              "      box-shadow: 0px 1px 3px 1px rgba(0, 0, 0, 0.15);\n",
              "      filter: drop-shadow(0px 1px 2px rgba(0, 0, 0, 0.3));\n",
              "      fill: #FFFFFF;\n",
              "    }\n",
              "  </style>\n",
              "\n",
              "      <script>\n",
              "        const buttonEl =\n",
              "          document.querySelector('#df-a4bcc386-6fba-4a3e-81ee-fd09d495152e button.colab-df-convert');\n",
              "        buttonEl.style.display =\n",
              "          google.colab.kernel.accessAllowed ? 'block' : 'none';\n",
              "\n",
              "        async function convertToInteractive(key) {\n",
              "          const element = document.querySelector('#df-a4bcc386-6fba-4a3e-81ee-fd09d495152e');\n",
              "          const dataTable =\n",
              "            await google.colab.kernel.invokeFunction('convertToInteractive',\n",
              "                                                     [key], {});\n",
              "          if (!dataTable) return;\n",
              "\n",
              "          const docLinkHtml = 'Like what you see? Visit the ' +\n",
              "            '<a target=\"_blank\" href=https://colab.research.google.com/notebooks/data_table.ipynb>data table notebook</a>'\n",
              "            + ' to learn more about interactive tables.';\n",
              "          element.innerHTML = '';\n",
              "          dataTable['output_type'] = 'display_data';\n",
              "          await google.colab.output.renderOutput(dataTable, element);\n",
              "          const docLink = document.createElement('div');\n",
              "          docLink.innerHTML = docLinkHtml;\n",
              "          element.appendChild(docLink);\n",
              "        }\n",
              "      </script>\n",
              "    </div>\n",
              "  </div>\n",
              "  "
            ]
          },
          "metadata": {},
          "execution_count": 2
        }
      ]
    },
    {
      "cell_type": "markdown",
      "source": [
        "lọc khuyết thuyết"
      ],
      "metadata": {
        "id": "xe52cG8rSMR0"
      }
    },
    {
      "cell_type": "code",
      "source": [
        "df=df.dropna()"
      ],
      "metadata": {
        "id": "5Gk-dombSOlB"
      },
      "execution_count": 3,
      "outputs": []
    },
    {
      "cell_type": "code",
      "source": [
        "df.head()"
      ],
      "metadata": {
        "colab": {
          "base_uri": "https://localhost:8080/",
          "height": 1000
        },
        "id": "GvI6ipMZSTl4",
        "outputId": "26ef34f2-3e97-47dd-e0b1-6bbdbf0acb75"
      },
      "execution_count": 4,
      "outputs": [
        {
          "output_type": "execute_result",
          "data": {
            "text/plain": [
              "                                                 title  \\\n",
              "2    Bán nhà số 36 Đoàn Kết - phố Khâm Thiên - Đống...   \n",
              "3    Bán nhà 6 tầng mới kinh doanh mặt ngõ 1194 Đườ...   \n",
              "12   Bán đất tặng nhà gần ngõ 34 Hoàng Cầu - 29 Lán...   \n",
              "333  Mặt phố Hồ Giám - mặt tiền rộng - kinh doanh -...   \n",
              "343  Bán nhà mặt ngõ Thái Hà, Trung Liệt, Đống Đa. ...   \n",
              "\n",
              "                                               address  area    price  \\\n",
              "2    Số 36 Đoàn Kết, Phố Khâm Thiên, Phường Thổ Qu...  57.0   4200.0   \n",
              "3    Ngõ 1194, Đường Láng, Phường Láng Thượng, Đố...  62.0  11000.0   \n",
              "12   174, Phố Mai Anh Tuấn, Phường Ô Chợ Dừa, Đốn...  52.2   5376.6   \n",
              "333  7. .Phố Hồ Giám - Phường Quốc Tử Giám - Đốn...  73.0  13700.0   \n",
              "343   Phố Thái Hà, Phường Ô Chợ Dừa, Đống Đa, Hà Nội  61.0  12500.0   \n",
              "\n",
              "      postDate land_certificate house_direction balcony_direction  toilet  \\\n",
              "2   2021-03-10            Sổ đỏ             Nam               Nam     3.0   \n",
              "3   2021-03-13            Sổ đỏ            Đông          Đông-Nam     6.0   \n",
              "12  2021-04-06            Sổ đỏ         Tây-Bắc           Tây-Bắc     1.0   \n",
              "333 2021-04-20            Sổ đỏ            Đông              Đông     5.0   \n",
              "343 2021-04-20            Sổ đỏ        Đông-Nam          Đông-Nam     4.0   \n",
              "\n",
              "     bedroom  floor        type_of_land        street_name  \\\n",
              "2        8.0    4.0    Bán nhà riêng\\n      Phố Khâm Thiên   \n",
              "3        5.0    6.0    Bán nhà riêng\\n   Đường Láng Thượng   \n",
              "12       2.0    3.0    Bán nhà riêng\\n    Phố Mai Anh Tuấn   \n",
              "333      6.0    5.0  Bán nhà mặt phố\\n    Phố Quốc Tử Giám   \n",
              "343      6.0    5.0    Bán nhà riêng\\n     Đường Ô Chợ Dừa   \n",
              "\n",
              "               ward_name district_name         city_name        lat  \\\n",
              "2      Phường Khâm Thiên  Quận Đống Đa  Thành phố Hà Nội  21.025208   \n",
              "3     Phường Láng Thượng  Quận Đống Đa  Thành phố Hà Nội  21.025379   \n",
              "12      Phường Ô Chợ Dừa  Quận Đống Đa  Thành phố Hà Nội  21.019078   \n",
              "333  Phường Quốc Tử Giám  Quận Đống Đa  Thành phố Hà Nội  21.027478   \n",
              "343     Phường Ô Chợ Dừa  Quận Đống Đa  Thành phố Hà Nội  21.009410   \n",
              "\n",
              "           long  \n",
              "2    105.833111  \n",
              "3    105.801011  \n",
              "12   105.819259  \n",
              "333  105.834293  \n",
              "343  105.824307  "
            ],
            "text/html": [
              "\n",
              "  <div id=\"df-07cbc909-3af3-4949-8055-8dac3f816b0e\">\n",
              "    <div class=\"colab-df-container\">\n",
              "      <div>\n",
              "<style scoped>\n",
              "    .dataframe tbody tr th:only-of-type {\n",
              "        vertical-align: middle;\n",
              "    }\n",
              "\n",
              "    .dataframe tbody tr th {\n",
              "        vertical-align: top;\n",
              "    }\n",
              "\n",
              "    .dataframe thead th {\n",
              "        text-align: right;\n",
              "    }\n",
              "</style>\n",
              "<table border=\"1\" class=\"dataframe\">\n",
              "  <thead>\n",
              "    <tr style=\"text-align: right;\">\n",
              "      <th></th>\n",
              "      <th>title</th>\n",
              "      <th>address</th>\n",
              "      <th>area</th>\n",
              "      <th>price</th>\n",
              "      <th>postDate</th>\n",
              "      <th>land_certificate</th>\n",
              "      <th>house_direction</th>\n",
              "      <th>balcony_direction</th>\n",
              "      <th>toilet</th>\n",
              "      <th>bedroom</th>\n",
              "      <th>floor</th>\n",
              "      <th>type_of_land</th>\n",
              "      <th>street_name</th>\n",
              "      <th>ward_name</th>\n",
              "      <th>district_name</th>\n",
              "      <th>city_name</th>\n",
              "      <th>lat</th>\n",
              "      <th>long</th>\n",
              "    </tr>\n",
              "  </thead>\n",
              "  <tbody>\n",
              "    <tr>\n",
              "      <th>2</th>\n",
              "      <td>Bán nhà số 36 Đoàn Kết - phố Khâm Thiên - Đống...</td>\n",
              "      <td>Số 36 Đoàn Kết, Phố Khâm Thiên, Phường Thổ Qu...</td>\n",
              "      <td>57.0</td>\n",
              "      <td>4200.0</td>\n",
              "      <td>2021-03-10</td>\n",
              "      <td>Sổ đỏ</td>\n",
              "      <td>Nam</td>\n",
              "      <td>Nam</td>\n",
              "      <td>3.0</td>\n",
              "      <td>8.0</td>\n",
              "      <td>4.0</td>\n",
              "      <td>Bán nhà riêng\\n</td>\n",
              "      <td>Phố Khâm Thiên</td>\n",
              "      <td>Phường Khâm Thiên</td>\n",
              "      <td>Quận Đống Đa</td>\n",
              "      <td>Thành phố Hà Nội</td>\n",
              "      <td>21.025208</td>\n",
              "      <td>105.833111</td>\n",
              "    </tr>\n",
              "    <tr>\n",
              "      <th>3</th>\n",
              "      <td>Bán nhà 6 tầng mới kinh doanh mặt ngõ 1194 Đườ...</td>\n",
              "      <td>Ngõ 1194, Đường Láng, Phường Láng Thượng, Đố...</td>\n",
              "      <td>62.0</td>\n",
              "      <td>11000.0</td>\n",
              "      <td>2021-03-13</td>\n",
              "      <td>Sổ đỏ</td>\n",
              "      <td>Đông</td>\n",
              "      <td>Đông-Nam</td>\n",
              "      <td>6.0</td>\n",
              "      <td>5.0</td>\n",
              "      <td>6.0</td>\n",
              "      <td>Bán nhà riêng\\n</td>\n",
              "      <td>Đường Láng Thượng</td>\n",
              "      <td>Phường Láng Thượng</td>\n",
              "      <td>Quận Đống Đa</td>\n",
              "      <td>Thành phố Hà Nội</td>\n",
              "      <td>21.025379</td>\n",
              "      <td>105.801011</td>\n",
              "    </tr>\n",
              "    <tr>\n",
              "      <th>12</th>\n",
              "      <td>Bán đất tặng nhà gần ngõ 34 Hoàng Cầu - 29 Lán...</td>\n",
              "      <td>174, Phố Mai Anh Tuấn, Phường Ô Chợ Dừa, Đốn...</td>\n",
              "      <td>52.2</td>\n",
              "      <td>5376.6</td>\n",
              "      <td>2021-04-06</td>\n",
              "      <td>Sổ đỏ</td>\n",
              "      <td>Tây-Bắc</td>\n",
              "      <td>Tây-Bắc</td>\n",
              "      <td>1.0</td>\n",
              "      <td>2.0</td>\n",
              "      <td>3.0</td>\n",
              "      <td>Bán nhà riêng\\n</td>\n",
              "      <td>Phố Mai Anh Tuấn</td>\n",
              "      <td>Phường Ô Chợ Dừa</td>\n",
              "      <td>Quận Đống Đa</td>\n",
              "      <td>Thành phố Hà Nội</td>\n",
              "      <td>21.019078</td>\n",
              "      <td>105.819259</td>\n",
              "    </tr>\n",
              "    <tr>\n",
              "      <th>333</th>\n",
              "      <td>Mặt phố Hồ Giám - mặt tiền rộng - kinh doanh -...</td>\n",
              "      <td>7. .Phố Hồ Giám - Phường Quốc Tử Giám - Đốn...</td>\n",
              "      <td>73.0</td>\n",
              "      <td>13700.0</td>\n",
              "      <td>2021-04-20</td>\n",
              "      <td>Sổ đỏ</td>\n",
              "      <td>Đông</td>\n",
              "      <td>Đông</td>\n",
              "      <td>5.0</td>\n",
              "      <td>6.0</td>\n",
              "      <td>5.0</td>\n",
              "      <td>Bán nhà mặt phố\\n</td>\n",
              "      <td>Phố Quốc Tử Giám</td>\n",
              "      <td>Phường Quốc Tử Giám</td>\n",
              "      <td>Quận Đống Đa</td>\n",
              "      <td>Thành phố Hà Nội</td>\n",
              "      <td>21.027478</td>\n",
              "      <td>105.834293</td>\n",
              "    </tr>\n",
              "    <tr>\n",
              "      <th>343</th>\n",
              "      <td>Bán nhà mặt ngõ Thái Hà, Trung Liệt, Đống Đa. ...</td>\n",
              "      <td>Phố Thái Hà, Phường Ô Chợ Dừa, Đống Đa, Hà Nội</td>\n",
              "      <td>61.0</td>\n",
              "      <td>12500.0</td>\n",
              "      <td>2021-04-20</td>\n",
              "      <td>Sổ đỏ</td>\n",
              "      <td>Đông-Nam</td>\n",
              "      <td>Đông-Nam</td>\n",
              "      <td>4.0</td>\n",
              "      <td>6.0</td>\n",
              "      <td>5.0</td>\n",
              "      <td>Bán nhà riêng\\n</td>\n",
              "      <td>Đường Ô Chợ Dừa</td>\n",
              "      <td>Phường Ô Chợ Dừa</td>\n",
              "      <td>Quận Đống Đa</td>\n",
              "      <td>Thành phố Hà Nội</td>\n",
              "      <td>21.009410</td>\n",
              "      <td>105.824307</td>\n",
              "    </tr>\n",
              "  </tbody>\n",
              "</table>\n",
              "</div>\n",
              "      <button class=\"colab-df-convert\" onclick=\"convertToInteractive('df-07cbc909-3af3-4949-8055-8dac3f816b0e')\"\n",
              "              title=\"Convert this dataframe to an interactive table.\"\n",
              "              style=\"display:none;\">\n",
              "        \n",
              "  <svg xmlns=\"http://www.w3.org/2000/svg\" height=\"24px\"viewBox=\"0 0 24 24\"\n",
              "       width=\"24px\">\n",
              "    <path d=\"M0 0h24v24H0V0z\" fill=\"none\"/>\n",
              "    <path d=\"M18.56 5.44l.94 2.06.94-2.06 2.06-.94-2.06-.94-.94-2.06-.94 2.06-2.06.94zm-11 1L8.5 8.5l.94-2.06 2.06-.94-2.06-.94L8.5 2.5l-.94 2.06-2.06.94zm10 10l.94 2.06.94-2.06 2.06-.94-2.06-.94-.94-2.06-.94 2.06-2.06.94z\"/><path d=\"M17.41 7.96l-1.37-1.37c-.4-.4-.92-.59-1.43-.59-.52 0-1.04.2-1.43.59L10.3 9.45l-7.72 7.72c-.78.78-.78 2.05 0 2.83L4 21.41c.39.39.9.59 1.41.59.51 0 1.02-.2 1.41-.59l7.78-7.78 2.81-2.81c.8-.78.8-2.07 0-2.86zM5.41 20L4 18.59l7.72-7.72 1.47 1.35L5.41 20z\"/>\n",
              "  </svg>\n",
              "      </button>\n",
              "      \n",
              "  <style>\n",
              "    .colab-df-container {\n",
              "      display:flex;\n",
              "      flex-wrap:wrap;\n",
              "      gap: 12px;\n",
              "    }\n",
              "\n",
              "    .colab-df-convert {\n",
              "      background-color: #E8F0FE;\n",
              "      border: none;\n",
              "      border-radius: 50%;\n",
              "      cursor: pointer;\n",
              "      display: none;\n",
              "      fill: #1967D2;\n",
              "      height: 32px;\n",
              "      padding: 0 0 0 0;\n",
              "      width: 32px;\n",
              "    }\n",
              "\n",
              "    .colab-df-convert:hover {\n",
              "      background-color: #E2EBFA;\n",
              "      box-shadow: 0px 1px 2px rgba(60, 64, 67, 0.3), 0px 1px 3px 1px rgba(60, 64, 67, 0.15);\n",
              "      fill: #174EA6;\n",
              "    }\n",
              "\n",
              "    [theme=dark] .colab-df-convert {\n",
              "      background-color: #3B4455;\n",
              "      fill: #D2E3FC;\n",
              "    }\n",
              "\n",
              "    [theme=dark] .colab-df-convert:hover {\n",
              "      background-color: #434B5C;\n",
              "      box-shadow: 0px 1px 3px 1px rgba(0, 0, 0, 0.15);\n",
              "      filter: drop-shadow(0px 1px 2px rgba(0, 0, 0, 0.3));\n",
              "      fill: #FFFFFF;\n",
              "    }\n",
              "  </style>\n",
              "\n",
              "      <script>\n",
              "        const buttonEl =\n",
              "          document.querySelector('#df-07cbc909-3af3-4949-8055-8dac3f816b0e button.colab-df-convert');\n",
              "        buttonEl.style.display =\n",
              "          google.colab.kernel.accessAllowed ? 'block' : 'none';\n",
              "\n",
              "        async function convertToInteractive(key) {\n",
              "          const element = document.querySelector('#df-07cbc909-3af3-4949-8055-8dac3f816b0e');\n",
              "          const dataTable =\n",
              "            await google.colab.kernel.invokeFunction('convertToInteractive',\n",
              "                                                     [key], {});\n",
              "          if (!dataTable) return;\n",
              "\n",
              "          const docLinkHtml = 'Like what you see? Visit the ' +\n",
              "            '<a target=\"_blank\" href=https://colab.research.google.com/notebooks/data_table.ipynb>data table notebook</a>'\n",
              "            + ' to learn more about interactive tables.';\n",
              "          element.innerHTML = '';\n",
              "          dataTable['output_type'] = 'display_data';\n",
              "          await google.colab.output.renderOutput(dataTable, element);\n",
              "          const docLink = document.createElement('div');\n",
              "          docLink.innerHTML = docLinkHtml;\n",
              "          element.appendChild(docLink);\n",
              "        }\n",
              "      </script>\n",
              "    </div>\n",
              "  </div>\n",
              "  "
            ]
          },
          "metadata": {},
          "execution_count": 4
        }
      ]
    },
    {
      "cell_type": "markdown",
      "source": [
        "# Vẽ biểu đồ xu hướng phân tích mối quan hệ giữa giá nhà với diện tích, giá nhà với số lượng phòng ngủ, nhận xét."
      ],
      "metadata": {
        "id": "-gwFkuMpSbQl"
      }
    },
    {
      "cell_type": "code",
      "source": [
        "#fig, (ax1, ax2) = plt.subplots(1,2, figsize=(10,4), sharey=True, dpi=120)\n",
        "sns.lmplot(data=df,x='price',y='area')\n",
        "#plt.subplot(1,2,2)\n",
        "sns.lmplot(data=df,x='price',y='bedroom')"
      ],
      "metadata": {
        "colab": {
          "base_uri": "https://localhost:8080/",
          "height": 740
        },
        "id": "0GEGW8Y7SeYd",
        "outputId": "3e0f422f-2390-4d60-d567-b08582958a18"
      },
      "execution_count": 5,
      "outputs": [
        {
          "output_type": "execute_result",
          "data": {
            "text/plain": [
              "<seaborn.axisgrid.FacetGrid at 0x7fe49fdb0d50>"
            ]
          },
          "metadata": {},
          "execution_count": 5
        },
        {
          "output_type": "display_data",
          "data": {
            "text/plain": [
              "<Figure size 360x360 with 1 Axes>"
            ],
            "image/png": "[encoded data removed]"
          },
          "metadata": {
            "needs_background": "light"
          }
        },
        {
          "output_type": "display_data",
          "data": {
            "text/plain": [
              "<Figure size 360x360 with 1 Axes>"
            ],
            "image/png": "[encoded data removed]"
          },
          "metadata": {
            "needs_background": "light"
          }
        }
      ]
    },
    {
      "cell_type": "markdown",
      "source": [
        "dựa vào biểu đồ ta thấy : thường thì diện tích cao thì giá cao nhưng qua biểu đồ ta thấy diện tích to chưa chắc giá đã cao cho thấy còn yếu tố khác ảnh hưởng đến giá giá\n",
        "<br>\n",
        "<br>\n",
        "ta thấy số phòng ngủ cũng ảnh hưởng đến giá nhà nhưng là quá ít cho thấy có yếu tố khác tác động mạnh vào giá nhà hơn \n"
      ],
      "metadata": {
        "id": "5CWS5nG4Vxa2"
      }
    },
    {
      "cell_type": "markdown",
      "source": [
        "# **Vẽ biểu đồ phân bố thể hiện phân bố của giá nhà theo các hướng, nhận xét.**"
      ],
      "metadata": {
        "id": "c5L2fracWUEl"
      }
    },
    {
      "cell_type": "code",
      "source": [
        "sns.violinplot(data=df,x='price',y='house_direction')"
      ],
      "metadata": {
        "colab": {
          "base_uri": "https://localhost:8080/",
          "height": 297
        },
        "id": "5koAM7tvWahO",
        "outputId": "1aa6cc4c-9e8a-4b2a-a7f7-e0034f41b163"
      },
      "execution_count": 6,
      "outputs": [
        {
          "output_type": "execute_result",
          "data": {
            "text/plain": [
              "<matplotlib.axes._subplots.AxesSubplot at 0x7fe4a1ac8550>"
            ]
          },
          "metadata": {},
          "execution_count": 6
        },
        {
          "output_type": "display_data",
          "data": {
            "text/plain": [
              "<Figure size 432x288 with 1 Axes>"
            ],
            "image/png": "[encoded data removed]"
          },
          "metadata": {
            "needs_background": "light"
          }
        }
      ]
    },
    {
      "cell_type": "markdown",
      "source": [
        "nhận xét : ta thấy giá tập trung ở hướng Đông Nam , đc khánh ưu tiên và giá khá cao, giá cao nhất là theo hướng Tây bắc"
      ],
      "metadata": {
        "id": "Tog-ZgysYj5_"
      }
    },
    {
      "cell_type": "markdown",
      "source": [
        "# **Vẽ biểu đồ tần số để đếm số nhà ở mỗi hướng nhà, nhận xét.**"
      ],
      "metadata": {
        "id": "5_K7WUIeY1CQ"
      }
    },
    {
      "cell_type": "code",
      "source": [
        "sns.countplot(data=df,x='house_direction')"
      ],
      "metadata": {
        "colab": {
          "base_uri": "https://localhost:8080/",
          "height": 300
        },
        "id": "vFLBMmejY0L8",
        "outputId": "1042f244-2ff5-4452-fc29-b83606387e65"
      },
      "execution_count": 7,
      "outputs": [
        {
          "output_type": "execute_result",
          "data": {
            "text/plain": [
              "<matplotlib.axes._subplots.AxesSubplot at 0x7fe49aff5f10>"
            ]
          },
          "metadata": {},
          "execution_count": 7
        },
        {
          "output_type": "display_data",
          "data": {
            "text/plain": [
              "<Figure size 432x288 with 1 Axes>"
            ],
            "image/png": "[encoded data removed]"
          },
          "metadata": {
            "needs_background": "light"
          }
        }
      ]
    },
    {
      "cell_type": "markdown",
      "source": [
        "ta thấy nhà thường có hướng Đông và Đông Nam or Tây nam\n"
      ],
      "metadata": {
        "id": "6y2DO97HZR0Y"
      }
    },
    {
      "cell_type": "markdown",
      "source": [
        "# **Vẽ biểu đồ boxplot thể hiện phân bố của giá nhà theo các hướng, nhận xét.**\n"
      ],
      "metadata": {
        "id": "gZWo7-_2ZXw5"
      }
    },
    {
      "cell_type": "code",
      "source": [
        "sns.boxplot(data=df,x='house_direction',y='price')"
      ],
      "metadata": {
        "colab": {
          "base_uri": "https://localhost:8080/",
          "height": 300
        },
        "id": "rWMqNm2CZd3f",
        "outputId": "36c9084f-7d75-410a-9ea3-d8486dfd1eb2"
      },
      "execution_count": 8,
      "outputs": [
        {
          "output_type": "execute_result",
          "data": {
            "text/plain": [
              "<matplotlib.axes._subplots.AxesSubplot at 0x7fe49af71a50>"
            ]
          },
          "metadata": {},
          "execution_count": 8
        },
        {
          "output_type": "display_data",
          "data": {
            "text/plain": [
              "<Figure size 432x288 with 1 Axes>"
            ],
            "image/png": "[encoded data removed]"
          },
          "metadata": {
            "needs_background": "light"
          }
        }
      ]
    },
    {
      "cell_type": "markdown",
      "source": [
        "ta thấy hướng tây bắc có giá cao nhất và hướng Đông Nam cũng có giá rất cao\n",
        "\n",
        "\n"
      ],
      "metadata": {
        "id": "g0zZ-N_YZdEe"
      }
    },
    {
      "cell_type": "markdown",
      "source": [
        "# **[Bài tập] Vẽ biểu đồ kết hợp – Shopee.ph Korean-top clothing**"
      ],
      "metadata": {
        "id": "-rjsWvKqZxAx"
      }
    },
    {
      "cell_type": "code",
      "source": [
        "dt = pd.read_csv('https://s3.ap-southeast-1.amazonaws.com/learn.codegym.vn/media/public/2022/01/20125029/shopeep_koreantop_clothing_shop_data.csv')\n",
        "dt.head()"
      ],
      "metadata": {
        "colab": {
          "base_uri": "https://localhost:8080/",
          "height": 392
        },
        "id": "7TaXJvSVab0_",
        "outputId": "96ac75e3-121c-4d35-8f87-be84ac2c7f6c"
      },
      "execution_count": 9,
      "outputs": [
        {
          "output_type": "execute_result",
          "data": {
            "text/plain": [
              "             pk_shop date_collected     shopid                  name  \\\n",
              "0  20210613254711738     2021-06-13  254711738          hello.may.ph   \n",
              "1  20210613314198143     2021-06-13  314198143       love.women.shop   \n",
              "2   2021061310377223     2021-06-13   10377223         R&O RedOrange   \n",
              "3   2021061321407329     2021-06-13   21407329           patriciacai   \n",
              "4   2021061311187885     2021-06-13   11187885  Little Market Manila   \n",
              "\n",
              "  join_month  join_day  join_year  item_count  follower_count response_time  \\\n",
              "0      April        27       2020         446           17487      10:13:55   \n",
              "1  September        25       2020         263            8574      10:43:05   \n",
              "2  September        27       2016         209          660417      08:32:07   \n",
              "3      April        30       2017         165           18787      09:10:38   \n",
              "4    October        18       2016         467           67371      11:40:59   \n",
              "\n",
              "   response_rate               shop_location  rating_bad  rating_good  \\\n",
              "0             96                         NaN         181        17510   \n",
              "1             73    San Nicolas,Metro Manila          78         2656   \n",
              "2             90     Pasay City,Metro Manila        4647      1071829   \n",
              "3             94        Binondo,Metro Manila          44        18959   \n",
              "4             89  Caloocan City,Metro Manila         680        39252   \n",
              "\n",
              "   rating_normal  rating_star  is_shopee_verified  is_official_shop  \n",
              "0            729         4.81                   1                 0  \n",
              "1            198         4.68                   0                 0  \n",
              "2          18073         4.91                   1                 0  \n",
              "3            215         4.94                   1                 0  \n",
              "4           2383         4.73                   1                 0  "
            ],
            "text/html": [
              "\n",
              "  <div id=\"df-f6b6cc12-1f73-47f4-8324-aca8c47adf76\">\n",
              "    <div class=\"colab-df-container\">\n",
              "      <div>\n",
              "<style scoped>\n",
              "    .dataframe tbody tr th:only-of-type {\n",
              "        vertical-align: middle;\n",
              "    }\n",
              "\n",
              "    .dataframe tbody tr th {\n",
              "        vertical-align: top;\n",
              "    }\n",
              "\n",
              "    .dataframe thead th {\n",
              "        text-align: right;\n",
              "    }\n",
              "</style>\n",
              "<table border=\"1\" class=\"dataframe\">\n",
              "  <thead>\n",
              "    <tr style=\"text-align: right;\">\n",
              "      <th></th>\n",
              "      <th>pk_shop</th>\n",
              "      <th>date_collected</th>\n",
              "      <th>shopid</th>\n",
              "      <th>name</th>\n",
              "      <th>join_month</th>\n",
              "      <th>join_day</th>\n",
              "      <th>join_year</th>\n",
              "      <th>item_count</th>\n",
              "      <th>follower_count</th>\n",
              "      <th>response_time</th>\n",
              "      <th>response_rate</th>\n",
              "      <th>shop_location</th>\n",
              "      <th>rating_bad</th>\n",
              "      <th>rating_good</th>\n",
              "      <th>rating_normal</th>\n",
              "      <th>rating_star</th>\n",
              "      <th>is_shopee_verified</th>\n",
              "      <th>is_official_shop</th>\n",
              "    </tr>\n",
              "  </thead>\n",
              "  <tbody>\n",
              "    <tr>\n",
              "      <th>0</th>\n",
              "      <td>20210613254711738</td>\n",
              "      <td>2021-06-13</td>\n",
              "      <td>254711738</td>\n",
              "      <td>hello.may.ph</td>\n",
              "      <td>April</td>\n",
              "      <td>27</td>\n",
              "      <td>2020</td>\n",
              "      <td>446</td>\n",
              "      <td>17487</td>\n",
              "      <td>10:13:55</td>\n",
              "      <td>96</td>\n",
              "      <td>NaN</td>\n",
              "      <td>181</td>\n",
              "      <td>17510</td>\n",
              "      <td>729</td>\n",
              "      <td>4.81</td>\n",
              "      <td>1</td>\n",
              "      <td>0</td>\n",
              "    </tr>\n",
              "    <tr>\n",
              "      <th>1</th>\n",
              "      <td>20210613314198143</td>\n",
              "      <td>2021-06-13</td>\n",
              "      <td>314198143</td>\n",
              "      <td>love.women.shop</td>\n",
              "      <td>September</td>\n",
              "      <td>25</td>\n",
              "      <td>2020</td>\n",
              "      <td>263</td>\n",
              "      <td>8574</td>\n",
              "      <td>10:43:05</td>\n",
              "      <td>73</td>\n",
              "      <td>San Nicolas,Metro Manila</td>\n",
              "      <td>78</td>\n",
              "      <td>2656</td>\n",
              "      <td>198</td>\n",
              "      <td>4.68</td>\n",
              "      <td>0</td>\n",
              "      <td>0</td>\n",
              "    </tr>\n",
              "    <tr>\n",
              "      <th>2</th>\n",
              "      <td>2021061310377223</td>\n",
              "      <td>2021-06-13</td>\n",
              "      <td>10377223</td>\n",
              "      <td>R&amp;O RedOrange</td>\n",
              "      <td>September</td>\n",
              "      <td>27</td>\n",
              "      <td>2016</td>\n",
              "      <td>209</td>\n",
              "      <td>660417</td>\n",
              "      <td>08:32:07</td>\n",
              "      <td>90</td>\n",
              "      <td>Pasay City,Metro Manila</td>\n",
              "      <td>4647</td>\n",
              "      <td>1071829</td>\n",
              "      <td>18073</td>\n",
              "      <td>4.91</td>\n",
              "      <td>1</td>\n",
              "      <td>0</td>\n",
              "    </tr>\n",
              "    <tr>\n",
              "      <th>3</th>\n",
              "      <td>2021061321407329</td>\n",
              "      <td>2021-06-13</td>\n",
              "      <td>21407329</td>\n",
              "      <td>patriciacai</td>\n",
              "      <td>April</td>\n",
              "      <td>30</td>\n",
              "      <td>2017</td>\n",
              "      <td>165</td>\n",
              "      <td>18787</td>\n",
              "      <td>09:10:38</td>\n",
              "      <td>94</td>\n",
              "      <td>Binondo,Metro Manila</td>\n",
              "      <td>44</td>\n",
              "      <td>18959</td>\n",
              "      <td>215</td>\n",
              "      <td>4.94</td>\n",
              "      <td>1</td>\n",
              "      <td>0</td>\n",
              "    </tr>\n",
              "    <tr>\n",
              "      <th>4</th>\n",
              "      <td>2021061311187885</td>\n",
              "      <td>2021-06-13</td>\n",
              "      <td>11187885</td>\n",
              "      <td>Little Market Manila</td>\n",
              "      <td>October</td>\n",
              "      <td>18</td>\n",
              "      <td>2016</td>\n",
              "      <td>467</td>\n",
              "      <td>67371</td>\n",
              "      <td>11:40:59</td>\n",
              "      <td>89</td>\n",
              "      <td>Caloocan City,Metro Manila</td>\n",
              "      <td>680</td>\n",
              "      <td>39252</td>\n",
              "      <td>2383</td>\n",
              "      <td>4.73</td>\n",
              "      <td>1</td>\n",
              "      <td>0</td>\n",
              "    </tr>\n",
              "  </tbody>\n",
              "</table>\n",
              "</div>\n",
              "      <button class=\"colab-df-convert\" onclick=\"convertToInteractive('df-f6b6cc12-1f73-47f4-8324-aca8c47adf76')\"\n",
              "              title=\"Convert this dataframe to an interactive table.\"\n",
              "              style=\"display:none;\">\n",
              "        \n",
              "  <svg xmlns=\"http://www.w3.org/2000/svg\" height=\"24px\"viewBox=\"0 0 24 24\"\n",
              "       width=\"24px\">\n",
              "    <path d=\"M0 0h24v24H0V0z\" fill=\"none\"/>\n",
              "    <path d=\"M18.56 5.44l.94 2.06.94-2.06 2.06-.94-2.06-.94-.94-2.06-.94 2.06-2.06.94zm-11 1L8.5 8.5l.94-2.06 2.06-.94-2.06-.94L8.5 2.5l-.94 2.06-2.06.94zm10 10l.94 2.06.94-2.06 2.06-.94-2.06-.94-.94-2.06-.94 2.06-2.06.94z\"/><path d=\"M17.41 7.96l-1.37-1.37c-.4-.4-.92-.59-1.43-.59-.52 0-1.04.2-1.43.59L10.3 9.45l-7.72 7.72c-.78.78-.78 2.05 0 2.83L4 21.41c.39.39.9.59 1.41.59.51 0 1.02-.2 1.41-.59l7.78-7.78 2.81-2.81c.8-.78.8-2.07 0-2.86zM5.41 20L4 18.59l7.72-7.72 1.47 1.35L5.41 20z\"/>\n",
              "  </svg>\n",
              "      </button>\n",
              "      \n",
              "  <style>\n",
              "    .colab-df-container {\n",
              "      display:flex;\n",
              "      flex-wrap:wrap;\n",
              "      gap: 12px;\n",
              "    }\n",
              "\n",
              "    .colab-df-convert {\n",
              "      background-color: #E8F0FE;\n",
              "      border: none;\n",
              "      border-radius: 50%;\n",
              "      cursor: pointer;\n",
              "      display: none;\n",
              "      fill: #1967D2;\n",
              "      height: 32px;\n",
              "      padding: 0 0 0 0;\n",
              "      width: 32px;\n",
              "    }\n",
              "\n",
              "    .colab-df-convert:hover {\n",
              "      background-color: #E2EBFA;\n",
              "      box-shadow: 0px 1px 2px rgba(60, 64, 67, 0.3), 0px 1px 3px 1px rgba(60, 64, 67, 0.15);\n",
              "      fill: #174EA6;\n",
              "    }\n",
              "\n",
              "    [theme=dark] .colab-df-convert {\n",
              "      background-color: #3B4455;\n",
              "      fill: #D2E3FC;\n",
              "    }\n",
              "\n",
              "    [theme=dark] .colab-df-convert:hover {\n",
              "      background-color: #434B5C;\n",
              "      box-shadow: 0px 1px 3px 1px rgba(0, 0, 0, 0.15);\n",
              "      filter: drop-shadow(0px 1px 2px rgba(0, 0, 0, 0.3));\n",
              "      fill: #FFFFFF;\n",
              "    }\n",
              "  </style>\n",
              "\n",
              "      <script>\n",
              "        const buttonEl =\n",
              "          document.querySelector('#df-f6b6cc12-1f73-47f4-8324-aca8c47adf76 button.colab-df-convert');\n",
              "        buttonEl.style.display =\n",
              "          google.colab.kernel.accessAllowed ? 'block' : 'none';\n",
              "\n",
              "        async function convertToInteractive(key) {\n",
              "          const element = document.querySelector('#df-f6b6cc12-1f73-47f4-8324-aca8c47adf76');\n",
              "          const dataTable =\n",
              "            await google.colab.kernel.invokeFunction('convertToInteractive',\n",
              "                                                     [key], {});\n",
              "          if (!dataTable) return;\n",
              "\n",
              "          const docLinkHtml = 'Like what you see? Visit the ' +\n",
              "            '<a target=\"_blank\" href=https://colab.research.google.com/notebooks/data_table.ipynb>data table notebook</a>'\n",
              "            + ' to learn more about interactive tables.';\n",
              "          element.innerHTML = '';\n",
              "          dataTable['output_type'] = 'display_data';\n",
              "          await google.colab.output.renderOutput(dataTable, element);\n",
              "          const docLink = document.createElement('div');\n",
              "          docLink.innerHTML = docLinkHtml;\n",
              "          element.appendChild(docLink);\n",
              "        }\n",
              "      </script>\n",
              "    </div>\n",
              "  </div>\n",
              "  "
            ]
          },
          "metadata": {},
          "execution_count": 9
        }
      ]
    },
    {
      "cell_type": "code",
      "source": [
        "dt=dt.dropna()"
      ],
      "metadata": {
        "id": "Opj-Vi7YZwv9"
      },
      "execution_count": 10,
      "outputs": []
    },
    {
      "cell_type": "markdown",
      "source": [
        "# Vẽ biểu đồ tần số số lượng shop gia nhập theo các năm."
      ],
      "metadata": {
        "id": "wJ6rmR9rb09g"
      }
    },
    {
      "cell_type": "code",
      "source": [
        "sns.countplot(data=dt,x='join_year')"
      ],
      "metadata": {
        "colab": {
          "base_uri": "https://localhost:8080/",
          "height": 299
        },
        "id": "aVGyEHxHb1-Y",
        "outputId": "a167abdb-5d27-4f23-f8e9-aaef7979faee"
      },
      "execution_count": 11,
      "outputs": [
        {
          "output_type": "execute_result",
          "data": {
            "text/plain": [
              "<matplotlib.axes._subplots.AxesSubplot at 0x7fe49aa02f10>"
            ]
          },
          "metadata": {},
          "execution_count": 11
        },
        {
          "output_type": "display_data",
          "data": {
            "text/plain": [
              "<Figure size 432x288 with 1 Axes>"
            ],
            "image/png": "[encoded data removed]"
          },
          "metadata": {
            "needs_background": "light"
          }
        }
      ]
    },
    {
      "cell_type": "markdown",
      "source": [
        "# Vẽ biểu đồ xu hướng thể hiện mối quan hệ giữa tỉ lệ phản hồi với số lượt khách hàng đánh giá tốt."
      ],
      "metadata": {
        "id": "_x_6bTAAZ9V4"
      }
    },
    {
      "cell_type": "code",
      "source": [
        "sns.lmplot(data=dt,x='rating_good',y='response_rate')"
      ],
      "metadata": {
        "colab": {
          "base_uri": "https://localhost:8080/",
          "height": 388
        },
        "id": "OqB04zg_Z-e7",
        "outputId": "61d01d55-710f-4d65-ba7f-33a0b7c736a5"
      },
      "execution_count": 13,
      "outputs": [
        {
          "output_type": "execute_result",
          "data": {
            "text/plain": [
              "<seaborn.axisgrid.FacetGrid at 0x7fe49aff0210>"
            ]
          },
          "metadata": {},
          "execution_count": 13
        },
        {
          "output_type": "display_data",
          "data": {
            "text/plain": [
              "<Figure size 360x360 with 1 Axes>"
            ],
            "image/png": "[encoded data removed]"
          },
          "metadata": {
            "needs_background": "light"
          }
        }
      ]
    },
    {
      "cell_type": "markdown",
      "source": [
        "# Vẽ biểu đồ xu hướng thể hiện mối quan hệ giữa thời gian phản hồi (đơn vị giây) với số lượt khách hàng đánh giá xấu."
      ],
      "metadata": {
        "id": "vJkna4IJaa3c"
      }
    },
    {
      "cell_type": "markdown",
      "source": [
        ""
      ],
      "metadata": {
        "id": "7zN5qBpVavh9"
      }
    },
    {
      "cell_type": "code",
      "source": [
        "dt['response_time']=pd.to_datetime(dt.response_time,format=' %H:%M:%S')\n",
        "#dt['response_time']=dt['response_time'].dt.seconds.astype(int)"
      ],
      "metadata": {
        "id": "n_31kFk-bQDw"
      },
      "execution_count": 27,
      "outputs": []
    },
    {
      "cell_type": "code",
      "source": [
        "import time\n",
        "dt['seconds'] = [time.mktime(t.timetuple()) for t in dt.response_time]"
      ],
      "metadata": {
        "id": "ywbwtfgxdYEk"
      },
      "execution_count": 25,
      "outputs": []
    },
    {
      "cell_type": "code",
      "source": [
        "sns.lmplot(data=dt,x='seconds',y='rating_bad')"
      ],
      "metadata": {
        "colab": {
          "base_uri": "https://localhost:8080/",
          "height": 388
        },
        "id": "V7WPUTOkaemS",
        "outputId": "6991a97f-f772-4552-cf86-0f277cbb6d7b"
      },
      "execution_count": 26,
      "outputs": [
        {
          "output_type": "execute_result",
          "data": {
            "text/plain": [
              "<seaborn.axisgrid.FacetGrid at 0x7fe4986ff4d0>"
            ]
          },
          "metadata": {},
          "execution_count": 26
        },
        {
          "output_type": "display_data",
          "data": {
            "text/plain": [
              "<Figure size 360x360 with 1 Axes>"
            ],
            "image/png": "[encoded data removed]"
          },
          "metadata": {
            "needs_background": "light"
          }
        }
      ]
    },
    {
      "cell_type": "markdown",
      "source": [
        "# Vẽ biểu đồ thể hiện phân bố của điểm đánh giá trung bình. "
      ],
      "metadata": {
        "id": "Y7JP_Xd2duWz"
      }
    },
    {
      "cell_type": "code",
      "source": [
        "sns.violinplot(data=dt,x='rating_normal')"
      ],
      "metadata": {
        "colab": {
          "base_uri": "https://localhost:8080/",
          "height": 299
        },
        "id": "yLhbHJ4sdylQ",
        "outputId": "baa0ceeb-a86e-42e3-f9df-8319c29b061e"
      },
      "execution_count": 28,
      "outputs": [
        {
          "output_type": "execute_result",
          "data": {
            "text/plain": [
              "<matplotlib.axes._subplots.AxesSubplot at 0x7fe4984c2e90>"
            ]
          },
          "metadata": {},
          "execution_count": 28
        },
        {
          "output_type": "display_data",
          "data": {
            "text/plain": [
              "<Figure size 432x288 with 1 Axes>"
            ],
            "image/png": "[encoded data removed]"
          },
          "metadata": {
            "needs_background": "light"
          }
        }
      ]
    },
    {
      "cell_type": "markdown",
      "source": [
        "# Vẽ biểu đồ tần số của cửa hàng chính thức và không chính thức."
      ],
      "metadata": {
        "id": "lLkSjSg9d9zU"
      }
    },
    {
      "cell_type": "code",
      "source": [
        "sns.countplot(data=dt,x='is_official_shop')"
      ],
      "metadata": {
        "colab": {
          "base_uri": "https://localhost:8080/",
          "height": 299
        },
        "id": "L0gEnHwBeD-1",
        "outputId": "668cfab9-f687-4cde-f84a-0f731400a6d1"
      },
      "execution_count": 29,
      "outputs": [
        {
          "output_type": "execute_result",
          "data": {
            "text/plain": [
              "<matplotlib.axes._subplots.AxesSubplot at 0x7fe498445490>"
            ]
          },
          "metadata": {},
          "execution_count": 29
        },
        {
          "output_type": "display_data",
          "data": {
            "text/plain": [
              "<Figure size 432x288 with 1 Axes>"
            ],
            "image/png": "[encoded data removed]"
          },
          "metadata": {
            "needs_background": "light"
          }
        }
      ]
    },
    {
      "cell_type": "markdown",
      "source": [
        "Vẽ biểu đồ tần số của cửa hàng được xác thực với chưa xác thực. "
      ],
      "metadata": {
        "id": "19HCLlx7eQql"
      }
    },
    {
      "cell_type": "code",
      "source": [
        "sns.countplot(data=dt,x='is_shopee_verified')"
      ],
      "metadata": {
        "colab": {
          "base_uri": "https://localhost:8080/",
          "height": 299
        },
        "id": "Ey5k9V76eRvG",
        "outputId": "f0bd1a61-4bda-4c91-fc17-f6dc9431b0b0"
      },
      "execution_count": 30,
      "outputs": [
        {
          "output_type": "execute_result",
          "data": {
            "text/plain": [
              "<matplotlib.axes._subplots.AxesSubplot at 0x7fe49836d510>"
            ]
          },
          "metadata": {},
          "execution_count": 30
        },
        {
          "output_type": "display_data",
          "data": {
            "text/plain": [
              "<Figure size 432x288 with 1 Axes>"
            ],
            "image/png": "[encoded data removed]"
          },
          "metadata": {
            "needs_background": "light"
          }
        }
      ]
    }
  ]
}