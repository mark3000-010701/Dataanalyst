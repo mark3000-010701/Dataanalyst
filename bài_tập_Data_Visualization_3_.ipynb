{
  "nbformat": 4,
  "nbformat_minor": 0,
  "metadata": {
    "colab": {
      "name": "bài tập Data Visualization 3 .ipynb",
      "provenance": [],
      "collapsed_sections": [],
      "authorship_tag": "ABX9TyMmFDtjYr2ZOrn9fBAyNWNR",
      "include_colab_link": true
    },
    "kernelspec": {
      "name": "python3",
      "display_name": "Python 3"
    },
    "language_info": {
      "name": "python"
    }
  },
  "cells": [
    {
      "cell_type": "markdown",
      "metadata": {
        "id": "view-in-github",
        "colab_type": "text"
      },
      "source": [
        "<a href=\"https://colab.research.google.com/github/mark3000-010701/Dataanalyst/blob/main/b%C3%A0i_t%E1%BA%ADp_Data_Visualization_3_.ipynb\" target=\"_parent\"><img src=\"https://colab.research.google.com/assets/colab-badge.svg\" alt=\"Open In Colab\"/></a>"
      ]
    },
    {
      "cell_type": "markdown",
      "source": [
        "# **[Bài tập] Vẽ biểu đồ kết hợp – House Price Đống Đa**"
      ],
      "metadata": {
        "id": "0ewAdfmZNRNh"
      }
    },
    {
      "cell_type": "code",
      "execution_count": 2,
      "metadata": {
        "id": "7nTjs3eRNLQw"
      },
      "outputs": [],
      "source": [
        "import pandas as pd\n",
        "import seaborn as sns\n",
        "import matplotlib.pyplot as plt\n"
      ]
    },
    {
      "cell_type": "code",
      "source": [
        "df=pd.read_excel('https://s3.ap-southeast-1.amazonaws.com/learn.codegym.vn/media/public/2022/01/08185826/house_price_do%CC%82%CC%81ng-da.xlsx')\n",
        "df.head()"
      ],
      "metadata": {
        "colab": {
          "base_uri": "https://localhost:8080/",
          "height": 1000
        },
        "id": "-DN7wSMENgKA",
        "outputId": "02ac28c8-2711-469d-c6f2-60075f121ef5"
      },
      "execution_count": 3,
      "outputs": [
        {
          "output_type": "stream",
          "name": "stderr",
          "text": [
            "/usr/local/lib/python3.7/dist-packages/openpyxl/worksheet/_reader.py:312: UserWarning: Unknown extension is not supported and will be removed\n",
            "  warn(msg)\n"
          ]
        },
        {
          "output_type": "execute_result",
          "data": {
            "text/plain": [
              "                                               title  \\\n",
              "0  Bán nhà Trần Quang Diệu mới coong đẹp 50m2x6 t...   \n",
              "1  Bán nhà mặt phố Tây Sơn - 6 tầng. Kinh doanh t...   \n",
              "2  Bán nhà số 36 Đoàn Kết - phố Khâm Thiên - Đống...   \n",
              "3  Bán nhà 6 tầng mới kinh doanh mặt ngõ 1194 Đườ...   \n",
              "4  Bán nhà mặt phố Thái Hà 70m2, 5 tầng, 4.5m mặt...   \n",
              "\n",
              "                                             address  area    price  \\\n",
              "0  Đường Trần Quang Diệu, Phường Trung Liệt, Đốn...  50.0  14700.0   \n",
              "1  Đường Tây Sơn, Phường Trung Liệt, Đống Đa, Hà...  35.0  12500.0   \n",
              "2  Số 36 Đoàn Kết, Phố Khâm Thiên, Phường Thổ Qu...  57.0   4200.0   \n",
              "3  Ngõ 1194, Đường Láng, Phường Láng Thượng, Đố...  62.0  11000.0   \n",
              "4   Phố Thái Hà, Phường Trung Liệt, Đống Đa, Hà Nội  70.0  36000.0   \n",
              "\n",
              "    postDate land_certificate house_direction balcony_direction  toilet  \\\n",
              "0 2021-01-01            Sổ đỏ             NaN               NaN     4.0   \n",
              "1 2021-02-19            Sổ đỏ             NaN               NaN     NaN   \n",
              "2 2021-03-10            Sổ đỏ             Nam               Nam     3.0   \n",
              "3 2021-03-13            Sổ đỏ            Đông          Đông-Nam     6.0   \n",
              "4 2021-03-13            Sổ đỏ             NaN               NaN     NaN   \n",
              "\n",
              "   bedroom  floor        type_of_land            street_name  \\\n",
              "0      6.0    6.0    Bán nhà riêng\\n   Đường Trần Quang Diệu   \n",
              "1      NaN    6.0  Bán nhà mặt phố\\n          Phố Trung Liệt   \n",
              "2      8.0    4.0    Bán nhà riêng\\n          Phố Khâm Thiên   \n",
              "3      5.0    6.0    Bán nhà riêng\\n       Đường Láng Thượng   \n",
              "4      6.0    5.0  Bán nhà mặt phố\\n          Phố Trung Liệt   \n",
              "\n",
              "            ward_name district_name         city_name        lat        long  \n",
              "0   Phường Trung Liệt  Quận Đống Đa  Thành phố Hà Nội  21.015698  105.824583  \n",
              "1   Phường Trung Liệt  Quận Đống Đa  Thành phố Hà Nội  21.008930  105.824105  \n",
              "2   Phường Khâm Thiên  Quận Đống Đa  Thành phố Hà Nội  21.025208  105.833111  \n",
              "3  Phường Láng Thượng  Quận Đống Đa  Thành phố Hà Nội  21.025379  105.801011  \n",
              "4   Phường Trung Liệt  Quận Đống Đa  Thành phố Hà Nội  21.009239  105.824230  "
            ],
            "text/html": [
              "\n",
              "  <div id=\"df-af71747b-23db-406e-b6f7-f216ee5ec1ae\">\n",
              "    <div class=\"colab-df-container\">\n",
              "      <div>\n",
              "<style scoped>\n",
              "    .dataframe tbody tr th:only-of-type {\n",
              "        vertical-align: middle;\n",
              "    }\n",
              "\n",
              "    .dataframe tbody tr th {\n",
              "        vertical-align: top;\n",
              "    }\n",
              "\n",
              "    .dataframe thead th {\n",
              "        text-align: right;\n",
              "    }\n",
              "</style>\n",
              "<table border=\"1\" class=\"dataframe\">\n",
              "  <thead>\n",
              "    <tr style=\"text-align: right;\">\n",
              "      <th></th>\n",
              "      <th>title</th>\n",
              "      <th>address</th>\n",
              "      <th>area</th>\n",
              "      <th>price</th>\n",
              "      <th>postDate</th>\n",
              "      <th>land_certificate</th>\n",
              "      <th>house_direction</th>\n",
              "      <th>balcony_direction</th>\n",
              "      <th>toilet</th>\n",
              "      <th>bedroom</th>\n",
              "      <th>floor</th>\n",
              "      <th>type_of_land</th>\n",
              "      <th>street_name</th>\n",
              "      <th>ward_name</th>\n",
              "      <th>district_name</th>\n",
              "      <th>city_name</th>\n",
              "      <th>lat</th>\n",
              "      <th>long</th>\n",
              "    </tr>\n",
              "  </thead>\n",
              "  <tbody>\n",
              "    <tr>\n",
              "      <th>0</th>\n",
              "      <td>Bán nhà Trần Quang Diệu mới coong đẹp 50m2x6 t...</td>\n",
              "      <td>Đường Trần Quang Diệu, Phường Trung Liệt, Đốn...</td>\n",
              "      <td>50.0</td>\n",
              "      <td>14700.0</td>\n",
              "      <td>2021-01-01</td>\n",
              "      <td>Sổ đỏ</td>\n",
              "      <td>NaN</td>\n",
              "      <td>NaN</td>\n",
              "      <td>4.0</td>\n",
              "      <td>6.0</td>\n",
              "      <td>6.0</td>\n",
              "      <td>Bán nhà riêng\\n</td>\n",
              "      <td>Đường Trần Quang Diệu</td>\n",
              "      <td>Phường Trung Liệt</td>\n",
              "      <td>Quận Đống Đa</td>\n",
              "      <td>Thành phố Hà Nội</td>\n",
              "      <td>21.015698</td>\n",
              "      <td>105.824583</td>\n",
              "    </tr>\n",
              "    <tr>\n",
              "      <th>1</th>\n",
              "      <td>Bán nhà mặt phố Tây Sơn - 6 tầng. Kinh doanh t...</td>\n",
              "      <td>Đường Tây Sơn, Phường Trung Liệt, Đống Đa, Hà...</td>\n",
              "      <td>35.0</td>\n",
              "      <td>12500.0</td>\n",
              "      <td>2021-02-19</td>\n",
              "      <td>Sổ đỏ</td>\n",
              "      <td>NaN</td>\n",
              "      <td>NaN</td>\n",
              "      <td>NaN</td>\n",
              "      <td>NaN</td>\n",
              "      <td>6.0</td>\n",
              "      <td>Bán nhà mặt phố\\n</td>\n",
              "      <td>Phố Trung Liệt</td>\n",
              "      <td>Phường Trung Liệt</td>\n",
              "      <td>Quận Đống Đa</td>\n",
              "      <td>Thành phố Hà Nội</td>\n",
              "      <td>21.008930</td>\n",
              "      <td>105.824105</td>\n",
              "    </tr>\n",
              "    <tr>\n",
              "      <th>2</th>\n",
              "      <td>Bán nhà số 36 Đoàn Kết - phố Khâm Thiên - Đống...</td>\n",
              "      <td>Số 36 Đoàn Kết, Phố Khâm Thiên, Phường Thổ Qu...</td>\n",
              "      <td>57.0</td>\n",
              "      <td>4200.0</td>\n",
              "      <td>2021-03-10</td>\n",
              "      <td>Sổ đỏ</td>\n",
              "      <td>Nam</td>\n",
              "      <td>Nam</td>\n",
              "      <td>3.0</td>\n",
              "      <td>8.0</td>\n",
              "      <td>4.0</td>\n",
              "      <td>Bán nhà riêng\\n</td>\n",
              "      <td>Phố Khâm Thiên</td>\n",
              "      <td>Phường Khâm Thiên</td>\n",
              "      <td>Quận Đống Đa</td>\n",
              "      <td>Thành phố Hà Nội</td>\n",
              "      <td>21.025208</td>\n",
              "      <td>105.833111</td>\n",
              "    </tr>\n",
              "    <tr>\n",
              "      <th>3</th>\n",
              "      <td>Bán nhà 6 tầng mới kinh doanh mặt ngõ 1194 Đườ...</td>\n",
              "      <td>Ngõ 1194, Đường Láng, Phường Láng Thượng, Đố...</td>\n",
              "      <td>62.0</td>\n",
              "      <td>11000.0</td>\n",
              "      <td>2021-03-13</td>\n",
              "      <td>Sổ đỏ</td>\n",
              "      <td>Đông</td>\n",
              "      <td>Đông-Nam</td>\n",
              "      <td>6.0</td>\n",
              "      <td>5.0</td>\n",
              "      <td>6.0</td>\n",
              "      <td>Bán nhà riêng\\n</td>\n",
              "      <td>Đường Láng Thượng</td>\n",
              "      <td>Phường Láng Thượng</td>\n",
              "      <td>Quận Đống Đa</td>\n",
              "      <td>Thành phố Hà Nội</td>\n",
              "      <td>21.025379</td>\n",
              "      <td>105.801011</td>\n",
              "    </tr>\n",
              "    <tr>\n",
              "      <th>4</th>\n",
              "      <td>Bán nhà mặt phố Thái Hà 70m2, 5 tầng, 4.5m mặt...</td>\n",
              "      <td>Phố Thái Hà, Phường Trung Liệt, Đống Đa, Hà Nội</td>\n",
              "      <td>70.0</td>\n",
              "      <td>36000.0</td>\n",
              "      <td>2021-03-13</td>\n",
              "      <td>Sổ đỏ</td>\n",
              "      <td>NaN</td>\n",
              "      <td>NaN</td>\n",
              "      <td>NaN</td>\n",
              "      <td>6.0</td>\n",
              "      <td>5.0</td>\n",
              "      <td>Bán nhà mặt phố\\n</td>\n",
              "      <td>Phố Trung Liệt</td>\n",
              "      <td>Phường Trung Liệt</td>\n",
              "      <td>Quận Đống Đa</td>\n",
              "      <td>Thành phố Hà Nội</td>\n",
              "      <td>21.009239</td>\n",
              "      <td>105.824230</td>\n",
              "    </tr>\n",
              "  </tbody>\n",
              "</table>\n",
              "</div>\n",
              "      <button class=\"colab-df-convert\" onclick=\"convertToInteractive('df-af71747b-23db-406e-b6f7-f216ee5ec1ae')\"\n",
              "              title=\"Convert this dataframe to an interactive table.\"\n",
              "              style=\"display:none;\">\n",
              "        \n",
              "  <svg xmlns=\"http://www.w3.org/2000/svg\" height=\"24px\"viewBox=\"0 0 24 24\"\n",
              "       width=\"24px\">\n",
              "    <path d=\"M0 0h24v24H0V0z\" fill=\"none\"/>\n",
              "    <path d=\"M18.56 5.44l.94 2.06.94-2.06 2.06-.94-2.06-.94-.94-2.06-.94 2.06-2.06.94zm-11 1L8.5 8.5l.94-2.06 2.06-.94-2.06-.94L8.5 2.5l-.94 2.06-2.06.94zm10 10l.94 2.06.94-2.06 2.06-.94-2.06-.94-.94-2.06-.94 2.06-2.06.94z\"/><path d=\"M17.41 7.96l-1.37-1.37c-.4-.4-.92-.59-1.43-.59-.52 0-1.04.2-1.43.59L10.3 9.45l-7.72 7.72c-.78.78-.78 2.05 0 2.83L4 21.41c.39.39.9.59 1.41.59.51 0 1.02-.2 1.41-.59l7.78-7.78 2.81-2.81c.8-.78.8-2.07 0-2.86zM5.41 20L4 18.59l7.72-7.72 1.47 1.35L5.41 20z\"/>\n",
              "  </svg>\n",
              "      </button>\n",
              "      \n",
              "  <style>\n",
              "    .colab-df-container {\n",
              "      display:flex;\n",
              "      flex-wrap:wrap;\n",
              "      gap: 12px;\n",
              "    }\n",
              "\n",
              "    .colab-df-convert {\n",
              "      background-color: #E8F0FE;\n",
              "      border: none;\n",
              "      border-radius: 50%;\n",
              "      cursor: pointer;\n",
              "      display: none;\n",
              "      fill: #1967D2;\n",
              "      height: 32px;\n",
              "      padding: 0 0 0 0;\n",
              "      width: 32px;\n",
              "    }\n",
              "\n",
              "    .colab-df-convert:hover {\n",
              "      background-color: #E2EBFA;\n",
              "      box-shadow: 0px 1px 2px rgba(60, 64, 67, 0.3), 0px 1px 3px 1px rgba(60, 64, 67, 0.15);\n",
              "      fill: #174EA6;\n",
              "    }\n",
              "\n",
              "    [theme=dark] .colab-df-convert {\n",
              "      background-color: #3B4455;\n",
              "      fill: #D2E3FC;\n",
              "    }\n",
              "\n",
              "    [theme=dark] .colab-df-convert:hover {\n",
              "      background-color: #434B5C;\n",
              "      box-shadow: 0px 1px 3px 1px rgba(0, 0, 0, 0.15);\n",
              "      filter: drop-shadow(0px 1px 2px rgba(0, 0, 0, 0.3));\n",
              "      fill: #FFFFFF;\n",
              "    }\n",
              "  </style>\n",
              "\n",
              "      <script>\n",
              "        const buttonEl =\n",
              "          document.querySelector('#df-af71747b-23db-406e-b6f7-f216ee5ec1ae button.colab-df-convert');\n",
              "        buttonEl.style.display =\n",
              "          google.colab.kernel.accessAllowed ? 'block' : 'none';\n",
              "\n",
              "        async function convertToInteractive(key) {\n",
              "          const element = document.querySelector('#df-af71747b-23db-406e-b6f7-f216ee5ec1ae');\n",
              "          const dataTable =\n",
              "            await google.colab.kernel.invokeFunction('convertToInteractive',\n",
              "                                                     [key], {});\n",
              "          if (!dataTable) return;\n",
              "\n",
              "          const docLinkHtml = 'Like what you see? Visit the ' +\n",
              "            '<a target=\"_blank\" href=https://colab.research.google.com/notebooks/data_table.ipynb>data table notebook</a>'\n",
              "            + ' to learn more about interactive tables.';\n",
              "          element.innerHTML = '';\n",
              "          dataTable['output_type'] = 'display_data';\n",
              "          await google.colab.output.renderOutput(dataTable, element);\n",
              "          const docLink = document.createElement('div');\n",
              "          docLink.innerHTML = docLinkHtml;\n",
              "          element.appendChild(docLink);\n",
              "        }\n",
              "      </script>\n",
              "    </div>\n",
              "  </div>\n",
              "  "
            ]
          },
          "metadata": {},
          "execution_count": 3
        }
      ]
    },
    {
      "cell_type": "markdown",
      "source": [
        "lọc khuyết thuyết"
      ],
      "metadata": {
        "id": "xe52cG8rSMR0"
      }
    },
    {
      "cell_type": "code",
      "source": [
        "df=df.dropna()"
      ],
      "metadata": {
        "id": "5Gk-dombSOlB"
      },
      "execution_count": 4,
      "outputs": []
    },
    {
      "cell_type": "code",
      "source": [
        "df.head()"
      ],
      "metadata": {
        "colab": {
          "base_uri": "https://localhost:8080/",
          "height": 1000
        },
        "id": "GvI6ipMZSTl4",
        "outputId": "12615c0d-fc8a-4f3e-c76a-8c8d0ceceab3"
      },
      "execution_count": 5,
      "outputs": [
        {
          "output_type": "execute_result",
          "data": {
            "text/plain": [
              "                                                 title  \\\n",
              "2    Bán nhà số 36 Đoàn Kết - phố Khâm Thiên - Đống...   \n",
              "3    Bán nhà 6 tầng mới kinh doanh mặt ngõ 1194 Đườ...   \n",
              "12   Bán đất tặng nhà gần ngõ 34 Hoàng Cầu - 29 Lán...   \n",
              "333  Mặt phố Hồ Giám - mặt tiền rộng - kinh doanh -...   \n",
              "343  Bán nhà mặt ngõ Thái Hà, Trung Liệt, Đống Đa. ...   \n",
              "\n",
              "                                               address  area    price  \\\n",
              "2    Số 36 Đoàn Kết, Phố Khâm Thiên, Phường Thổ Qu...  57.0   4200.0   \n",
              "3    Ngõ 1194, Đường Láng, Phường Láng Thượng, Đố...  62.0  11000.0   \n",
              "12   174, Phố Mai Anh Tuấn, Phường Ô Chợ Dừa, Đốn...  52.2   5376.6   \n",
              "333  7. .Phố Hồ Giám - Phường Quốc Tử Giám - Đốn...  73.0  13700.0   \n",
              "343   Phố Thái Hà, Phường Ô Chợ Dừa, Đống Đa, Hà Nội  61.0  12500.0   \n",
              "\n",
              "      postDate land_certificate house_direction balcony_direction  toilet  \\\n",
              "2   2021-03-10            Sổ đỏ             Nam               Nam     3.0   \n",
              "3   2021-03-13            Sổ đỏ            Đông          Đông-Nam     6.0   \n",
              "12  2021-04-06            Sổ đỏ         Tây-Bắc           Tây-Bắc     1.0   \n",
              "333 2021-04-20            Sổ đỏ            Đông              Đông     5.0   \n",
              "343 2021-04-20            Sổ đỏ        Đông-Nam          Đông-Nam     4.0   \n",
              "\n",
              "     bedroom  floor        type_of_land        street_name  \\\n",
              "2        8.0    4.0    Bán nhà riêng\\n      Phố Khâm Thiên   \n",
              "3        5.0    6.0    Bán nhà riêng\\n   Đường Láng Thượng   \n",
              "12       2.0    3.0    Bán nhà riêng\\n    Phố Mai Anh Tuấn   \n",
              "333      6.0    5.0  Bán nhà mặt phố\\n    Phố Quốc Tử Giám   \n",
              "343      6.0    5.0    Bán nhà riêng\\n     Đường Ô Chợ Dừa   \n",
              "\n",
              "               ward_name district_name         city_name        lat  \\\n",
              "2      Phường Khâm Thiên  Quận Đống Đa  Thành phố Hà Nội  21.025208   \n",
              "3     Phường Láng Thượng  Quận Đống Đa  Thành phố Hà Nội  21.025379   \n",
              "12      Phường Ô Chợ Dừa  Quận Đống Đa  Thành phố Hà Nội  21.019078   \n",
              "333  Phường Quốc Tử Giám  Quận Đống Đa  Thành phố Hà Nội  21.027478   \n",
              "343     Phường Ô Chợ Dừa  Quận Đống Đa  Thành phố Hà Nội  21.009410   \n",
              "\n",
              "           long  \n",
              "2    105.833111  \n",
              "3    105.801011  \n",
              "12   105.819259  \n",
              "333  105.834293  \n",
              "343  105.824307  "
            ],
            "text/html": [
              "\n",
              "  <div id=\"df-ed2feab9-ae45-4244-baec-736382b470e4\">\n",
              "    <div class=\"colab-df-container\">\n",
              "      <div>\n",
              "<style scoped>\n",
              "    .dataframe tbody tr th:only-of-type {\n",
              "        vertical-align: middle;\n",
              "    }\n",
              "\n",
              "    .dataframe tbody tr th {\n",
              "        vertical-align: top;\n",
              "    }\n",
              "\n",
              "    .dataframe thead th {\n",
              "        text-align: right;\n",
              "    }\n",
              "</style>\n",
              "<table border=\"1\" class=\"dataframe\">\n",
              "  <thead>\n",
              "    <tr style=\"text-align: right;\">\n",
              "      <th></th>\n",
              "      <th>title</th>\n",
              "      <th>address</th>\n",
              "      <th>area</th>\n",
              "      <th>price</th>\n",
              "      <th>postDate</th>\n",
              "      <th>land_certificate</th>\n",
              "      <th>house_direction</th>\n",
              "      <th>balcony_direction</th>\n",
              "      <th>toilet</th>\n",
              "      <th>bedroom</th>\n",
              "      <th>floor</th>\n",
              "      <th>type_of_land</th>\n",
              "      <th>street_name</th>\n",
              "      <th>ward_name</th>\n",
              "      <th>district_name</th>\n",
              "      <th>city_name</th>\n",
              "      <th>lat</th>\n",
              "      <th>long</th>\n",
              "    </tr>\n",
              "  </thead>\n",
              "  <tbody>\n",
              "    <tr>\n",
              "      <th>2</th>\n",
              "      <td>Bán nhà số 36 Đoàn Kết - phố Khâm Thiên - Đống...</td>\n",
              "      <td>Số 36 Đoàn Kết, Phố Khâm Thiên, Phường Thổ Qu...</td>\n",
              "      <td>57.0</td>\n",
              "      <td>4200.0</td>\n",
              "      <td>2021-03-10</td>\n",
              "      <td>Sổ đỏ</td>\n",
              "      <td>Nam</td>\n",
              "      <td>Nam</td>\n",
              "      <td>3.0</td>\n",
              "      <td>8.0</td>\n",
              "      <td>4.0</td>\n",
              "      <td>Bán nhà riêng\\n</td>\n",
              "      <td>Phố Khâm Thiên</td>\n",
              "      <td>Phường Khâm Thiên</td>\n",
              "      <td>Quận Đống Đa</td>\n",
              "      <td>Thành phố Hà Nội</td>\n",
              "      <td>21.025208</td>\n",
              "      <td>105.833111</td>\n",
              "    </tr>\n",
              "    <tr>\n",
              "      <th>3</th>\n",
              "      <td>Bán nhà 6 tầng mới kinh doanh mặt ngõ 1194 Đườ...</td>\n",
              "      <td>Ngõ 1194, Đường Láng, Phường Láng Thượng, Đố...</td>\n",
              "      <td>62.0</td>\n",
              "      <td>11000.0</td>\n",
              "      <td>2021-03-13</td>\n",
              "      <td>Sổ đỏ</td>\n",
              "      <td>Đông</td>\n",
              "      <td>Đông-Nam</td>\n",
              "      <td>6.0</td>\n",
              "      <td>5.0</td>\n",
              "      <td>6.0</td>\n",
              "      <td>Bán nhà riêng\\n</td>\n",
              "      <td>Đường Láng Thượng</td>\n",
              "      <td>Phường Láng Thượng</td>\n",
              "      <td>Quận Đống Đa</td>\n",
              "      <td>Thành phố Hà Nội</td>\n",
              "      <td>21.025379</td>\n",
              "      <td>105.801011</td>\n",
              "    </tr>\n",
              "    <tr>\n",
              "      <th>12</th>\n",
              "      <td>Bán đất tặng nhà gần ngõ 34 Hoàng Cầu - 29 Lán...</td>\n",
              "      <td>174, Phố Mai Anh Tuấn, Phường Ô Chợ Dừa, Đốn...</td>\n",
              "      <td>52.2</td>\n",
              "      <td>5376.6</td>\n",
              "      <td>2021-04-06</td>\n",
              "      <td>Sổ đỏ</td>\n",
              "      <td>Tây-Bắc</td>\n",
              "      <td>Tây-Bắc</td>\n",
              "      <td>1.0</td>\n",
              "      <td>2.0</td>\n",
              "      <td>3.0</td>\n",
              "      <td>Bán nhà riêng\\n</td>\n",
              "      <td>Phố Mai Anh Tuấn</td>\n",
              "      <td>Phường Ô Chợ Dừa</td>\n",
              "      <td>Quận Đống Đa</td>\n",
              "      <td>Thành phố Hà Nội</td>\n",
              "      <td>21.019078</td>\n",
              "      <td>105.819259</td>\n",
              "    </tr>\n",
              "    <tr>\n",
              "      <th>333</th>\n",
              "      <td>Mặt phố Hồ Giám - mặt tiền rộng - kinh doanh -...</td>\n",
              "      <td>7. .Phố Hồ Giám - Phường Quốc Tử Giám - Đốn...</td>\n",
              "      <td>73.0</td>\n",
              "      <td>13700.0</td>\n",
              "      <td>2021-04-20</td>\n",
              "      <td>Sổ đỏ</td>\n",
              "      <td>Đông</td>\n",
              "      <td>Đông</td>\n",
              "      <td>5.0</td>\n",
              "      <td>6.0</td>\n",
              "      <td>5.0</td>\n",
              "      <td>Bán nhà mặt phố\\n</td>\n",
              "      <td>Phố Quốc Tử Giám</td>\n",
              "      <td>Phường Quốc Tử Giám</td>\n",
              "      <td>Quận Đống Đa</td>\n",
              "      <td>Thành phố Hà Nội</td>\n",
              "      <td>21.027478</td>\n",
              "      <td>105.834293</td>\n",
              "    </tr>\n",
              "    <tr>\n",
              "      <th>343</th>\n",
              "      <td>Bán nhà mặt ngõ Thái Hà, Trung Liệt, Đống Đa. ...</td>\n",
              "      <td>Phố Thái Hà, Phường Ô Chợ Dừa, Đống Đa, Hà Nội</td>\n",
              "      <td>61.0</td>\n",
              "      <td>12500.0</td>\n",
              "      <td>2021-04-20</td>\n",
              "      <td>Sổ đỏ</td>\n",
              "      <td>Đông-Nam</td>\n",
              "      <td>Đông-Nam</td>\n",
              "      <td>4.0</td>\n",
              "      <td>6.0</td>\n",
              "      <td>5.0</td>\n",
              "      <td>Bán nhà riêng\\n</td>\n",
              "      <td>Đường Ô Chợ Dừa</td>\n",
              "      <td>Phường Ô Chợ Dừa</td>\n",
              "      <td>Quận Đống Đa</td>\n",
              "      <td>Thành phố Hà Nội</td>\n",
              "      <td>21.009410</td>\n",
              "      <td>105.824307</td>\n",
              "    </tr>\n",
              "  </tbody>\n",
              "</table>\n",
              "</div>\n",
              "      <button class=\"colab-df-convert\" onclick=\"convertToInteractive('df-ed2feab9-ae45-4244-baec-736382b470e4')\"\n",
              "              title=\"Convert this dataframe to an interactive table.\"\n",
              "              style=\"display:none;\">\n",
              "        \n",
              "  <svg xmlns=\"http://www.w3.org/2000/svg\" height=\"24px\"viewBox=\"0 0 24 24\"\n",
              "       width=\"24px\">\n",
              "    <path d=\"M0 0h24v24H0V0z\" fill=\"none\"/>\n",
              "    <path d=\"M18.56 5.44l.94 2.06.94-2.06 2.06-.94-2.06-.94-.94-2.06-.94 2.06-2.06.94zm-11 1L8.5 8.5l.94-2.06 2.06-.94-2.06-.94L8.5 2.5l-.94 2.06-2.06.94zm10 10l.94 2.06.94-2.06 2.06-.94-2.06-.94-.94-2.06-.94 2.06-2.06.94z\"/><path d=\"M17.41 7.96l-1.37-1.37c-.4-.4-.92-.59-1.43-.59-.52 0-1.04.2-1.43.59L10.3 9.45l-7.72 7.72c-.78.78-.78 2.05 0 2.83L4 21.41c.39.39.9.59 1.41.59.51 0 1.02-.2 1.41-.59l7.78-7.78 2.81-2.81c.8-.78.8-2.07 0-2.86zM5.41 20L4 18.59l7.72-7.72 1.47 1.35L5.41 20z\"/>\n",
              "  </svg>\n",
              "      </button>\n",
              "      \n",
              "  <style>\n",
              "    .colab-df-container {\n",
              "      display:flex;\n",
              "      flex-wrap:wrap;\n",
              "      gap: 12px;\n",
              "    }\n",
              "\n",
              "    .colab-df-convert {\n",
              "      background-color: #E8F0FE;\n",
              "      border: none;\n",
              "      border-radius: 50%;\n",
              "      cursor: pointer;\n",
              "      display: none;\n",
              "      fill: #1967D2;\n",
              "      height: 32px;\n",
              "      padding: 0 0 0 0;\n",
              "      width: 32px;\n",
              "    }\n",
              "\n",
              "    .colab-df-convert:hover {\n",
              "      background-color: #E2EBFA;\n",
              "      box-shadow: 0px 1px 2px rgba(60, 64, 67, 0.3), 0px 1px 3px 1px rgba(60, 64, 67, 0.15);\n",
              "      fill: #174EA6;\n",
              "    }\n",
              "\n",
              "    [theme=dark] .colab-df-convert {\n",
              "      background-color: #3B4455;\n",
              "      fill: #D2E3FC;\n",
              "    }\n",
              "\n",
              "    [theme=dark] .colab-df-convert:hover {\n",
              "      background-color: #434B5C;\n",
              "      box-shadow: 0px 1px 3px 1px rgba(0, 0, 0, 0.15);\n",
              "      filter: drop-shadow(0px 1px 2px rgba(0, 0, 0, 0.3));\n",
              "      fill: #FFFFFF;\n",
              "    }\n",
              "  </style>\n",
              "\n",
              "      <script>\n",
              "        const buttonEl =\n",
              "          document.querySelector('#df-ed2feab9-ae45-4244-baec-736382b470e4 button.colab-df-convert');\n",
              "        buttonEl.style.display =\n",
              "          google.colab.kernel.accessAllowed ? 'block' : 'none';\n",
              "\n",
              "        async function convertToInteractive(key) {\n",
              "          const element = document.querySelector('#df-ed2feab9-ae45-4244-baec-736382b470e4');\n",
              "          const dataTable =\n",
              "            await google.colab.kernel.invokeFunction('convertToInteractive',\n",
              "                                                     [key], {});\n",
              "          if (!dataTable) return;\n",
              "\n",
              "          const docLinkHtml = 'Like what you see? Visit the ' +\n",
              "            '<a target=\"_blank\" href=https://colab.research.google.com/notebooks/data_table.ipynb>data table notebook</a>'\n",
              "            + ' to learn more about interactive tables.';\n",
              "          element.innerHTML = '';\n",
              "          dataTable['output_type'] = 'display_data';\n",
              "          await google.colab.output.renderOutput(dataTable, element);\n",
              "          const docLink = document.createElement('div');\n",
              "          docLink.innerHTML = docLinkHtml;\n",
              "          element.appendChild(docLink);\n",
              "        }\n",
              "      </script>\n",
              "    </div>\n",
              "  </div>\n",
              "  "
            ]
          },
          "metadata": {},
          "execution_count": 5
        }
      ]
    },
    {
      "cell_type": "markdown",
      "source": [
        "# Vẽ biểu đồ xu hướng phân tích mối quan hệ giữa giá nhà với diện tích, giá nhà với số lượng phòng ngủ, nhận xét."
      ],
      "metadata": {
        "id": "-gwFkuMpSbQl"
      }
    },
    {
      "cell_type": "code",
      "source": [
        "#fig, (ax1, ax2) = plt.subplots(1,2, figsize=(10,4), sharey=True, dpi=120)\n",
        "sns.lmplot(data=df,x='price',y='area')\n",
        "#plt.subplot(1,2,2)\n",
        "sns.lmplot(data=df,x='price',y='bedroom')"
      ],
      "metadata": {
        "colab": {
          "base_uri": "https://localhost:8080/",
          "height": 740
        },
        "id": "0GEGW8Y7SeYd",
        "outputId": "eec8c4eb-1b39-4218-c015-0bf8917735f4"
      },
      "execution_count": 12,
      "outputs": [
        {
          "output_type": "execute_result",
          "data": {
            "text/plain": [
              "<seaborn.axisgrid.FacetGrid at 0x7f3b0f53ab10>"
            ]
          },
          "metadata": {},
          "execution_count": 12
        },
        {
          "output_type": "display_data",
          "data": {
            "text/plain": [
              "<Figure size 360x360 with 1 Axes>"
            ],
            "image/png": "[encoded data removed]"
          },
          "metadata": {
            "needs_background": "light"
          }
        },
        {
          "output_type": "display_data",
          "data": {
            "text/plain": [
              "<Figure size 360x360 with 1 Axes>"
            ],
            "image/png": "[encoded data removed]"
          },
          "metadata": {
            "needs_background": "light"
          }
        }
      ]
    },
    {
      "cell_type": "markdown",
      "source": [
        "dựa vào biểu đồ ta thấy : thường thì diện tích cao thì giá cao nhưng qua biểu đồ ta thấy diện tích to chưa chắc giá đã cao cho thấy còn yếu tố khác ảnh hưởng đến giá giá\n",
        "<br>\n",
        "<br>\n",
        "ta thấy số phòng ngủ cũng ảnh hưởng đến giá nhà nhưng là quá ít cho thấy có yếu tố khác tác động mạnh vào giá nhà hơn \n"
      ],
      "metadata": {
        "id": "5CWS5nG4Vxa2"
      }
    },
    {
      "cell_type": "markdown",
      "source": [
        "# **Vẽ biểu đồ phân bố thể hiện phân bố của giá nhà theo các hướng, nhận xét.**"
      ],
      "metadata": {
        "id": "c5L2fracWUEl"
      }
    },
    {
      "cell_type": "code",
      "source": [
        "sns.violinplot(data=df,x='price',y='house_direction')"
      ],
      "metadata": {
        "colab": {
          "base_uri": "https://localhost:8080/",
          "height": 297
        },
        "id": "5koAM7tvWahO",
        "outputId": "43afa235-4bd7-4cbb-a1c3-ae05ce52f1ce"
      },
      "execution_count": 13,
      "outputs": [
        {
          "output_type": "execute_result",
          "data": {
            "text/plain": [
              "<matplotlib.axes._subplots.AxesSubplot at 0x7f3b0f44bad0>"
            ]
          },
          "metadata": {},
          "execution_count": 13
        },
        {
          "output_type": "display_data",
          "data": {
            "text/plain": [
              "<Figure size 432x288 with 1 Axes>"
            ],
            "image/png": "[encoded data removed]"
          },
          "metadata": {
            "needs_background": "light"
          }
        }
      ]
    },
    {
      "cell_type": "markdown",
      "source": [
        "nhận xét : ta thấy giá tập trung ở hướng Đông Nam , đc khánh ưu tiên và giá khá cao, giá cao nhất là theo hướng Tây bắc"
      ],
      "metadata": {
        "id": "Tog-ZgysYj5_"
      }
    },
    {
      "cell_type": "markdown",
      "source": [
        "# **Vẽ biểu đồ tần số để đếm số nhà ở mỗi hướng nhà, nhận xét.**"
      ],
      "metadata": {
        "id": "5_K7WUIeY1CQ"
      }
    },
    {
      "cell_type": "code",
      "source": [
        "sns.countplot(data=df,x='house_direction')"
      ],
      "metadata": {
        "colab": {
          "base_uri": "https://localhost:8080/",
          "height": 300
        },
        "id": "vFLBMmejY0L8",
        "outputId": "2d481a42-817a-48de-e4f6-49d153d418d1"
      },
      "execution_count": 14,
      "outputs": [
        {
          "output_type": "execute_result",
          "data": {
            "text/plain": [
              "<matplotlib.axes._subplots.AxesSubplot at 0x7f3b0d3c0390>"
            ]
          },
          "metadata": {},
          "execution_count": 14
        },
        {
          "output_type": "display_data",
          "data": {
            "text/plain": [
              "<Figure size 432x288 with 1 Axes>"
            ],
            "image/png": "[encoded data removed]"
          },
          "metadata": {
            "needs_background": "light"
          }
        }
      ]
    },
    {
      "cell_type": "markdown",
      "source": [
        "ta thấy nhà thường có hướng Đông và Đông Nam or Tây nam\n"
      ],
      "metadata": {
        "id": "6y2DO97HZR0Y"
      }
    },
    {
      "cell_type": "markdown",
      "source": [
        "# **Vẽ biểu đồ boxplot thể hiện phân bố của giá nhà theo các hướng, nhận xét.**\n"
      ],
      "metadata": {
        "id": "gZWo7-_2ZXw5"
      }
    },
    {
      "cell_type": "code",
      "source": [
        "sns.boxplot(data=df,x='house_direction',y='price')"
      ],
      "metadata": {
        "colab": {
          "base_uri": "https://localhost:8080/",
          "height": 300
        },
        "id": "rWMqNm2CZd3f",
        "outputId": "8fd259f8-0cad-4d24-9663-90e1029d2ca0"
      },
      "execution_count": 15,
      "outputs": [
        {
          "output_type": "execute_result",
          "data": {
            "text/plain": [
              "<matplotlib.axes._subplots.AxesSubplot at 0x7f3b0d3b2250>"
            ]
          },
          "metadata": {},
          "execution_count": 15
        },
        {
          "output_type": "display_data",
          "data": {
            "text/plain": [
              "<Figure size 432x288 with 1 Axes>"
            ],
            "image/png": "[encoded data removed]"
          },
          "metadata": {
            "needs_background": "light"
          }
        }
      ]
    },
    {
      "cell_type": "markdown",
      "source": [
        "ta thấy hướng tây bắc có giá cao nhất và hướng Đông Nam cũng có giá rất cao\n",
        "\n",
        "\n"
      ],
      "metadata": {
        "id": "g0zZ-N_YZdEe"
      }
    },
    {
      "cell_type": "markdown",
      "source": [
        ""
      ],
      "metadata": {
        "id": "-rjsWvKqZxAx"
      }
    }
  ]
}