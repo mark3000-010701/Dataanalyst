{
  "nbformat": 4,
  "nbformat_minor": 0,
  "metadata": {
    "colab": {
      "name": "Lập Trình Mạng Trần Đình Hội.ipynb",
      "provenance": [],
      "authorship_tag": "ABX9TyM+47Cw5zWhuYvoWtuC07LW",
      "include_colab_link": true
    },
    "kernelspec": {
      "name": "python3",
      "display_name": "Python 3"
    },
    "language_info": {
      "name": "python"
    }
  },
  "cells": [
    {
      "cell_type": "markdown",
      "metadata": {
        "id": "view-in-github",
        "colab_type": "text"
      },
      "source": [
        "<a href=\"https://colab.research.google.com/github/mark3000-010701/Dataanalyst/blob/main/L%E1%BA%ADp_Tr%C3%ACnh_M%E1%BA%A1ng_Tr%E1%BA%A7n_%C4%90%C3%ACnh_H%E1%BB%99i.ipynb\" target=\"_parent\"><img src=\"https://colab.research.google.com/assets/colab-badge.svg\" alt=\"Open In Colab\"/></a>"
      ]
    },
    {
      "cell_type": "code",
      "execution_count": null,
      "metadata": {
        "id": "wOZbHdt0tl5h"
      },
      "outputs": [],
      "source": [
        "#server file\n",
        "import socket \n",
        "\n",
        "host = '127.0.0.1'\n",
        "port = 6767\n",
        "\n",
        "s = socket.socket(socket.AF_INET, socket.SOCK_STREAM)\n",
        "s.bind((host, port))\n",
        "s.listen(1)\n",
        "print(\"Server listening on port\", port)\n",
        "\n",
        "c, addr = s.accept()\n",
        "\n",
        "filename = c.recv(1024)\n",
        "try:\n",
        "  f =  open(filename, 'rb')\n",
        "  content = f.read()\n",
        "  \n",
        "  c.send(content)\n",
        "  f.close()\n",
        "  \n",
        "except FileExistsError:\n",
        "  c.send(\"File not found\") \n",
        "  \n",
        "c.close()"
      ]
    },
    {
      "cell_type": "code",
      "source": [
        "# fileclient.py\n",
        "\n",
        "import socket \n",
        "s = socket.socket()\n",
        "s.connect((\"127.0.0.1\", 6767)) \n",
        "\n",
        "\n",
        "filename = input(\"Enter a filename \")\n",
        "\n",
        "\n",
        "s.send(filename.encode())\n",
        "\n",
        "\n",
        "content = s.recv(1024)\n",
        "\n",
        "print(content.decode())\n",
        "s.close()"
      ],
      "metadata": {
        "id": "lZ-OLNW0t4DS"
      },
      "execution_count": null,
      "outputs": []
    },
    {
      "cell_type": "code",
      "source": [
        "#server.py \n",
        "\n",
        "import socket \n",
        "\n",
        "\n",
        "host = '127.0.0.1'\n",
        "port = 4000\n",
        "s = socket.socket(socket.AF_INET, socket.SOCK_STREAM)\n",
        "s.bind((host, port))\n",
        "\n",
        "s.listen(1) \n",
        "print(\"Server listening on port\", port)\n",
        "\n",
        "c, addr = s.accept()\n",
        "print(\"Connect from \", str(addr))\n",
        "\n",
        "#server sử dụng kết nối gửi dữ liệu tới client dưới dạng binary\n",
        "c.send(b\"Hello,   how are you\")\n",
        "c.send(\"Bye\", encode())\n",
        "c.close()"
      ],
      "metadata": {
        "id": "0K1HwqCLwwSJ"
      },
      "execution_count": null,
      "outputs": []
    },
    {
      "cell_type": "code",
      "source": [
        "#client .py\n",
        "\n",
        "import socket \n",
        "\n",
        "\n",
        "s = socket.socket()\n",
        "s.connect((\"127.0.0.1\", 4000)) \n",
        "\n",
        "\n",
        "msg = s.recv(1024)\n",
        "\n",
        "while msg:\n",
        "  print(\"Recvied \", msg.decode().strip(msg))\n",
        "  msg = s.recv(1024)\n",
        "\n",
        "s.close()"
      ],
      "metadata": {
        "id": "xKxFLeZbwz9P"
      },
      "execution_count": null,
      "outputs": []
    }
  ]
}