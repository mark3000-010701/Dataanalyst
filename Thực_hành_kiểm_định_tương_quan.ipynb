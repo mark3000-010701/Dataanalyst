{
  "nbformat": 4,
  "nbformat_minor": 0,
  "metadata": {
    "colab": {
      "name": "Thực hành kiểm định tương quan.ipynb",
      "provenance": [],
      "collapsed_sections": [],
      "authorship_tag": "ABX9TyOStgcD42Nt8An8qsq5z3lu",
      "include_colab_link": true
    },
    "kernelspec": {
      "name": "python3",
      "display_name": "Python 3"
    },
    "language_info": {
      "name": "python"
    }
  },
  "cells": [
    {
      "cell_type": "markdown",
      "metadata": {
        "id": "view-in-github",
        "colab_type": "text"
      },
      "source": [
        "<a href=\"https://colab.research.google.com/github/mark3000-010701/Dataanalyst/blob/main/Th%E1%BB%B1c_h%C3%A0nh_ki%E1%BB%83m_%C4%91%E1%BB%8Bnh_t%C6%B0%C6%A1ng_quan.ipynb\" target=\"_parent\"><img src=\"https://colab.research.google.com/assets/colab-badge.svg\" alt=\"Open In Colab\"/></a>"
      ]
    },
    {
      "cell_type": "markdown",
      "source": [
        "# **[Thực hành] Kiểm định tương quan trên dữ liệu Food Price in Turkey**"
      ],
      "metadata": {
        "id": "EXmWaPTFqFtH"
      }
    },
    {
      "cell_type": "code",
      "execution_count": 1,
      "metadata": {
        "id": "hqEWnPuxp_t3"
      },
      "outputs": [],
      "source": [
        "# Khai báo thư viện\n",
        "import pandas as pd\n",
        "from scipy import stats\n",
        "import matplotlib.pyplot as plt"
      ]
    },
    {
      "cell_type": "code",
      "source": [
        "# đọc dữ liệu\n",
        "df = pd.read_csv(\"https://s3.ap-southeast-1.amazonaws.com/learn.codegym.vn/media/public/2021/12/31021019/FoodPrice_in_Turkey.csv\")\n",
        "# lọc dữ liệu gạo bán lẻ (Rice - Retail) ở National Average\n",
        "df_rice = df[(df.ProductName == \"Rice - Retail\") & ( df.Place == \"National Average\")]\n",
        "print(\"kích thước bộ dữ liệu: \" ,df_rice.shape)\n",
        "print (\"mô tả bộ dữ liệu\")\n",
        "df_rice.describe()"
      ],
      "metadata": {
        "colab": {
          "base_uri": "https://localhost:8080/",
          "height": 337
        },
        "id": "xZRUvOgyqTo1",
        "outputId": "921fc8e7-a7b4-4e0c-bea1-1d6ca520c2a8"
      },
      "execution_count": 2,
      "outputs": [
        {
          "output_type": "stream",
          "name": "stdout",
          "text": [
            "kích thước bộ dữ liệu:  (66, 8)\n",
            "mô tả bộ dữ liệu\n"
          ]
        },
        {
          "output_type": "execute_result",
          "data": {
            "text/plain": [
              "       ProductId  UmId      Month         Year      Price\n",
              "count       66.0  66.0  66.000000    66.000000  66.000000\n",
              "mean        52.0   5.0   6.454545  2016.257576   7.084923\n",
              "std          0.0   0.0   3.561252     1.947864   1.417041\n",
              "min         52.0   5.0   1.000000  2013.000000   4.492000\n",
              "25%         52.0   5.0   3.000000  2015.000000   6.117500\n",
              "50%         52.0   5.0   6.000000  2016.000000   6.523500\n",
              "75%         52.0   5.0   9.750000  2018.000000   8.401025\n",
              "max         52.0   5.0  12.000000  2019.000000   9.561600"
            ],
            "text/html": [
              "\n",
              "  <div id=\"df-98bce136-9f5b-4084-9921-f1b6a31c04f9\">\n",
              "    <div class=\"colab-df-container\">\n",
              "      <div>\n",
              "<style scoped>\n",
              "    .dataframe tbody tr th:only-of-type {\n",
              "        vertical-align: middle;\n",
              "    }\n",
              "\n",
              "    .dataframe tbody tr th {\n",
              "        vertical-align: top;\n",
              "    }\n",
              "\n",
              "    .dataframe thead th {\n",
              "        text-align: right;\n",
              "    }\n",
              "</style>\n",
              "<table border=\"1\" class=\"dataframe\">\n",
              "  <thead>\n",
              "    <tr style=\"text-align: right;\">\n",
              "      <th></th>\n",
              "      <th>ProductId</th>\n",
              "      <th>UmId</th>\n",
              "      <th>Month</th>\n",
              "      <th>Year</th>\n",
              "      <th>Price</th>\n",
              "    </tr>\n",
              "  </thead>\n",
              "  <tbody>\n",
              "    <tr>\n",
              "      <th>count</th>\n",
              "      <td>66.0</td>\n",
              "      <td>66.0</td>\n",
              "      <td>66.000000</td>\n",
              "      <td>66.000000</td>\n",
              "      <td>66.000000</td>\n",
              "    </tr>\n",
              "    <tr>\n",
              "      <th>mean</th>\n",
              "      <td>52.0</td>\n",
              "      <td>5.0</td>\n",
              "      <td>6.454545</td>\n",
              "      <td>2016.257576</td>\n",
              "      <td>7.084923</td>\n",
              "    </tr>\n",
              "    <tr>\n",
              "      <th>std</th>\n",
              "      <td>0.0</td>\n",
              "      <td>0.0</td>\n",
              "      <td>3.561252</td>\n",
              "      <td>1.947864</td>\n",
              "      <td>1.417041</td>\n",
              "    </tr>\n",
              "    <tr>\n",
              "      <th>min</th>\n",
              "      <td>52.0</td>\n",
              "      <td>5.0</td>\n",
              "      <td>1.000000</td>\n",
              "      <td>2013.000000</td>\n",
              "      <td>4.492000</td>\n",
              "    </tr>\n",
              "    <tr>\n",
              "      <th>25%</th>\n",
              "      <td>52.0</td>\n",
              "      <td>5.0</td>\n",
              "      <td>3.000000</td>\n",
              "      <td>2015.000000</td>\n",
              "      <td>6.117500</td>\n",
              "    </tr>\n",
              "    <tr>\n",
              "      <th>50%</th>\n",
              "      <td>52.0</td>\n",
              "      <td>5.0</td>\n",
              "      <td>6.000000</td>\n",
              "      <td>2016.000000</td>\n",
              "      <td>6.523500</td>\n",
              "    </tr>\n",
              "    <tr>\n",
              "      <th>75%</th>\n",
              "      <td>52.0</td>\n",
              "      <td>5.0</td>\n",
              "      <td>9.750000</td>\n",
              "      <td>2018.000000</td>\n",
              "      <td>8.401025</td>\n",
              "    </tr>\n",
              "    <tr>\n",
              "      <th>max</th>\n",
              "      <td>52.0</td>\n",
              "      <td>5.0</td>\n",
              "      <td>12.000000</td>\n",
              "      <td>2019.000000</td>\n",
              "      <td>9.561600</td>\n",
              "    </tr>\n",
              "  </tbody>\n",
              "</table>\n",
              "</div>\n",
              "      <button class=\"colab-df-convert\" onclick=\"convertToInteractive('df-98bce136-9f5b-4084-9921-f1b6a31c04f9')\"\n",
              "              title=\"Convert this dataframe to an interactive table.\"\n",
              "              style=\"display:none;\">\n",
              "        \n",
              "  <svg xmlns=\"http://www.w3.org/2000/svg\" height=\"24px\"viewBox=\"0 0 24 24\"\n",
              "       width=\"24px\">\n",
              "    <path d=\"M0 0h24v24H0V0z\" fill=\"none\"/>\n",
              "    <path d=\"M18.56 5.44l.94 2.06.94-2.06 2.06-.94-2.06-.94-.94-2.06-.94 2.06-2.06.94zm-11 1L8.5 8.5l.94-2.06 2.06-.94-2.06-.94L8.5 2.5l-.94 2.06-2.06.94zm10 10l.94 2.06.94-2.06 2.06-.94-2.06-.94-.94-2.06-.94 2.06-2.06.94z\"/><path d=\"M17.41 7.96l-1.37-1.37c-.4-.4-.92-.59-1.43-.59-.52 0-1.04.2-1.43.59L10.3 9.45l-7.72 7.72c-.78.78-.78 2.05 0 2.83L4 21.41c.39.39.9.59 1.41.59.51 0 1.02-.2 1.41-.59l7.78-7.78 2.81-2.81c.8-.78.8-2.07 0-2.86zM5.41 20L4 18.59l7.72-7.72 1.47 1.35L5.41 20z\"/>\n",
              "  </svg>\n",
              "      </button>\n",
              "      \n",
              "  <style>\n",
              "    .colab-df-container {\n",
              "      display:flex;\n",
              "      flex-wrap:wrap;\n",
              "      gap: 12px;\n",
              "    }\n",
              "\n",
              "    .colab-df-convert {\n",
              "      background-color: #E8F0FE;\n",
              "      border: none;\n",
              "      border-radius: 50%;\n",
              "      cursor: pointer;\n",
              "      display: none;\n",
              "      fill: #1967D2;\n",
              "      height: 32px;\n",
              "      padding: 0 0 0 0;\n",
              "      width: 32px;\n",
              "    }\n",
              "\n",
              "    .colab-df-convert:hover {\n",
              "      background-color: #E2EBFA;\n",
              "      box-shadow: 0px 1px 2px rgba(60, 64, 67, 0.3), 0px 1px 3px 1px rgba(60, 64, 67, 0.15);\n",
              "      fill: #174EA6;\n",
              "    }\n",
              "\n",
              "    [theme=dark] .colab-df-convert {\n",
              "      background-color: #3B4455;\n",
              "      fill: #D2E3FC;\n",
              "    }\n",
              "\n",
              "    [theme=dark] .colab-df-convert:hover {\n",
              "      background-color: #434B5C;\n",
              "      box-shadow: 0px 1px 3px 1px rgba(0, 0, 0, 0.15);\n",
              "      filter: drop-shadow(0px 1px 2px rgba(0, 0, 0, 0.3));\n",
              "      fill: #FFFFFF;\n",
              "    }\n",
              "  </style>\n",
              "\n",
              "      <script>\n",
              "        const buttonEl =\n",
              "          document.querySelector('#df-98bce136-9f5b-4084-9921-f1b6a31c04f9 button.colab-df-convert');\n",
              "        buttonEl.style.display =\n",
              "          google.colab.kernel.accessAllowed ? 'block' : 'none';\n",
              "\n",
              "        async function convertToInteractive(key) {\n",
              "          const element = document.querySelector('#df-98bce136-9f5b-4084-9921-f1b6a31c04f9');\n",
              "          const dataTable =\n",
              "            await google.colab.kernel.invokeFunction('convertToInteractive',\n",
              "                                                     [key], {});\n",
              "          if (!dataTable) return;\n",
              "\n",
              "          const docLinkHtml = 'Like what you see? Visit the ' +\n",
              "            '<a target=\"_blank\" href=https://colab.research.google.com/notebooks/data_table.ipynb>data table notebook</a>'\n",
              "            + ' to learn more about interactive tables.';\n",
              "          element.innerHTML = '';\n",
              "          dataTable['output_type'] = 'display_data';\n",
              "          await google.colab.output.renderOutput(dataTable, element);\n",
              "          const docLink = document.createElement('div');\n",
              "          docLink.innerHTML = docLinkHtml;\n",
              "          element.appendChild(docLink);\n",
              "        }\n",
              "      </script>\n",
              "    </div>\n",
              "  </div>\n",
              "  "
            ]
          },
          "metadata": {},
          "execution_count": 2
        }
      ]
    },
    {
      "cell_type": "code",
      "source": [
        "# vẽ mối hiên hệ giữa thời gian và giá gạo\n",
        "df_rice['time'] =  pd.to_datetime(df_rice['Year'].astype(str) + '/'+df_rice['Month'].astype(str))\n",
        "plt.plot(df_rice['time'], df_rice['Price'], linewidth = 2, marker = '*', markersize=2, markerfacecolor='red', markeredgecolor = 'blue', markeredgewidth=2)\n",
        "plt.show()"
      ],
      "metadata": {
        "colab": {
          "base_uri": "https://localhost:8080/",
          "height": 374
        },
        "id": "5xYt9HJdqeu5",
        "outputId": "9ee40b2d-f4f7-457a-a583-613abb0f28b0"
      },
      "execution_count": 3,
      "outputs": [
        {
          "output_type": "stream",
          "name": "stderr",
          "text": [
            "/usr/local/lib/python3.7/dist-packages/ipykernel_launcher.py:2: SettingWithCopyWarning: \n",
            "A value is trying to be set on a copy of a slice from a DataFrame.\n",
            "Try using .loc[row_indexer,col_indexer] = value instead\n",
            "\n",
            "See the caveats in the documentation: https://pandas.pydata.org/pandas-docs/stable/user_guide/indexing.html#returning-a-view-versus-a-copy\n",
            "  \n"
          ]
        },
        {
          "output_type": "display_data",
          "data": {
            "text/plain": [
              "<Figure size 432x288 with 1 Axes>"
            ],
            "image/png": "[encoded data removed]"
          },
          "metadata": {
            "needs_background": "light"
          }
        }
      ]
    },
    {
      "cell_type": "markdown",
      "source": [
        "Tiến hành kiểm định\n",
        "\n",
        "<li>Do thời gian nhận giá trị tăng dần nên có thể được coi là một biến định lượng\n",
        "<li>Thực hiện kiểm định pearson để tiến hành kiểm định mối liên hệ giữa hai biến thời gian và giá\n",
        "<li>Biên đổi thời gian về dạng định lượng như sau: lấy mốc 1/2013 là mốc 1 tương đối, 1 tháng sẽ được tính là một đơn vị thời gian"
      ],
      "metadata": {
        "id": "nkOBSLF9qkUm"
      }
    },
    {
      "cell_type": "code",
      "source": [
        "# Biến đổi thời gian\n",
        "df_rice['time_processed'] = df_rice.Month + (df_rice.Year -2013)*12\n",
        "# Vẽ lại biểu đồ liên hệ giữa time_processed và giá gạo\n",
        "plt.plot(df_rice['time_processed'], df_rice['Price'], linewidth = 2, marker = '*', markersize=2, markerfacecolor='red', markeredgecolor = 'blue', markeredgewidth=2)\n",
        "plt.show()"
      ],
      "metadata": {
        "colab": {
          "base_uri": "https://localhost:8080/",
          "height": 374
        },
        "id": "Ja0Uw8Dzqt_D",
        "outputId": "98c30551-4c07-437a-8f7d-c439c81cf596"
      },
      "execution_count": 4,
      "outputs": [
        {
          "output_type": "stream",
          "name": "stderr",
          "text": [
            "/usr/local/lib/python3.7/dist-packages/ipykernel_launcher.py:2: SettingWithCopyWarning: \n",
            "A value is trying to be set on a copy of a slice from a DataFrame.\n",
            "Try using .loc[row_indexer,col_indexer] = value instead\n",
            "\n",
            "See the caveats in the documentation: https://pandas.pydata.org/pandas-docs/stable/user_guide/indexing.html#returning-a-view-versus-a-copy\n",
            "  \n"
          ]
        },
        {
          "output_type": "display_data",
          "data": {
            "text/plain": [
              "<Figure size 432x288 with 1 Axes>"
            ],
            "image/png": "[encoded data removed]"
          },
          "metadata": {
            "needs_background": "light"
          }
        }
      ]
    },
    {
      "cell_type": "markdown",
      "source": [
        "Tiến hành kiểm định\n",
        "\n",
        "<li>Giả thuyết không: Giữa thời gian và giá gạo không có mối tương quan\n",
        "<li>Giả thuyết đối: Giữa thời gian và giá gạo có mối tương quan"
      ],
      "metadata": {
        "id": "OEVjVnH2q0HK"
      }
    },
    {
      "cell_type": "code",
      "source": [
        "print  (\"hệ số tương quan và pvalue tương ứng là: \\n\",stats.pearsonr(df_rice.time_processed, df_rice.Price))"
      ],
      "metadata": {
        "colab": {
          "base_uri": "https://localhost:8080/"
        },
        "id": "cYYorrQ3q3qj",
        "outputId": "c0410f76-32e5-4ddb-dc7a-4767efac8624"
      },
      "execution_count": 5,
      "outputs": [
        {
          "output_type": "stream",
          "name": "stdout",
          "text": [
            "hệ số tương quan và pvalue tương ứng là: \n",
            " (0.8836736355854856, 8.931326276852843e-23)\n"
          ]
        }
      ]
    },
    {
      "cell_type": "markdown",
      "source": [
        "Nhận xét: Do pvalue ~0, và hệ số tương quan =0.88 nên giữ thời gian và giá gạo có mối tương quan thuận rất chặt với nhau"
      ],
      "metadata": {
        "id": "-zwLYKEnq9NL"
      }
    },
    {
      "cell_type": "markdown",
      "source": [
        "# **[Thực hành] Kiểm định tương quan trên bộ dữ liệu shopeep_koreantop_clothing_shop_data**"
      ],
      "metadata": {
        "id": "uVJJU1Tpq97O"
      }
    },
    {
      "cell_type": "code",
      "source": [
        "import pandas as pd\n",
        "from scipy import  stats\n",
        "\n",
        "df = pd.read_csv(\"https://s3.ap-southeast-1.amazonaws.com/learn.codegym.vn/media/public/2022/01/20125029/shopeep_koreantop_clothing_shop_data.csv\", encoding=\"UTF-8\")"
      ],
      "metadata": {
        "id": "VAl3Qh-WrMtr"
      },
      "execution_count": 6,
      "outputs": []
    },
    {
      "cell_type": "markdown",
      "source": [
        "Giữa rating_star và follower_count có tương quan với nhau hay không\n",
        "rating_star và follower_count là hai thuộc tính định lượng, sử dụng kiểm định pearson để kiểm định mức độ tương quan giữa hai thuộc tính\n",
        "\n",
        "Giả thuyết không: Giữa hai thuộc tính không có sự tương quan tuyến tính\n",
        "\n",
        "Giả thuyết đối: Giữa hai thuộc tính có sự tương quan tuyến tínhI"
      ],
      "metadata": {
        "id": "uLRl9EBrrYkH"
      }
    },
    {
      "cell_type": "code",
      "source": [
        "df1 = df.filter([\"rating_star\", \"follower_count\"])\n",
        "df1 = df1.dropna()\n",
        "print(stats.pearsonr(df1.rating_star, df1.follower_count))"
      ],
      "metadata": {
        "colab": {
          "base_uri": "https://localhost:8080/"
        },
        "id": "-_gIg2LUrai0",
        "outputId": "be0ae133-9281-40e6-c11f-a0f2972b3a79"
      },
      "execution_count": 7,
      "outputs": [
        {
          "output_type": "stream",
          "name": "stdout",
          "text": [
            "(0.02749005984630104, 0.4552522676325689)\n"
          ]
        }
      ]
    },
    {
      "cell_type": "markdown",
      "source": [
        "do p value > 5% nên không có đủ cơ sở bác bỏ giả thuyết không\n",
        "\n",
        "Kết luận: giữa rating_star và follower_count không có mối tương quan tuyến tính"
      ],
      "metadata": {
        "id": "hiu7XKSSriKl"
      }
    },
    {
      "cell_type": "markdown",
      "source": [
        "# Giữa rating_star và số lượng sản phẩm (item_count) có tương quan với nhau hay không"
      ],
      "metadata": {
        "id": "L8gji0Sqrkfv"
      }
    },
    {
      "cell_type": "markdown",
      "source": [
        "rating_star và item_count là hai thuộc tính định lượng, sử dụng kiểm định pearson để kiểm định mức độ tương quan giữa hai thuộc tính\n",
        "\n",
        "Giả thuyết không: Giữa hai thuộc tính không có sự tương quan tuyến tính\n",
        "\n",
        "Giả thuyết đối: Giữa hai thuộc tính có sự tương quan tuyến tính"
      ],
      "metadata": {
        "id": "V139Zw-rrpcD"
      }
    },
    {
      "cell_type": "code",
      "source": [
        "df1 = df.filter([\"rating_star\", \"item_count\"])\n",
        "df1 = df1.dropna()\n",
        "print(stats.pearsonr(df1.rating_star, df1.item_count))"
      ],
      "metadata": {
        "colab": {
          "base_uri": "https://localhost:8080/"
        },
        "id": "9o7RQa6hrqp_",
        "outputId": "81f4b125-a3f6-461a-c14e-b840323d5f74"
      },
      "execution_count": 8,
      "outputs": [
        {
          "output_type": "stream",
          "name": "stdout",
          "text": [
            "(-0.03732626070920735, 0.3105727616062792)\n"
          ]
        }
      ]
    },
    {
      "cell_type": "markdown",
      "source": [
        "do p value > 5% nên không có đủ cơ sở bác bỏ giả thuyết không\n",
        "\n",
        "Kết luận: giữa rating_star và item_count không có mối tương quan tuyến tính"
      ],
      "metadata": {
        "id": "K5cBTZm3rvXr"
      }
    },
    {
      "cell_type": "markdown",
      "source": [
        "# Giữa is_shopee_verified và việc có cửa hàng trưng bày (is_official_shop) có tương quan với nhau hay không"
      ],
      "metadata": {
        "id": "UQFKkEdSrxeq"
      }
    },
    {
      "cell_type": "markdown",
      "source": [
        "is_shopee_verified và item_count là hai thuộc tính định lượng, sử dụng kiểm định pearson để kiểm định mức độ tương quan giữa hai thuộc tính\n",
        "\n",
        "Giả thuyết không: Giữa hai thuộc tính không có sự tương quan tuyến tính\n",
        "\n",
        "Giả thuyết đối: Giữa hai thuộc tính có sự tương quan tuyến tính"
      ],
      "metadata": {
        "id": "rt39CfMtr1Mj"
      }
    },
    {
      "cell_type": "code",
      "source": [
        "df1 = df.filter([\"is_shopee_verified\", \"item_count\"])\n",
        "df1 = df1.dropna()\n",
        "print(stats.pearsonr(df1.is_shopee_verified, df1.item_count))"
      ],
      "metadata": {
        "colab": {
          "base_uri": "https://localhost:8080/"
        },
        "id": "gAeRanRfr5gz",
        "outputId": "81f094b8-9bbc-4447-a8a4-089c9c00282e"
      },
      "execution_count": 9,
      "outputs": [
        {
          "output_type": "stream",
          "name": "stdout",
          "text": [
            "(0.13335235099108877, 0.0002597301015988025)\n"
          ]
        }
      ]
    }
  ]
}